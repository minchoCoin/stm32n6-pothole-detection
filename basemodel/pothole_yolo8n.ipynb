{
  "nbformat": 4,
  "nbformat_minor": 0,
  "metadata": {
    "colab": {
      "provenance": [],
      "machine_shape": "hm",
      "gpuType": "L4"
    },
    "kernelspec": {
      "name": "python3",
      "display_name": "Python 3"
    },
    "language_info": {
      "name": "python"
    },
    "accelerator": "GPU"
  },
  "cells": [
    {
      "cell_type": "code",
      "source": [
        "!unzip Pothole.v1-raw.yolov8.zip"
      ],
      "metadata": {
        "colab": {
          "base_uri": "https://localhost:8080/"
        },
        "id": "NvgAymaFcS_q",
        "outputId": "fdc71aba-fbea-4b1f-c81a-02e65e5d30f4"
      },
      "execution_count": 1,
      "outputs": [
        {
          "output_type": "stream",
          "name": "stdout",
          "text": [
            "Archive:  Pothole.v1-raw.yolov8.zip\n",
            " extracting: README.dataset.txt      \n",
            " extracting: README.roboflow.txt     \n",
            " extracting: data.yaml               \n",
            "   creating: test/\n",
            "   creating: test/images/\n",
            " extracting: test/images/img-105_jpg.rf.3fe9dff3d1631e79ecb480ff403bcb86.jpg  \n",
            " extracting: test/images/img-107_jpg.rf.2e40485785f6e5e2efec404301b235c2.jpg  \n",
            " extracting: test/images/img-146_jpg.rf.61be25b3053a51f622a244980545df2b.jpg  \n",
            " extracting: test/images/img-161_jpg.rf.211541e7178a4a93ec0680f26b905427.jpg  \n",
            " extracting: test/images/img-168_jpg.rf.af3590e07b06b43e91fa53990ff94af3.jpg  \n",
            " extracting: test/images/img-179_jpg.rf.8632eb0d9b75fefe144829e67b75015a.jpg  \n",
            " extracting: test/images/img-195_jpg.rf.f77a8f4d432a9a89235168ff8e09a650.jpg  \n",
            " extracting: test/images/img-196_jpg.rf.c1e105382a0bb8d329959cea45173cdf.jpg  \n",
            " extracting: test/images/img-217_jpg.rf.20e267cdb167c43140e67ec9f5328040.jpg  \n",
            " extracting: test/images/img-238_jpg.rf.f146df7999e374dbeaba65f92c518159.jpg  \n",
            " extracting: test/images/img-23_jpg.rf.e6aa0daf83e72ccbf1ea10eb6a6ab3bd.jpg  \n",
            " extracting: test/images/img-245_jpg.rf.1c9b49a366bda1cf64dbfac2a946cd38.jpg  \n",
            " extracting: test/images/img-264_jpg.rf.a98f3f39b1afdea9ce3155bbe107c6c1.jpg  \n",
            " extracting: test/images/img-269_jpg.rf.f51d9eb8d02a34ac01d4a486cbfbdd4f.jpg  \n",
            " extracting: test/images/img-276_jpg.rf.acc167b63d79ab3b99fd64b4109f86d4.jpg  \n",
            " extracting: test/images/img-282_jpg.rf.a0ac2a228cf0edb961017e538356b5af.jpg  \n",
            " extracting: test/images/img-294_jpg.rf.a16953e9091e3eecfc338ed3044ef294.jpg  \n",
            " extracting: test/images/img-300_jpg.rf.6b7b035dff1cda092ce3dc22be8d0135.jpg  \n",
            " extracting: test/images/img-307_jpg.rf.65a7065124972969c3efbbca04122668.jpg  \n",
            " extracting: test/images/img-308_jpg.rf.454dbf8eb0253ddef84789d3e67290c5.jpg  \n",
            " extracting: test/images/img-334_jpg.rf.967014f8076ad78a0828aa4cb9014da2.jpg  \n",
            " extracting: test/images/img-336_jpg.rf.eeafb6921ceff278aa8e24afe9f78f8a.jpg  \n",
            " extracting: test/images/img-337_jpg.rf.aee9516f4db8d93d1fcf7071196974f9.jpg  \n",
            " extracting: test/images/img-343_jpg.rf.64b8e5ed7aa9153427c52de5812b3ab2.jpg  \n",
            " extracting: test/images/img-344_jpg.rf.dd4eebb8836b8efe2a2cce77d61349b7.jpg  \n",
            " extracting: test/images/img-350_jpg.rf.643e7315948dd95c0787f6dc5c938ff3.jpg  \n",
            " extracting: test/images/img-362_jpg.rf.6363ec1a7603671afb1887d9f16c03e7.jpg  \n",
            " extracting: test/images/img-364_jpg.rf.e385283baa4507e9b6a79c9e92c4b453.jpg  \n",
            " extracting: test/images/img-36_jpg.rf.47f0fb502327ec69d5a041581727a149.jpg  \n",
            " extracting: test/images/img-370_jpg.rf.05c61289bcb823fd9234f20448a9ff3a.jpg  \n",
            " extracting: test/images/img-371_jpg.rf.a893e0bdc6fda0ba1b2a7f07d56cec23.jpg  \n",
            " extracting: test/images/img-390_jpg.rf.3eeb4356ab769c112edf7f482110f8ee.jpg  \n",
            " extracting: test/images/img-394_jpg.rf.2182e193f33ed5bcce45df7df27032f7.jpg  \n",
            " extracting: test/images/img-397_jpg.rf.a566bd12530cf6093cd6329a2b4c9e7d.jpg  \n",
            " extracting: test/images/img-398_jpg.rf.0c484369fdb23fdec1b9250477fc5d1d.jpg  \n",
            " extracting: test/images/img-410_jpg.rf.5f10f2bbde7900b5348aeaed6116b901.jpg  \n",
            " extracting: test/images/img-415_jpg.rf.2285ec32b9bdc584221e193dc135e3fd.jpg  \n",
            " extracting: test/images/img-42_jpg.rf.532fb8eb05b1efc570c5e4165e614201.jpg  \n",
            " extracting: test/images/img-430_jpg.rf.f23ac782ee062c81370384e3ea211b5d.jpg  \n",
            " extracting: test/images/img-434_jpg.rf.9e48a92f792098919bba712a29b05065.jpg  \n",
            " extracting: test/images/img-43_jpg.rf.a63cf022f8ba7dbadc62c5d274547b79.jpg  \n",
            " extracting: test/images/img-440_jpg.rf.4475e2f277c4b84b9d5ae3095916bffa.jpg  \n",
            " extracting: test/images/img-449_jpg.rf.a88013566cf72d8e523b8517104983d1.jpg  \n",
            " extracting: test/images/img-44_jpg.rf.c0be863d6030f5d0cb241331c14ee532.jpg  \n",
            " extracting: test/images/img-452_jpg.rf.005f706e703f7518562fc3ec4df0543f.jpg  \n",
            " extracting: test/images/img-461_jpg.rf.c8f397ea98b554fde90a8fa53d876fa0.jpg  \n",
            " extracting: test/images/img-463_jpg.rf.1873f1b5bff6ed336b03ff3dfabb69e4.jpg  \n",
            " extracting: test/images/img-472_jpg.rf.d71e2cae627685f2ad46e4182bbfb68a.jpg  \n",
            " extracting: test/images/img-477_jpg.rf.ac13626d46335c39852c19d1770abd10.jpg  \n",
            " extracting: test/images/img-47_jpg.rf.53aba5861cc3e2c2f7783276288b2b97.jpg  \n",
            " extracting: test/images/img-486_jpg.rf.7469bae9d18a0cf9dd690fbbcde56298.jpg  \n",
            " extracting: test/images/img-501_jpg.rf.d2ea0e0d6091ce43d964d62e7ac02231.jpg  \n",
            " extracting: test/images/img-520_jpg.rf.ba86706dc4249198011497cafcb4a881.jpg  \n",
            " extracting: test/images/img-525_jpg.rf.31bb542f59dd1c64d4af0952f14c76e3.jpg  \n",
            " extracting: test/images/img-536_jpg.rf.a0b5c2d9388b4cb55785d5fa9e198a5c.jpg  \n",
            " extracting: test/images/img-576_jpg.rf.f6cd32a51b0c518b58ff750ecab687d1.jpg  \n",
            " extracting: test/images/img-588_jpg.rf.a1673547626abed4ad61089fa41b0365.jpg  \n",
            " extracting: test/images/img-590_jpg.rf.7ee475f30ca7858338589be9820a3978.jpg  \n",
            " extracting: test/images/img-621_jpg.rf.9721804149e82d9ebc58f8d19a01d044.jpg  \n",
            " extracting: test/images/img-631_jpg.rf.86bcf4f20ded917eb31426fe83043df3.jpg  \n",
            " extracting: test/images/img-634_jpg.rf.42d6e4ebdda859ab935130b75ae5808f.jpg  \n",
            " extracting: test/images/img-65_jpg.rf.9e22afc3c2cf318239352e43a97a7241.jpg  \n",
            " extracting: test/images/img-68_jpg.rf.c8886ded10d01454f789376e4234ae74.jpg  \n",
            " extracting: test/images/img-72_jpg.rf.02fb39f41fc685d8b616b0751976a8a3.jpg  \n",
            " extracting: test/images/img-79_jpg.rf.3b2198b179f00a052f569a6224172c8a.jpg  \n",
            " extracting: test/images/img-82_jpg.rf.851a545b1b004e7303844e4779d3272c.jpg  \n",
            " extracting: test/images/img-98_jpg.rf.667209472947ff4d519f65c6e206a7c3.jpg  \n",
            "   creating: test/labels/\n",
            " extracting: test/labels/img-105_jpg.rf.3fe9dff3d1631e79ecb480ff403bcb86.txt  \n",
            " extracting: test/labels/img-107_jpg.rf.2e40485785f6e5e2efec404301b235c2.txt  \n",
            " extracting: test/labels/img-146_jpg.rf.61be25b3053a51f622a244980545df2b.txt  \n",
            " extracting: test/labels/img-161_jpg.rf.211541e7178a4a93ec0680f26b905427.txt  \n",
            " extracting: test/labels/img-168_jpg.rf.af3590e07b06b43e91fa53990ff94af3.txt  \n",
            " extracting: test/labels/img-179_jpg.rf.8632eb0d9b75fefe144829e67b75015a.txt  \n",
            " extracting: test/labels/img-195_jpg.rf.f77a8f4d432a9a89235168ff8e09a650.txt  \n",
            " extracting: test/labels/img-196_jpg.rf.c1e105382a0bb8d329959cea45173cdf.txt  \n",
            " extracting: test/labels/img-217_jpg.rf.20e267cdb167c43140e67ec9f5328040.txt  \n",
            " extracting: test/labels/img-238_jpg.rf.f146df7999e374dbeaba65f92c518159.txt  \n",
            " extracting: test/labels/img-23_jpg.rf.e6aa0daf83e72ccbf1ea10eb6a6ab3bd.txt  \n",
            " extracting: test/labels/img-245_jpg.rf.1c9b49a366bda1cf64dbfac2a946cd38.txt  \n",
            " extracting: test/labels/img-264_jpg.rf.a98f3f39b1afdea9ce3155bbe107c6c1.txt  \n",
            " extracting: test/labels/img-269_jpg.rf.f51d9eb8d02a34ac01d4a486cbfbdd4f.txt  \n",
            " extracting: test/labels/img-276_jpg.rf.acc167b63d79ab3b99fd64b4109f86d4.txt  \n",
            " extracting: test/labels/img-282_jpg.rf.a0ac2a228cf0edb961017e538356b5af.txt  \n",
            " extracting: test/labels/img-294_jpg.rf.a16953e9091e3eecfc338ed3044ef294.txt  \n",
            " extracting: test/labels/img-300_jpg.rf.6b7b035dff1cda092ce3dc22be8d0135.txt  \n",
            " extracting: test/labels/img-307_jpg.rf.65a7065124972969c3efbbca04122668.txt  \n",
            " extracting: test/labels/img-308_jpg.rf.454dbf8eb0253ddef84789d3e67290c5.txt  \n",
            " extracting: test/labels/img-334_jpg.rf.967014f8076ad78a0828aa4cb9014da2.txt  \n",
            " extracting: test/labels/img-336_jpg.rf.eeafb6921ceff278aa8e24afe9f78f8a.txt  \n",
            " extracting: test/labels/img-337_jpg.rf.aee9516f4db8d93d1fcf7071196974f9.txt  \n",
            " extracting: test/labels/img-343_jpg.rf.64b8e5ed7aa9153427c52de5812b3ab2.txt  \n",
            " extracting: test/labels/img-344_jpg.rf.dd4eebb8836b8efe2a2cce77d61349b7.txt  \n",
            " extracting: test/labels/img-350_jpg.rf.643e7315948dd95c0787f6dc5c938ff3.txt  \n",
            " extracting: test/labels/img-362_jpg.rf.6363ec1a7603671afb1887d9f16c03e7.txt  \n",
            " extracting: test/labels/img-364_jpg.rf.e385283baa4507e9b6a79c9e92c4b453.txt  \n",
            " extracting: test/labels/img-36_jpg.rf.47f0fb502327ec69d5a041581727a149.txt  \n",
            " extracting: test/labels/img-370_jpg.rf.05c61289bcb823fd9234f20448a9ff3a.txt  \n",
            " extracting: test/labels/img-371_jpg.rf.a893e0bdc6fda0ba1b2a7f07d56cec23.txt  \n",
            " extracting: test/labels/img-390_jpg.rf.3eeb4356ab769c112edf7f482110f8ee.txt  \n",
            " extracting: test/labels/img-394_jpg.rf.2182e193f33ed5bcce45df7df27032f7.txt  \n",
            " extracting: test/labels/img-397_jpg.rf.a566bd12530cf6093cd6329a2b4c9e7d.txt  \n",
            " extracting: test/labels/img-398_jpg.rf.0c484369fdb23fdec1b9250477fc5d1d.txt  \n",
            " extracting: test/labels/img-410_jpg.rf.5f10f2bbde7900b5348aeaed6116b901.txt  \n",
            " extracting: test/labels/img-415_jpg.rf.2285ec32b9bdc584221e193dc135e3fd.txt  \n",
            " extracting: test/labels/img-42_jpg.rf.532fb8eb05b1efc570c5e4165e614201.txt  \n",
            " extracting: test/labels/img-430_jpg.rf.f23ac782ee062c81370384e3ea211b5d.txt  \n",
            " extracting: test/labels/img-434_jpg.rf.9e48a92f792098919bba712a29b05065.txt  \n",
            " extracting: test/labels/img-43_jpg.rf.a63cf022f8ba7dbadc62c5d274547b79.txt  \n",
            " extracting: test/labels/img-440_jpg.rf.4475e2f277c4b84b9d5ae3095916bffa.txt  \n",
            " extracting: test/labels/img-449_jpg.rf.a88013566cf72d8e523b8517104983d1.txt  \n",
            " extracting: test/labels/img-44_jpg.rf.c0be863d6030f5d0cb241331c14ee532.txt  \n",
            " extracting: test/labels/img-452_jpg.rf.005f706e703f7518562fc3ec4df0543f.txt  \n",
            " extracting: test/labels/img-461_jpg.rf.c8f397ea98b554fde90a8fa53d876fa0.txt  \n",
            " extracting: test/labels/img-463_jpg.rf.1873f1b5bff6ed336b03ff3dfabb69e4.txt  \n",
            " extracting: test/labels/img-472_jpg.rf.d71e2cae627685f2ad46e4182bbfb68a.txt  \n",
            " extracting: test/labels/img-477_jpg.rf.ac13626d46335c39852c19d1770abd10.txt  \n",
            " extracting: test/labels/img-47_jpg.rf.53aba5861cc3e2c2f7783276288b2b97.txt  \n",
            " extracting: test/labels/img-486_jpg.rf.7469bae9d18a0cf9dd690fbbcde56298.txt  \n",
            " extracting: test/labels/img-501_jpg.rf.d2ea0e0d6091ce43d964d62e7ac02231.txt  \n",
            " extracting: test/labels/img-520_jpg.rf.ba86706dc4249198011497cafcb4a881.txt  \n",
            " extracting: test/labels/img-525_jpg.rf.31bb542f59dd1c64d4af0952f14c76e3.txt  \n",
            " extracting: test/labels/img-536_jpg.rf.a0b5c2d9388b4cb55785d5fa9e198a5c.txt  \n",
            " extracting: test/labels/img-576_jpg.rf.f6cd32a51b0c518b58ff750ecab687d1.txt  \n",
            " extracting: test/labels/img-588_jpg.rf.a1673547626abed4ad61089fa41b0365.txt  \n",
            " extracting: test/labels/img-590_jpg.rf.7ee475f30ca7858338589be9820a3978.txt  \n",
            " extracting: test/labels/img-621_jpg.rf.9721804149e82d9ebc58f8d19a01d044.txt  \n",
            " extracting: test/labels/img-631_jpg.rf.86bcf4f20ded917eb31426fe83043df3.txt  \n",
            " extracting: test/labels/img-634_jpg.rf.42d6e4ebdda859ab935130b75ae5808f.txt  \n",
            " extracting: test/labels/img-65_jpg.rf.9e22afc3c2cf318239352e43a97a7241.txt  \n",
            " extracting: test/labels/img-68_jpg.rf.c8886ded10d01454f789376e4234ae74.txt  \n",
            " extracting: test/labels/img-72_jpg.rf.02fb39f41fc685d8b616b0751976a8a3.txt  \n",
            " extracting: test/labels/img-79_jpg.rf.3b2198b179f00a052f569a6224172c8a.txt  \n",
            " extracting: test/labels/img-82_jpg.rf.851a545b1b004e7303844e4779d3272c.txt  \n",
            " extracting: test/labels/img-98_jpg.rf.667209472947ff4d519f65c6e206a7c3.txt  \n",
            "   creating: train/\n",
            "   creating: train/images/\n",
            " extracting: train/images/img-100_jpg.rf.233751cac3399aa80b5e58a2afbb753a.jpg  \n",
            " extracting: train/images/img-101_jpg.rf.f213d98946c4f8858a5bf3200c89e39c.jpg  \n",
            " extracting: train/images/img-102_jpg.rf.16c56ff8f761aec963d9b57aa1b2d3fd.jpg  \n",
            " extracting: train/images/img-103_jpg.rf.09abf1a8e3477718e143255af3534d29.jpg  \n",
            " extracting: train/images/img-108_jpg.rf.a35e86abc558a98f252bfc10e49fd6d9.jpg  \n",
            " extracting: train/images/img-109_jpg.rf.add373710d0d425bd9340c33878e7d42.jpg  \n",
            " extracting: train/images/img-10_jpg.rf.eaceaaa6f119cf6eb49edc1bc92efaa2.jpg  \n",
            " extracting: train/images/img-110_jpg.rf.0390f81a2c5b2ad5676a8eb5b043d743.jpg  \n",
            " extracting: train/images/img-111_jpg.rf.d7e58630e249c45d8c1d564d847dc236.jpg  \n",
            " extracting: train/images/img-113_jpg.rf.31b41591a5e0c7b0aa02e133e79e1e2a.jpg  \n",
            " extracting: train/images/img-114_jpg.rf.b58901654a45a559a41ffaa25f1bf741.jpg  \n",
            " extracting: train/images/img-115_jpg.rf.ebc1ec2d7bb5caf80d06511d74f9e2da.jpg  \n",
            " extracting: train/images/img-117_jpg.rf.56a7e3b29e60b28e25b3f4a3c7817605.jpg  \n",
            " extracting: train/images/img-119_jpg.rf.5df904c99a0e765190d9421a4bf04bc6.jpg  \n",
            " extracting: train/images/img-11_jpg.rf.b7a2e18571a53d7512f101f224b7c794.jpg  \n",
            " extracting: train/images/img-121_jpg.rf.d202af2960b0bb1928539a6fcb3cdbfd.jpg  \n",
            " extracting: train/images/img-123_jpg.rf.8ae4c2726246a3dea5d41f6ba3a64639.jpg  \n",
            " extracting: train/images/img-124_jpg.rf.fdc89fc9a29a16b57ad54dd3c63e7952.jpg  \n",
            " extracting: train/images/img-126_jpg.rf.eab9b684c8570533e5cd43517776eeec.jpg  \n",
            " extracting: train/images/img-127_jpg.rf.cda9134fdf2c217082118b38d27fd7ee.jpg  \n",
            " extracting: train/images/img-128_jpg.rf.6d1435fcdbcb19d4ff22f1d865026470.jpg  \n",
            " extracting: train/images/img-129_jpg.rf.fbd5c4841019062274b4e9d1daeab4c3.jpg  \n",
            " extracting: train/images/img-12_jpg.rf.473a95f653f8c7227e4bc5c73f8ed19b.jpg  \n",
            " extracting: train/images/img-131_jpg.rf.6bc87513d54494e92b56968b81d290b5.jpg  \n",
            " extracting: train/images/img-134_jpg.rf.833f57b2c592a23189208dcb656eaaa2.jpg  \n",
            " extracting: train/images/img-135_jpg.rf.5f0fb06ed79bee89c8378fc74adf59ec.jpg  \n",
            " extracting: train/images/img-136_jpg.rf.3372e97742e4ded8b208f90043981012.jpg  \n",
            " extracting: train/images/img-137_jpg.rf.5c3cf778bb884760e276baacc8372f66.jpg  \n",
            " extracting: train/images/img-138_jpg.rf.ec6549719f138be69aa49f6cdc068227.jpg  \n",
            " extracting: train/images/img-139_jpg.rf.af2a2cdcef3c3e01d9ad30e9f058e93e.jpg  \n",
            " extracting: train/images/img-13_jpg.rf.a4db51428d0461f9ed82e12eb6d87a03.jpg  \n",
            " extracting: train/images/img-141_jpg.rf.9fb75a7f4520090a669516f6c16c105e.jpg  \n",
            " extracting: train/images/img-142_jpg.rf.324ee78ee3122e5a751d32198a2e11cb.jpg  \n",
            " extracting: train/images/img-143_jpg.rf.b4553a89ca02d904d7d3d8b601d92033.jpg  \n",
            " extracting: train/images/img-144_jpg.rf.2e98a93812eee1ad65ad7e3f9f5620ad.jpg  \n",
            " extracting: train/images/img-148_jpg.rf.eddf84184c0a99958850113c36e7b754.jpg  \n",
            " extracting: train/images/img-149_jpg.rf.44eff0efcbd1ccfa08da8768642f71c9.jpg  \n",
            " extracting: train/images/img-150_jpg.rf.f3ebd01cb708363657a8f21645c06c39.jpg  \n",
            " extracting: train/images/img-151_jpg.rf.52e5bb5d308649772ceef0bfcde24f96.jpg  \n",
            " extracting: train/images/img-152_jpg.rf.621b5126c90ae5176bc3d2415fda4fe8.jpg  \n",
            " extracting: train/images/img-155_jpg.rf.7c1dd28f3db86d175cca8437cece1d08.jpg  \n",
            " extracting: train/images/img-156_jpg.rf.ff820d5c1ff5fc1a1fc27fa5647cc146.jpg  \n",
            " extracting: train/images/img-157_jpg.rf.764e348f9144fed2fd906c23ff15afe5.jpg  \n",
            " extracting: train/images/img-158_jpg.rf.80110529bda206547f2c5482abfca272.jpg  \n",
            " extracting: train/images/img-159_jpg.rf.9a2234e70393ae42ad518c7c34b031c5.jpg  \n",
            " extracting: train/images/img-15_jpg.rf.b937fa68f73a1ee37d832a279f432941.jpg  \n",
            " extracting: train/images/img-160_jpg.rf.ef4e05f9ef187938ab9bd0321c4dcf4d.jpg  \n",
            " extracting: train/images/img-162_jpg.rf.0459e44683fd65132e9e2558f7cfcc6a.jpg  \n",
            " extracting: train/images/img-163_jpg.rf.232bf43b16b71f5c5581f7d908e3e253.jpg  \n",
            " extracting: train/images/img-164_jpg.rf.cb6665fd71f9ea53c23dc545be31d2e1.jpg  \n",
            " extracting: train/images/img-165_jpg.rf.a4b4be5d004a62f1bbf126232edb2785.jpg  \n",
            " extracting: train/images/img-167_jpg.rf.a2c9b6a4a769135a8f5f7e671b636ac8.jpg  \n",
            " extracting: train/images/img-169_jpg.rf.9ad23ea6b668a59c48e362859efe3515.jpg  \n",
            " extracting: train/images/img-16_jpg.rf.3018a4883623e53e929435fc084c2200.jpg  \n",
            " extracting: train/images/img-170_jpg.rf.448c70ae76619d82c629389410701f9c.jpg  \n",
            " extracting: train/images/img-172_jpg.rf.d849de955bfb8608552f1adf347f3ef1.jpg  \n",
            " extracting: train/images/img-174_jpg.rf.63afee69864babbb4a21a4b8d2eff7d9.jpg  \n",
            " extracting: train/images/img-175_jpg.rf.edaa0f7c577755474ff285ff38eec09e.jpg  \n",
            " extracting: train/images/img-176_jpg.rf.36e2a3416c78152aeb6ea6f1a20e2ea9.jpg  \n",
            " extracting: train/images/img-177_jpg.rf.218561bceb58b04e0bf46a7c297179a0.jpg  \n",
            " extracting: train/images/img-178_jpg.rf.d97b9cc2a1e25824ea668642fe4df36e.jpg  \n",
            " extracting: train/images/img-17_jpg.rf.66c2a0fce4e0de3bf1d6d6c6101b1d2e.jpg  \n",
            " extracting: train/images/img-180_jpg.rf.23e2fffafadf7ef2741d68402213261b.jpg  \n",
            " extracting: train/images/img-181_jpg.rf.27e6333bebd7c84f8b89871c21b1608b.jpg  \n",
            " extracting: train/images/img-182_jpg.rf.4a3748ca6898a245a5474d963734c12f.jpg  \n",
            " extracting: train/images/img-183_jpg.rf.4358b5ae9b05895a41d00d84a0e17ec7.jpg  \n",
            " extracting: train/images/img-185_jpg.rf.98a5add77bc81de0d192cd6c6a50f933.jpg  \n",
            " extracting: train/images/img-186_jpg.rf.c354a07266904a6e8212056359600aec.jpg  \n",
            " extracting: train/images/img-187_jpg.rf.a5d70ec1463db2d5d0c48ef494605977.jpg  \n",
            " extracting: train/images/img-188_jpg.rf.e25310df0413037e398729953a4e8240.jpg  \n",
            " extracting: train/images/img-189_jpg.rf.2afafdf425170ac8e1cbb58c488c4c4a.jpg  \n",
            " extracting: train/images/img-18_jpg.rf.f79a657ff81d70927c469283a9e0a262.jpg  \n",
            " extracting: train/images/img-191_jpg.rf.e82152e059f62a6559daedf1d1ae62a3.jpg  \n",
            " extracting: train/images/img-192_jpg.rf.41da280cd625ff7e2b15dde2afb0c11a.jpg  \n",
            " extracting: train/images/img-193_jpg.rf.d2949c3bad35af6229b470554825cd54.jpg  \n",
            " extracting: train/images/img-194_jpg.rf.fe81115eda78ee8dcefcbc08dcdc17ef.jpg  \n",
            " extracting: train/images/img-197_jpg.rf.f9b2583df29a86d60bcfe3eea1dab4e9.jpg  \n",
            " extracting: train/images/img-198_jpg.rf.0b1cb1e07fefe54965584465087f960a.jpg  \n",
            " extracting: train/images/img-199_jpg.rf.6120711f954526a2c6fa1b94fd7bd4ec.jpg  \n",
            " extracting: train/images/img-19_jpg.rf.399478ab1a20c3fcb63dc9e3d5c425f5.jpg  \n",
            " extracting: train/images/img-1_jpg.rf.04766deb9036fc43721c26f431c3eb3d.jpg  \n",
            " extracting: train/images/img-202_jpg.rf.e0f6ad1db0c11daafb4625b1b6678faa.jpg  \n",
            " extracting: train/images/img-203_jpg.rf.29fcf9b56cd28acd7b8f97d171463785.jpg  \n",
            " extracting: train/images/img-205_jpg.rf.d1f737acba43ae7bf7374d2191904719.jpg  \n",
            " extracting: train/images/img-207_jpg.rf.7a8009c01c21717ead5486e01e2580b2.jpg  \n",
            " extracting: train/images/img-208_jpg.rf.137d967b7b8672f47e86429a98b89252.jpg  \n",
            " extracting: train/images/img-209_jpg.rf.50a35176830c86029ddfb4d3af626c08.jpg  \n",
            " extracting: train/images/img-211_jpg.rf.4aa6ae6b2af90b1fff1b5075a215641d.jpg  \n",
            " extracting: train/images/img-212_jpg.rf.5f7dc0f25419dc8a67116ce313c83707.jpg  \n",
            " extracting: train/images/img-213_jpg.rf.5a46fcca214ab83b01c26743a9dc3e72.jpg  \n",
            " extracting: train/images/img-214_jpg.rf.a35d0cd16266cfb261319a66b469ac89.jpg  \n",
            " extracting: train/images/img-215_jpg.rf.b5e67b3aafeb154d5c904a6c663718b7.jpg  \n",
            " extracting: train/images/img-216_jpg.rf.1a3dd495b3e6ba5f9cc43cec992021d7.jpg  \n",
            " extracting: train/images/img-218_jpg.rf.87be625afd1b1536ab3d9f5d0a000751.jpg  \n",
            " extracting: train/images/img-21_jpg.rf.4ae2f55eff42580278ecf92ee177fdd1.jpg  \n",
            " extracting: train/images/img-220_jpg.rf.4ffdf8738ac89d5fccf5d1e08c169af8.jpg  \n",
            " extracting: train/images/img-221_jpg.rf.9f0d03d552a78e97c74f75c74be35e38.jpg  \n",
            " extracting: train/images/img-222_jpg.rf.a00c413e9a6bafb705147f7534664ed3.jpg  \n",
            " extracting: train/images/img-223_jpg.rf.5ffeb123361acc79233a82037e058c4c.jpg  \n",
            " extracting: train/images/img-224_jpg.rf.9cdf248fe4332b59a353f0bc70a0ea01.jpg  \n",
            " extracting: train/images/img-226_jpg.rf.5f9874a019437b70987ae2aa665878b7.jpg  \n",
            " extracting: train/images/img-227_jpg.rf.4e7fd2692cefbe4e52f4198d7f8e89ff.jpg  \n",
            " extracting: train/images/img-228_jpg.rf.8170bf0af3eda9eb2c07bca7884a06a5.jpg  \n",
            " extracting: train/images/img-229_jpg.rf.d4582c3c84f78d8304ed684e4af48594.jpg  \n",
            " extracting: train/images/img-230_jpg.rf.39bac5bc33e3e0f64de17664289ec867.jpg  \n",
            " extracting: train/images/img-231_jpg.rf.1834b79b17ce894fbdc7c5334407d877.jpg  \n",
            " extracting: train/images/img-232_jpg.rf.e586c2966df762ffc459b84153da5380.jpg  \n",
            " extracting: train/images/img-233_jpg.rf.95f53597d4cd6932e86dce9fdbcc54c9.jpg  \n",
            " extracting: train/images/img-234_jpg.rf.cf4a8f8c19d33c53f38d6a19b3dd054b.jpg  \n",
            " extracting: train/images/img-235_jpg.rf.030dcf4264c55859ef30294c84f77482.jpg  \n",
            " extracting: train/images/img-236_jpg.rf.67dcb4e2f648c09a7c1bdc4e41fcb7ad.jpg  \n",
            " extracting: train/images/img-237_jpg.rf.d68dadf35426df3831bf5af536b2ebde.jpg  \n",
            " extracting: train/images/img-240_jpg.rf.06da3127a48b2f044201c9b2f9755109.jpg  \n",
            " extracting: train/images/img-241_jpg.rf.8d98e10538fa3d678b4af250991b8a94.jpg  \n",
            " extracting: train/images/img-242_jpg.rf.b18c9a478cd5489f76390ff90e9155dc.jpg  \n",
            " extracting: train/images/img-246_jpg.rf.5093ecb9a803a42964980674d3f5d2be.jpg  \n",
            " extracting: train/images/img-247_jpg.rf.506670aed39eb7dd2d892350788582fb.jpg  \n",
            " extracting: train/images/img-248_jpg.rf.372df8d99477b8990af9995308c81215.jpg  \n",
            " extracting: train/images/img-249_jpg.rf.9530479784ad79a1ede2b51e62c968b4.jpg  \n",
            " extracting: train/images/img-250_jpg.rf.7632980b590d300428e1072e1f13cef1.jpg  \n",
            " extracting: train/images/img-251_jpg.rf.2e205a42d00f6497563dedaba7387613.jpg  \n",
            " extracting: train/images/img-252_jpg.rf.7d99b08ebba1e9e530480e62891dbf54.jpg  \n",
            " extracting: train/images/img-253_jpg.rf.7465b1816c7c3025abb42dfb5d1430e1.jpg  \n",
            " extracting: train/images/img-255_jpg.rf.bfdc24d35627656fe644e3a7121c65fa.jpg  \n",
            " extracting: train/images/img-256_jpg.rf.c762541217b28d3470b203beabf29bf7.jpg  \n",
            " extracting: train/images/img-257_jpg.rf.48ba1caa7a209835d7b6d35a797b7088.jpg  \n",
            " extracting: train/images/img-258_jpg.rf.e8fb0662316d1be8867dd41fbee5ddde.jpg  \n",
            " extracting: train/images/img-259_jpg.rf.86aaa968ce87cb21d2649e95839c244d.jpg  \n",
            " extracting: train/images/img-260_jpg.rf.3acd135908f14f0e9f68192fa13ea465.jpg  \n",
            " extracting: train/images/img-261_jpg.rf.e3583096f4d7e2a182149ba9afbcfc92.jpg  \n",
            " extracting: train/images/img-262_jpg.rf.3db190e680343ed338296042b9f5e3a4.jpg  \n",
            " extracting: train/images/img-263_jpg.rf.892eb0397a70a352b0bc33f6a147d675.jpg  \n",
            " extracting: train/images/img-265_jpg.rf.e4c76dcfe49ab14372397a9ff5f153e8.jpg  \n",
            " extracting: train/images/img-266_jpg.rf.6240ac9750b2791bd481a0cb694b4a3d.jpg  \n",
            " extracting: train/images/img-267_jpg.rf.f50b4eccea93fe17ebcf2e4076140c88.jpg  \n",
            " extracting: train/images/img-268_jpg.rf.08736c012f711f24b023c914e4205149.jpg  \n",
            " extracting: train/images/img-26_jpg.rf.f941793f07a3bc5dda0723a0d30041ee.jpg  \n",
            " extracting: train/images/img-270_jpg.rf.ae32377ec34641192544670bf004739e.jpg  \n",
            " extracting: train/images/img-272_jpg.rf.8c1a71784795d3ee8535d76931594c9f.jpg  \n",
            " extracting: train/images/img-273_jpg.rf.473d6e156e61ed75a57253643ab0328f.jpg  \n",
            " extracting: train/images/img-274_jpg.rf.816b2e4bda9e51204bf2cd2aa209fe50.jpg  \n",
            " extracting: train/images/img-275_jpg.rf.59c68c48a12960c7ea86163d39f0ea4d.jpg  \n",
            " extracting: train/images/img-277_jpg.rf.70a35da45babe2c725dbe4fa639e89d2.jpg  \n",
            " extracting: train/images/img-278_jpg.rf.59aabb4c0e30640a912b669ebad9cd8d.jpg  \n",
            " extracting: train/images/img-279_jpg.rf.126ee458fab6a3983e7336bd4408e701.jpg  \n",
            " extracting: train/images/img-280_jpg.rf.53dd1da4cff0af87558cff72138794e9.jpg  \n",
            " extracting: train/images/img-281_jpg.rf.09e7fcea8709dc8bd7d799bd346b3d0f.jpg  \n",
            " extracting: train/images/img-283_jpg.rf.b8c7a6ea440f9683c3f76d5754599a4f.jpg  \n",
            " extracting: train/images/img-284_jpg.rf.56a1dfdd07c542ee7af63580db90c1fb.jpg  \n",
            " extracting: train/images/img-285_jpg.rf.7f7cf6ab5dad29d75936719c450faeed.jpg  \n",
            " extracting: train/images/img-287_jpg.rf.19a805e3a1845683bb4f47af51b8de37.jpg  \n",
            " extracting: train/images/img-288_jpg.rf.8067a6a9d79ea3dcb37e47e1e29ef88c.jpg  \n",
            " extracting: train/images/img-289_jpg.rf.39d1543a1cab281dc5febdc1a16c9a4b.jpg  \n",
            " extracting: train/images/img-290_jpg.rf.6942266560522f82066038b541027d9d.jpg  \n",
            " extracting: train/images/img-291_jpg.rf.0c1b9f687f136c9b1970efaa75d32231.jpg  \n",
            " extracting: train/images/img-292_jpg.rf.e4018e1f8e44152360a48e5232297f2a.jpg  \n",
            " extracting: train/images/img-293_jpg.rf.ca6c3ef3ac903d9e5263cc24099bbb61.jpg  \n",
            " extracting: train/images/img-295_jpg.rf.9cfbc106f3396aeb13d3f99c391ce64b.jpg  \n",
            " extracting: train/images/img-296_jpg.rf.3e33f2944f9d71c053850d09577d220d.jpg  \n",
            " extracting: train/images/img-297_jpg.rf.e43461bec653e71c229ca2c309aca359.jpg  \n",
            " extracting: train/images/img-298_jpg.rf.cf838b3dd4c5b5cc89710916246f3a87.jpg  \n",
            " extracting: train/images/img-299_jpg.rf.175bd48885a00ca91af2cde359d324ba.jpg  \n",
            " extracting: train/images/img-2_jpg.rf.962d887972144063f0280f7969d29c23.jpg  \n",
            " extracting: train/images/img-301_jpg.rf.51e9d06820d0d552e497d66f5981e7a1.jpg  \n",
            " extracting: train/images/img-302_jpg.rf.c7375ad32e8d0337bd7d27034f3764eb.jpg  \n",
            " extracting: train/images/img-304_jpg.rf.766574a013cc869e66df180f60295457.jpg  \n",
            " extracting: train/images/img-305_jpg.rf.564405f2ae91fe75f3f54639e295f1e2.jpg  \n",
            " extracting: train/images/img-306_jpg.rf.67a9eb5c5890617d59e58e98a0a86d69.jpg  \n",
            " extracting: train/images/img-309_jpg.rf.e8b8a5e1969e8e71b448aa7c83206264.jpg  \n",
            " extracting: train/images/img-30_jpg.rf.57889ecb807059b4adc0032995228d2a.jpg  \n",
            " extracting: train/images/img-310_jpg.rf.30a2a42ac01cf4b630874592f4d801ef.jpg  \n",
            " extracting: train/images/img-313_jpg.rf.9ba7cf2cdf11c9fe19b4ad52db2ecac7.jpg  \n",
            " extracting: train/images/img-314_jpg.rf.a3e7ac0036589996b9c9eb1eb44fb1ad.jpg  \n",
            " extracting: train/images/img-315_jpg.rf.654c8e0f66209d380f063ed5bf9d5187.jpg  \n",
            " extracting: train/images/img-316_jpg.rf.c144f8327780a2f710a79c3c2b5d0f07.jpg  \n",
            " extracting: train/images/img-317_jpg.rf.770d0c5b7340eea3208d88b0800066da.jpg  \n",
            " extracting: train/images/img-318_jpg.rf.3cdda5b6cffa77075c11b9bdfd8cf26f.jpg  \n",
            " extracting: train/images/img-319_jpg.rf.22b65d4f7c9aa300d0878e9424a40d67.jpg  \n",
            " extracting: train/images/img-31_jpg.rf.04f6a2c9ec048f70c2faeb7e4193784d.jpg  \n",
            " extracting: train/images/img-320_jpg.rf.0765b31c7ff97bf3c391782c13bb9818.jpg  \n",
            " extracting: train/images/img-321_jpg.rf.663ad0ed3ef90b48f212d451aa82aba9.jpg  \n",
            " extracting: train/images/img-322_jpg.rf.9fd7d306b3ecd5ae42cdff1b02b0db99.jpg  \n",
            " extracting: train/images/img-324_jpg.rf.74f09e96882cde7edbd59f92e7ecdf02.jpg  \n",
            " extracting: train/images/img-325_jpg.rf.fc14997c5d5d229bcb148997947b64b5.jpg  \n",
            " extracting: train/images/img-326_jpg.rf.25f754ec5e29d2861ed7c05c1129a4dc.jpg  \n",
            " extracting: train/images/img-327_jpg.rf.42714a663bc342d0dc175ebab152356d.jpg  \n",
            " extracting: train/images/img-328_jpg.rf.ac423267e0e078bbc60d0e6960c5167c.jpg  \n",
            " extracting: train/images/img-329_jpg.rf.622561b6e0873d93eeedcb6770b851da.jpg  \n",
            " extracting: train/images/img-330_jpg.rf.d9de506be8be5a379c88f7fe78ca8253.jpg  \n",
            " extracting: train/images/img-331_jpg.rf.7e9a42665269c16ef3a3fde22dd626b9.jpg  \n",
            " extracting: train/images/img-332_jpg.rf.edbf67c28f12aff498f83cff3736dd97.jpg  \n",
            " extracting: train/images/img-333_jpg.rf.a795e5b4a275dca433e557d9dfd6acec.jpg  \n",
            " extracting: train/images/img-339_jpg.rf.774e42a110ef70cd2e176956b9a25254.jpg  \n",
            " extracting: train/images/img-340_jpg.rf.dc85eeca2369ccd5e0f6e81ae6a9482a.jpg  \n",
            " extracting: train/images/img-341_jpg.rf.7e6dcbcdf1805587819dc6cdcab56ac6.jpg  \n",
            " extracting: train/images/img-342_jpg.rf.a635f2b522f97763152361b6b7e92ab5.jpg  \n",
            " extracting: train/images/img-345_jpg.rf.cb2f7a70ab689aee871ec218ca2a1c17.jpg  \n",
            " extracting: train/images/img-346_jpg.rf.7579261f0cdfffb527ad924a9cf86279.jpg  \n",
            " extracting: train/images/img-348_jpg.rf.7f69a937375f8585653476522d546025.jpg  \n",
            " extracting: train/images/img-349_jpg.rf.6641cef8561560b1437a093be86abf1e.jpg  \n",
            " extracting: train/images/img-351_jpg.rf.123b3f4e806dcfb111186da693c996c9.jpg  \n",
            " extracting: train/images/img-352_jpg.rf.7071e9840456e2ef41927696dddb3a5a.jpg  \n",
            " extracting: train/images/img-354_jpg.rf.a4fcd1798fe466fa035172521e93fe6d.jpg  \n",
            " extracting: train/images/img-355_jpg.rf.9cddc7f638d211138c7f3d79550da363.jpg  \n",
            " extracting: train/images/img-356_jpg.rf.4b2038d60de2fe914265bcb23cf05f89.jpg  \n",
            " extracting: train/images/img-357_jpg.rf.3fa531a04a46be8fbe22849b9bceead6.jpg  \n",
            " extracting: train/images/img-358_jpg.rf.443b2ea93c68765f0fe6722fa937cd6c.jpg  \n",
            " extracting: train/images/img-359_jpg.rf.6d9d100005eb3f84f3de55b14b854b18.jpg  \n",
            " extracting: train/images/img-360_jpg.rf.c4d38dde7ae1c773e6b3fb8e5d75bb77.jpg  \n",
            " extracting: train/images/img-361_jpg.rf.be4588f913f1e787f897058202e2b1c6.jpg  \n",
            " extracting: train/images/img-365_jpg.rf.164b210367824d2f385b0619f236abf4.jpg  \n",
            " extracting: train/images/img-366_jpg.rf.d13288366b0bb14beace0ba289956039.jpg  \n",
            " extracting: train/images/img-367_jpg.rf.299c5300a46524bfd3b2ae5e2a7398e8.jpg  \n",
            " extracting: train/images/img-372_jpg.rf.b3b86d6dfb24732444b95825c42f9422.jpg  \n",
            " extracting: train/images/img-374_jpg.rf.9ec3835feb04e376c4bc09ab1c1dde32.jpg  \n",
            " extracting: train/images/img-375_jpg.rf.bf26033ba64d588063cee3a0c97616db.jpg  \n",
            " extracting: train/images/img-376_jpg.rf.39c24ad78c32a6c855e8bbe60ad04d1f.jpg  \n",
            " extracting: train/images/img-377_jpg.rf.f7a5ae59d67aa24154dbe3931405fc57.jpg  \n",
            " extracting: train/images/img-379_jpg.rf.53d08ef1089264ceb2229544ec31f988.jpg  \n",
            " extracting: train/images/img-380_jpg.rf.0211b9d66b12bdee8d05b9ba890573dc.jpg  \n",
            " extracting: train/images/img-381_jpg.rf.69479c9b59804c60e3e0c7c2269d3712.jpg  \n",
            " extracting: train/images/img-383_jpg.rf.abedcd4fce7e8e17889e1bd4274447ba.jpg  \n",
            " extracting: train/images/img-384_jpg.rf.52f9bf925832084c3778e4d0de4dfb56.jpg  \n",
            " extracting: train/images/img-385_jpg.rf.3e1cef7e8251f4c7a1abbafd5ec599bc.jpg  \n",
            " extracting: train/images/img-388_jpg.rf.7ceda8808d1df8e7568c123af5bca8bf.jpg  \n",
            " extracting: train/images/img-389_jpg.rf.14f171b109308eeab6e83e7795c11016.jpg  \n",
            " extracting: train/images/img-38_jpg.rf.afd62a6bd8518395cf339db67500b1e1.jpg  \n",
            " extracting: train/images/img-391_jpg.rf.27e945dce7258e1d272a2a273b02ef08.jpg  \n",
            " extracting: train/images/img-392_jpg.rf.a74441b6f7c2332e3e553548670a315b.jpg  \n",
            " extracting: train/images/img-393_jpg.rf.9b0541a344853293e9ea03214f6619ce.jpg  \n",
            " extracting: train/images/img-395_jpg.rf.84ca6b6e04caa7480cfa0287417576b1.jpg  \n",
            " extracting: train/images/img-396_jpg.rf.af26b72d42bbf054aee8f62025ea2bf8.jpg  \n",
            " extracting: train/images/img-39_jpg.rf.a4ba4e9ad51da5bf7e864ca580d09931.jpg  \n",
            " extracting: train/images/img-3_jpg.rf.64d155e488ceaac83020a728ca1f70d1.jpg  \n",
            " extracting: train/images/img-401_jpg.rf.e3fe79f6f1c41b1dd0ce8ea904b39401.jpg  \n",
            " extracting: train/images/img-403_jpg.rf.8357bd90d082e6c78a660f605c08ad2e.jpg  \n",
            " extracting: train/images/img-404_jpg.rf.be12da25b2c38b58291a3a7fe817ef57.jpg  \n",
            " extracting: train/images/img-405_jpg.rf.d5138c07ca2b4fc213fc12a978cbf6f8.jpg  \n",
            " extracting: train/images/img-406_jpg.rf.39cc95c25d12800f852e45989ec1803e.jpg  \n",
            " extracting: train/images/img-407_jpg.rf.b30b42dfc9436ec4303a76932d9387cb.jpg  \n",
            " extracting: train/images/img-408_jpg.rf.633d54163fde7adb41cbac7bc690b34f.jpg  \n",
            " extracting: train/images/img-409_jpg.rf.5cdc33b00522ed3ddf0e43a2f1720c83.jpg  \n",
            " extracting: train/images/img-40_jpg.rf.bbdba0361130b13cc0e77e2f80b6e3d7.jpg  \n",
            " extracting: train/images/img-412_jpg.rf.c3344901cc1646179c93d2e8cd1b4444.jpg  \n",
            " extracting: train/images/img-413_jpg.rf.a81aa42a7782099f9921156e3161a2a9.jpg  \n",
            " extracting: train/images/img-414_jpg.rf.7dc1ae061e468ac362211f99e8f9c274.jpg  \n",
            " extracting: train/images/img-416_jpg.rf.dbafb3032c842862507a7c18c2df2b7d.jpg  \n",
            " extracting: train/images/img-418_jpg.rf.9c8b8c7bb6b6b0bd055e00e59bdd8914.jpg  \n",
            " extracting: train/images/img-419_jpg.rf.afba61803c37a1b0e4e3232dafb7be72.jpg  \n",
            " extracting: train/images/img-420_jpg.rf.3e311b9bdc9b3932e270f5402d4e4529.jpg  \n",
            " extracting: train/images/img-422_jpg.rf.8fa888de91dfb1a6c6980d3e8bf0252e.jpg  \n",
            " extracting: train/images/img-424_jpg.rf.5178a699e9c56cf7ba61ede4751b6696.jpg  \n",
            " extracting: train/images/img-425_jpg.rf.ff4c598bfc259fbbb8f8d0e3a6eff1fb.jpg  \n",
            " extracting: train/images/img-426_jpg.rf.18bab6ba48f960ed751cb35d1f628523.jpg  \n",
            " extracting: train/images/img-427_jpg.rf.2031f93af77c47391e2b6963f7536621.jpg  \n",
            " extracting: train/images/img-428_jpg.rf.087cca8e9d34735c3cd1289956c36b71.jpg  \n",
            " extracting: train/images/img-429_jpg.rf.388ca2fa7461b636f9a349bee8fcafbc.jpg  \n",
            " extracting: train/images/img-431_jpg.rf.0a68887499a4ed36c65f33a890a83afd.jpg  \n",
            " extracting: train/images/img-433_jpg.rf.3e3f8c9689f1e9f3068c86c1c0295c8f.jpg  \n",
            " extracting: train/images/img-435_jpg.rf.d9ff2d1d19d49c2a96663dcaa4a83330.jpg  \n",
            " extracting: train/images/img-436_jpg.rf.319891088041e59c31bb3d55aad586e3.jpg  \n",
            " extracting: train/images/img-437_jpg.rf.d2615be876ea3a1d9fa99d3039c97756.jpg  \n",
            " extracting: train/images/img-439_jpg.rf.e2750e5ed7bfd8910e9addda51e0c6dd.jpg  \n",
            " extracting: train/images/img-441_jpg.rf.f99cdb8fbd1cff1a5778200efd2e7b07.jpg  \n",
            " extracting: train/images/img-442_jpg.rf.d31f41baf9027c5d39e36f2a3403bc93.jpg  \n",
            " extracting: train/images/img-444_jpg.rf.d2c0751cc106650d2aac5fa76a15d521.jpg  \n",
            " extracting: train/images/img-445_jpg.rf.3ce61abb7f716b154c85baf505ebf533.jpg  \n",
            " extracting: train/images/img-446_jpg.rf.0f94b72ee4208b8b4b64ecb5bb046bda.jpg  \n",
            " extracting: train/images/img-447_jpg.rf.12ad904248518608161ea94123c2d60a.jpg  \n",
            " extracting: train/images/img-448_jpg.rf.3cd8bfd600d889108a52dedda6f617cc.jpg  \n",
            " extracting: train/images/img-450_jpg.rf.2a5241c5070556dedad85c9642d81858.jpg  \n",
            " extracting: train/images/img-451_jpg.rf.2a8100252c943091f22453f4d7793a28.jpg  \n",
            " extracting: train/images/img-453_jpg.rf.17e48aa652a50a8bc9d06d3ded580033.jpg  \n",
            " extracting: train/images/img-455_jpg.rf.a114dbe5360a6a272c43a2b4c7cb4bb1.jpg  \n",
            " extracting: train/images/img-456_jpg.rf.2907a3b901643efa6b8abd6d9d201b86.jpg  \n",
            " extracting: train/images/img-458_jpg.rf.72cb15a746ee92f6714f4ceed305738a.jpg  \n",
            " extracting: train/images/img-459_jpg.rf.d767fa292e69f79fbb81604f24209de2.jpg  \n",
            " extracting: train/images/img-45_jpg.rf.e872f0163ffadc7f06542bdf9d17d8bb.jpg  \n",
            " extracting: train/images/img-460_jpg.rf.7287edcc89d46ec826fd4a8d2301c3b1.jpg  \n",
            " extracting: train/images/img-462_jpg.rf.dc1cdd58947aa0f7d172ad76e4834de7.jpg  \n",
            " extracting: train/images/img-464_jpg.rf.c69c0cd9a27ebec152f2ca43dd39ddd2.jpg  \n",
            " extracting: train/images/img-465_jpg.rf.a4bc474c1391ceb5134993ddccf81723.jpg  \n",
            " extracting: train/images/img-466_jpg.rf.7048299d4afb9d58f9bdbb2ebc74ae85.jpg  \n",
            " extracting: train/images/img-467_jpg.rf.8e414b6ccee984d7bc43ec0a140616bb.jpg  \n",
            " extracting: train/images/img-470_jpg.rf.c1aa523b26fb96e39f98ab0eaef42516.jpg  \n",
            " extracting: train/images/img-471_jpg.rf.fbadb2fbf6289251aa19248169f4b835.jpg  \n",
            " extracting: train/images/img-473_jpg.rf.a2116db1425fc5a7c35a863735f3be83.jpg  \n",
            " extracting: train/images/img-475_jpg.rf.826d8251183c671da741c6bbdbc63b7f.jpg  \n",
            " extracting: train/images/img-476_jpg.rf.b7bf5047096c34127a33e35decef5680.jpg  \n",
            " extracting: train/images/img-478_jpg.rf.688b1641adf5ef0b085c25eb561c127f.jpg  \n",
            " extracting: train/images/img-479_jpg.rf.68af46ff65675c6673f7ab2b3ffffef5.jpg  \n",
            " extracting: train/images/img-480_jpg.rf.5878d6196e07fb3c99a93ed5dfe3f272.jpg  \n",
            " extracting: train/images/img-481_jpg.rf.a4d4dc14cb2e64612726574f736960bb.jpg  \n",
            " extracting: train/images/img-482_jpg.rf.6d284950634fb53dcaffdf5bc57777b2.jpg  \n",
            " extracting: train/images/img-483_jpg.rf.f6a3c845bd1d570af65d49dca73bc342.jpg  \n",
            " extracting: train/images/img-484_jpg.rf.a2c2b3415a901a7dd8b0e620a6d0978d.jpg  \n",
            " extracting: train/images/img-487_jpg.rf.86a0a33407773411060aea00d0e25298.jpg  \n",
            " extracting: train/images/img-488_jpg.rf.bc6f57054dc22bbd98ba111e8b50f154.jpg  \n",
            " extracting: train/images/img-489_jpg.rf.f4699ee74f2e8fb7170294124cc4fbb6.jpg  \n",
            " extracting: train/images/img-48_jpg.rf.80aab2de449196e47a920e6e3e1557ce.jpg  \n",
            " extracting: train/images/img-494_jpg.rf.93aaae7aa17f7a5e7c247cba12a1b73e.jpg  \n",
            " extracting: train/images/img-496_jpg.rf.2c704dcb336ff2900ab1082067367d75.jpg  \n",
            " extracting: train/images/img-498_jpg.rf.6cf9993e84ae2765ea83ad49216e51ca.jpg  \n",
            " extracting: train/images/img-49_jpg.rf.d01d16f6ca4e230e7b2e1e35f8288e02.jpg  \n",
            " extracting: train/images/img-4_jpg.rf.11ae6e7fa2785e9062e1dd8c234333d9.jpg  \n",
            " extracting: train/images/img-500_jpg.rf.5d3d23bc89581151be590a39424e1913.jpg  \n",
            " extracting: train/images/img-502_jpg.rf.6ca14a2dbbdbef79d541c9b3cd39f110.jpg  \n",
            " extracting: train/images/img-503_jpg.rf.78dc49524b5d013c7c3580e2f88ee8e1.jpg  \n",
            " extracting: train/images/img-504_jpg.rf.1525b6fecee461da4196b8e4c10cb555.jpg  \n",
            " extracting: train/images/img-505_jpg.rf.722ce02b299e455f7436b3ebbf0403b6.jpg  \n",
            " extracting: train/images/img-506_jpg.rf.f72b3b75b27b51787cb4db96b7e07ff0.jpg  \n",
            " extracting: train/images/img-507_jpg.rf.f161c791b6cc6f2f522aeacfb0b1d80d.jpg  \n",
            " extracting: train/images/img-508_jpg.rf.c5747e8e3af0ece987ca5af6d0819338.jpg  \n",
            " extracting: train/images/img-509_jpg.rf.5bcf3d06847c789c6ffddd4d68666c6e.jpg  \n",
            " extracting: train/images/img-510_jpg.rf.123e51756929d8babd5c1cd39b0edcad.jpg  \n",
            " extracting: train/images/img-512_jpg.rf.4f5fad0146d35d6f920f53e3c42aff2b.jpg  \n",
            " extracting: train/images/img-513_jpg.rf.2d62e3be85f489e3bc9060023ee2ea8f.jpg  \n",
            " extracting: train/images/img-514_jpg.rf.1420b37cfd4c94e8f691c667c989a5f4.jpg  \n",
            " extracting: train/images/img-515_jpg.rf.3067bb2cb196b47aae9fbfa1af6261e4.jpg  \n",
            " extracting: train/images/img-517_jpg.rf.4d6d0c5487798a48b5f6008f90a5b768.jpg  \n",
            " extracting: train/images/img-518_jpg.rf.d8c4c35beb02b2b9c58b348b1a18227c.jpg  \n",
            " extracting: train/images/img-519_jpg.rf.6ba359e3644a97cd8bffee4cf4a10ea2.jpg  \n",
            " extracting: train/images/img-51_jpg.rf.e76dba0e33058fcd7ac509c0e2fbf0ce.jpg  \n",
            " extracting: train/images/img-521_jpg.rf.fa689c56eb3cd78ed57d84143cbe8d25.jpg  \n",
            " extracting: train/images/img-523_jpg.rf.c78c71adc175d5e3eb103a96a87b7dbb.jpg  \n",
            " extracting: train/images/img-524_jpg.rf.57fb2d4f1029263048a398c620968aad.jpg  \n",
            " extracting: train/images/img-526_jpg.rf.cfd028e96dd550e97745603cab99f3fe.jpg  \n",
            " extracting: train/images/img-527_jpg.rf.865da999fbb4399a1124e21bd313a958.jpg  \n",
            " extracting: train/images/img-52_jpg.rf.f95bed5b5d7b75aca48be59a17751be5.jpg  \n",
            " extracting: train/images/img-530_jpg.rf.cbb192f42b0fcae349cd1e320c1ab748.jpg  \n",
            " extracting: train/images/img-531_jpg.rf.336a27c3846e69f905fb235a9a58a4bc.jpg  \n",
            " extracting: train/images/img-532_jpg.rf.b99ffab41211fcaa201cbdf921f29b5c.jpg  \n",
            " extracting: train/images/img-533_jpg.rf.0a1292d1f04bbf45d8846532b3ad0eb8.jpg  \n",
            " extracting: train/images/img-534_jpg.rf.0e6dc3d1cfb351bc4a784ef45b77e29b.jpg  \n",
            " extracting: train/images/img-537_jpg.rf.800a6a93bc8d87ba0889f1706b5e1622.jpg  \n",
            " extracting: train/images/img-538_jpg.rf.14ed12805bf86f1eb7a5cb9da970b755.jpg  \n",
            " extracting: train/images/img-539_jpg.rf.94298de0d2207c7b4cd2bfe4f7e1cb72.jpg  \n",
            " extracting: train/images/img-53_jpg.rf.0a3288162e47d617b9108c8b7027f362.jpg  \n",
            " extracting: train/images/img-545_jpg.rf.786788c516d06b428e6c4fbe57a8a703.jpg  \n",
            " extracting: train/images/img-546_jpg.rf.e5e035a777a3e271af95989cdc07132a.jpg  \n",
            " extracting: train/images/img-547_jpg.rf.8dd4b5b2099318a1bb39ad348cbe0576.jpg  \n",
            " extracting: train/images/img-548_jpg.rf.ba5c7c94f831b7c84f8e41d7d30530fc.jpg  \n",
            " extracting: train/images/img-549_jpg.rf.d04eac44dedf21eed1fe6c98d095ac60.jpg  \n",
            " extracting: train/images/img-54_jpg.rf.f2eb8e6eddfbada99ebc025c400123b6.jpg  \n",
            " extracting: train/images/img-551_jpg.rf.2b6aca4deb8d05243dbefe85f26bbcf3.jpg  \n",
            " extracting: train/images/img-552_jpg.rf.ec9f1bee01c43e917639e624ebacc332.jpg  \n",
            " extracting: train/images/img-553_jpg.rf.3d751837334ee73ff7a2450529875ff1.jpg  \n",
            " extracting: train/images/img-554_jpg.rf.bd50fd0a9719bf9dc5a1e028c7a74b5a.jpg  \n",
            " extracting: train/images/img-555_jpg.rf.dba58c9ee204b9fe294a6b780157c109.jpg  \n",
            " extracting: train/images/img-557_jpg.rf.a5b8313b9acd22b69d558f6f3c46d433.jpg  \n",
            " extracting: train/images/img-559_jpg.rf.b1a2ceed9c2d8dc113f4ee9c8fff530c.jpg  \n",
            " extracting: train/images/img-55_jpg.rf.1b8af76b80e22349171b71e533fa126d.jpg  \n",
            " extracting: train/images/img-560_jpg.rf.6d7310e15cca82d248f956890f2d5185.jpg  \n",
            " extracting: train/images/img-561_jpg.rf.00e55aff1b67a607a6631ac6a05bf7af.jpg  \n",
            " extracting: train/images/img-562_jpg.rf.ab7bdf89e5af687b9314b09ddcd3830d.jpg  \n",
            " extracting: train/images/img-563_jpg.rf.49bd84d4290d0c5e02175c91364b6b3e.jpg  \n",
            " extracting: train/images/img-564_jpg.rf.5698b398c84abd43b6fa425dd1613e78.jpg  \n",
            " extracting: train/images/img-565_jpg.rf.bd70802866f547c938d6d3107ac92f47.jpg  \n",
            " extracting: train/images/img-566_jpg.rf.04baef7f164a924d84511224f7b46b8a.jpg  \n",
            " extracting: train/images/img-568_jpg.rf.16fab8adbb7580a03dddd4f458212d4c.jpg  \n",
            " extracting: train/images/img-569_jpg.rf.2b1c4b01aeb0f3c6b2f853c7b121fa62.jpg  \n",
            " extracting: train/images/img-56_jpg.rf.f8fd2a331afb8baf1cd530144b8dcbf0.jpg  \n",
            " extracting: train/images/img-570_jpg.rf.23478ec934f8e2d0ff5838c3124d89f2.jpg  \n",
            " extracting: train/images/img-571_jpg.rf.df521aa0f45aa986a3e937de4083272e.jpg  \n",
            " extracting: train/images/img-572_jpg.rf.574ecb002f88fd6cff3bfe8801094ef4.jpg  \n",
            " extracting: train/images/img-573_jpg.rf.da9254336436b337c14edd7cb0bb7c39.jpg  \n",
            " extracting: train/images/img-574_jpg.rf.bb4440939828e45cfc00da0f7231dde8.jpg  \n",
            " extracting: train/images/img-575_jpg.rf.d6b69bda83c57f9464d9a9a7e6f972f7.jpg  \n",
            " extracting: train/images/img-577_jpg.rf.0b2614262552a9d5aef5b1c24ac4d748.jpg  \n",
            " extracting: train/images/img-578_jpg.rf.5debbb9d599b351e32b855f0a443b0a1.jpg  \n",
            " extracting: train/images/img-579_jpg.rf.8ee8008110728a0b1d1198a9f4bbdc74.jpg  \n",
            " extracting: train/images/img-57_jpg.rf.9992e945c7131d09ceb361ef353dc560.jpg  \n",
            " extracting: train/images/img-580_jpg.rf.ef207bf01374eb491f8d0145ce0a76a4.jpg  \n",
            " extracting: train/images/img-581_jpg.rf.8c5c82afd59e6af22ff5a3e3c72aff1f.jpg  \n",
            " extracting: train/images/img-582_jpg.rf.5a67b2d4a4085a2d227651c26648dd80.jpg  \n",
            " extracting: train/images/img-583_jpg.rf.1bc1beae7fba61be76c754940edf7c6a.jpg  \n",
            " extracting: train/images/img-584_jpg.rf.fc44d8fdba9c7b8af37faaa753133602.jpg  \n",
            " extracting: train/images/img-585_jpg.rf.5affd0b2859d074e9e52f8540e31ce8d.jpg  \n",
            " extracting: train/images/img-587_jpg.rf.728787c37c5255b92d547db8e9effa4e.jpg  \n",
            " extracting: train/images/img-589_jpg.rf.f5c99c482282385a102f43a01d51cbc6.jpg  \n",
            " extracting: train/images/img-58_jpg.rf.e1472bdd09e11193dfe82afc2a0b6e9f.jpg  \n",
            " extracting: train/images/img-592_jpg.rf.6187cc73be9786a0826c78f03b69e072.jpg  \n",
            " extracting: train/images/img-593_jpg.rf.9ecc7604e866912e7cddc0ea1c65d412.jpg  \n",
            " extracting: train/images/img-594_jpg.rf.3d9a20acdc1aea9ccb25d694f7cdbbec.jpg  \n",
            " extracting: train/images/img-595_jpg.rf.f7d0b11ae9ac53ec52b154e001c576e1.jpg  \n",
            " extracting: train/images/img-599_jpg.rf.c4e70e02e8afab3aa00ef5e1b88950ba.jpg  \n",
            " extracting: train/images/img-59_jpg.rf.5b0be5064b3641271cd16f2fc35f840f.jpg  \n",
            " extracting: train/images/img-5_jpg.rf.22d6ac3fcee8b8da274f6c1d625215e2.jpg  \n",
            " extracting: train/images/img-600_jpg.rf.75935912aecbd55fa5a0807ceceb02e8.jpg  \n",
            " extracting: train/images/img-602_jpg.rf.7ea8b9efa93431daf8b5d93df22620ac.jpg  \n",
            " extracting: train/images/img-605_jpg.rf.dcd6b582a432a5bbce6b276057ef3660.jpg  \n",
            " extracting: train/images/img-606_jpg.rf.d525667a91c953bc458519a76afc2ca2.jpg  \n",
            " extracting: train/images/img-607_jpg.rf.72e1f367a8ef39c033eafac3b66f7ea4.jpg  \n",
            " extracting: train/images/img-608_jpg.rf.6a019b85298c5fdcc6d1cc1377eb42a0.jpg  \n",
            " extracting: train/images/img-609_jpg.rf.e036fb262fec0db3c7c37622e7fcbcfd.jpg  \n",
            " extracting: train/images/img-610_jpg.rf.303b62652c5bf84b706fe1002f863b2f.jpg  \n",
            " extracting: train/images/img-612_jpg.rf.246d9a359d2add666e99da37d8590d5c.jpg  \n",
            " extracting: train/images/img-613_jpg.rf.ab3099bb3ff23deff31985fc9ffd1fc0.jpg  \n",
            " extracting: train/images/img-614_jpg.rf.727f9c1d1159709fea21d916f1a85d66.jpg  \n",
            " extracting: train/images/img-616_jpg.rf.4d03aeb93b953e520bcaf53615ff9651.jpg  \n",
            " extracting: train/images/img-617_jpg.rf.fa415edc42afffb71b94117a8200b43a.jpg  \n",
            " extracting: train/images/img-618_jpg.rf.cc7c6c35a47a453b2b1347c6525691bb.jpg  \n",
            " extracting: train/images/img-619_jpg.rf.5456a9e84bd2369e8f206f5c19410127.jpg  \n",
            " extracting: train/images/img-61_jpg.rf.2000a63661f2976215d740c84a7fa546.jpg  \n",
            " extracting: train/images/img-620_jpg.rf.077f5547cc7daeccf1aa61fd6ca2f0a4.jpg  \n",
            " extracting: train/images/img-622_jpg.rf.0de72c0dc080b1c68cc7573ef9e7d9aa.jpg  \n",
            " extracting: train/images/img-623_jpg.rf.53d9491f77118c981d2204bc45323cf8.jpg  \n",
            " extracting: train/images/img-624_jpg.rf.502c75a86b1dad5430ad53cb148b40cd.jpg  \n",
            " extracting: train/images/img-625_jpg.rf.8c9886bd3fb9566b5dbd3d1edaa3879a.jpg  \n",
            " extracting: train/images/img-626_jpg.rf.9b8b117edc1728bf995873525c2b7ad5.jpg  \n",
            " extracting: train/images/img-627_jpg.rf.4a7f140a3fdb2b92c552c1fe3361b5a4.jpg  \n",
            " extracting: train/images/img-628_jpg.rf.42b86eabd12459c1fcdde71b964b4513.jpg  \n",
            " extracting: train/images/img-62_jpg.rf.8c5233a41dc5fe17412129d1e9b7ad88.jpg  \n",
            " extracting: train/images/img-630_jpg.rf.daa4c95b49226642dd5f9fa9d0d5b857.jpg  \n",
            " extracting: train/images/img-632_jpg.rf.53a3e09948261d887eeda01c232773be.jpg  \n",
            " extracting: train/images/img-633_jpg.rf.3a6adcebf0215036565a568ea9d8a870.jpg  \n",
            " extracting: train/images/img-636_jpg.rf.a6173bddbf7d20589954172debd64256.jpg  \n",
            " extracting: train/images/img-637_jpg.rf.423e2e41b34b195a5c91a86f3fcad9e1.jpg  \n",
            " extracting: train/images/img-638_jpg.rf.2a8faf540acd84c4eba228bf828631be.jpg  \n",
            " extracting: train/images/img-639_jpg.rf.b8377ab028151caa99b7ec0164b1e1cc.jpg  \n",
            " extracting: train/images/img-63_jpg.rf.9aa76f7292d30d50dd111ad2e580b6fd.jpg  \n",
            " extracting: train/images/img-640_jpg.rf.07e03157df4d66c761b4b8c3a4418cb9.jpg  \n",
            " extracting: train/images/img-641_jpg.rf.c5579ea692508c43b5c0cd56cb9bbca1.jpg  \n",
            " extracting: train/images/img-642_jpg.rf.d948fea937b446e71e3c93417aad9211.jpg  \n",
            " extracting: train/images/img-644_jpg.rf.c846835a4c152cbd22581385edfc421a.jpg  \n",
            " extracting: train/images/img-645_jpg.rf.3bc2572b38ae76168880ecd94fc970c5.jpg  \n",
            " extracting: train/images/img-646_jpg.rf.26acf4b2f9f7b0e0935e30c10b22de66.jpg  \n",
            " extracting: train/images/img-647_jpg.rf.47741041990f3eb84cbc316d5d91642d.jpg  \n",
            " extracting: train/images/img-649_jpg.rf.7af50c8bd2d8f17c431910142ef8a569.jpg  \n",
            " extracting: train/images/img-64_jpg.rf.87f8620de24096f7cceb3e1a38ca2bdf.jpg  \n",
            " extracting: train/images/img-652_jpg.rf.0590f1d28a51cd3ae140c3b7c8a35e19.jpg  \n",
            " extracting: train/images/img-653_jpg.rf.0f72804027539a5d8568596a63951912.jpg  \n",
            " extracting: train/images/img-654_jpg.rf.5b1781ad998ed69777161157b3edebff.jpg  \n",
            " extracting: train/images/img-655_jpg.rf.2a815e4e1eacc4b38e0f61a883f60211.jpg  \n",
            " extracting: train/images/img-657_jpg.rf.746593ccbdcc4662febd1f520098249a.jpg  \n",
            " extracting: train/images/img-659_jpg.rf.e4113ec56c93406c8d26fde5a8d88a73.jpg  \n",
            " extracting: train/images/img-660_jpg.rf.136a06754370aa1b86ee084c9ae6da5f.jpg  \n",
            " extracting: train/images/img-661_jpg.rf.59e9415bda27ef166e9e0fa652a14b22.jpg  \n",
            " extracting: train/images/img-662_jpg.rf.f3cd9beffc2c8a24cae595095d375a19.jpg  \n",
            " extracting: train/images/img-663_jpg.rf.eacecce4c5b4615ad0dbe455777e1547.jpg  \n",
            " extracting: train/images/img-664_jpg.rf.0392cc4f0a63d256e7c42f057345f8b5.jpg  \n",
            " extracting: train/images/img-665_jpg.rf.f1b7ae957b1b1d8c1da0a36309e1f6e2.jpg  \n",
            " extracting: train/images/img-66_jpg.rf.356b50eb43676369ecee335108c3709f.jpg  \n",
            " extracting: train/images/img-6_jpg.rf.a961e413341cc4216cddc1c46e76d13f.jpg  \n",
            " extracting: train/images/img-70_jpg.rf.c64a3fa4382e8482aa49dd4c38c7012b.jpg  \n",
            " extracting: train/images/img-71_jpg.rf.cdf11db31e4a7deb2eb646717b72088f.jpg  \n",
            " extracting: train/images/img-73_jpg.rf.b63f566c3ddb5514f3fc2a1dd9ba40ec.jpg  \n",
            " extracting: train/images/img-74_jpg.rf.bbb7822c260ad0c8f9f4e361c534329c.jpg  \n",
            " extracting: train/images/img-75_jpg.rf.9a3c8716c1ae12e2c698c1ff62d8aa4c.jpg  \n",
            " extracting: train/images/img-76_jpg.rf.b2486fa34ebf8ebbee2850ff4c02be4a.jpg  \n",
            " extracting: train/images/img-78_jpg.rf.01130ebf73370c115ee9de4fc1f29be5.jpg  \n",
            " extracting: train/images/img-80_jpg.rf.02752f42e0f4bc24481a8d9d938a7569.jpg  \n",
            " extracting: train/images/img-81_jpg.rf.3cde6b9acba84f64ef59722240cb6fd6.jpg  \n",
            " extracting: train/images/img-83_jpg.rf.1c7a57b033ede2a3e95532df258578d4.jpg  \n",
            " extracting: train/images/img-84_jpg.rf.220a0bb7cdb0d030acdaaeb8724ed36d.jpg  \n",
            " extracting: train/images/img-85_jpg.rf.3d157a70f444d84a006039b9114b726b.jpg  \n",
            " extracting: train/images/img-86_jpg.rf.dbe8b3ed795b7a898d4fd37b08227003.jpg  \n",
            " extracting: train/images/img-87_jpg.rf.d1b29f2a180c61b7f586070108949c9e.jpg  \n",
            " extracting: train/images/img-88_jpg.rf.5f67c703ef1d55215e9362d5496fe1ec.jpg  \n",
            " extracting: train/images/img-90_jpg.rf.b470c7ecb31eaa9a524688e45287351f.jpg  \n",
            " extracting: train/images/img-95_jpg.rf.88e456640460ae2424d7881caa5d1f86.jpg  \n",
            " extracting: train/images/img-96_jpg.rf.62cddedc415c7b5c50c459bce49adcc9.jpg  \n",
            " extracting: train/images/img-97_jpg.rf.4289b6d75214d9d3dcbf17f94867a0f0.jpg  \n",
            " extracting: train/images/img-99_jpg.rf.e4e00fb5fb002d3813a2acb346473620.jpg  \n",
            " extracting: train/images/img-9_jpg.rf.de0e0920eee97f99bfa4d5a2ed29d82e.jpg  \n",
            "   creating: train/labels/\n",
            " extracting: train/labels/img-100_jpg.rf.233751cac3399aa80b5e58a2afbb753a.txt  \n",
            " extracting: train/labels/img-101_jpg.rf.f213d98946c4f8858a5bf3200c89e39c.txt  \n",
            " extracting: train/labels/img-102_jpg.rf.16c56ff8f761aec963d9b57aa1b2d3fd.txt  \n",
            " extracting: train/labels/img-103_jpg.rf.09abf1a8e3477718e143255af3534d29.txt  \n",
            " extracting: train/labels/img-108_jpg.rf.a35e86abc558a98f252bfc10e49fd6d9.txt  \n",
            " extracting: train/labels/img-109_jpg.rf.add373710d0d425bd9340c33878e7d42.txt  \n",
            " extracting: train/labels/img-10_jpg.rf.eaceaaa6f119cf6eb49edc1bc92efaa2.txt  \n",
            " extracting: train/labels/img-110_jpg.rf.0390f81a2c5b2ad5676a8eb5b043d743.txt  \n",
            " extracting: train/labels/img-111_jpg.rf.d7e58630e249c45d8c1d564d847dc236.txt  \n",
            " extracting: train/labels/img-113_jpg.rf.31b41591a5e0c7b0aa02e133e79e1e2a.txt  \n",
            " extracting: train/labels/img-114_jpg.rf.b58901654a45a559a41ffaa25f1bf741.txt  \n",
            " extracting: train/labels/img-115_jpg.rf.ebc1ec2d7bb5caf80d06511d74f9e2da.txt  \n",
            " extracting: train/labels/img-117_jpg.rf.56a7e3b29e60b28e25b3f4a3c7817605.txt  \n",
            " extracting: train/labels/img-119_jpg.rf.5df904c99a0e765190d9421a4bf04bc6.txt  \n",
            " extracting: train/labels/img-11_jpg.rf.b7a2e18571a53d7512f101f224b7c794.txt  \n",
            " extracting: train/labels/img-121_jpg.rf.d202af2960b0bb1928539a6fcb3cdbfd.txt  \n",
            " extracting: train/labels/img-123_jpg.rf.8ae4c2726246a3dea5d41f6ba3a64639.txt  \n",
            " extracting: train/labels/img-124_jpg.rf.fdc89fc9a29a16b57ad54dd3c63e7952.txt  \n",
            " extracting: train/labels/img-126_jpg.rf.eab9b684c8570533e5cd43517776eeec.txt  \n",
            " extracting: train/labels/img-127_jpg.rf.cda9134fdf2c217082118b38d27fd7ee.txt  \n",
            " extracting: train/labels/img-128_jpg.rf.6d1435fcdbcb19d4ff22f1d865026470.txt  \n",
            " extracting: train/labels/img-129_jpg.rf.fbd5c4841019062274b4e9d1daeab4c3.txt  \n",
            " extracting: train/labels/img-12_jpg.rf.473a95f653f8c7227e4bc5c73f8ed19b.txt  \n",
            " extracting: train/labels/img-131_jpg.rf.6bc87513d54494e92b56968b81d290b5.txt  \n",
            " extracting: train/labels/img-134_jpg.rf.833f57b2c592a23189208dcb656eaaa2.txt  \n",
            " extracting: train/labels/img-135_jpg.rf.5f0fb06ed79bee89c8378fc74adf59ec.txt  \n",
            " extracting: train/labels/img-136_jpg.rf.3372e97742e4ded8b208f90043981012.txt  \n",
            " extracting: train/labels/img-137_jpg.rf.5c3cf778bb884760e276baacc8372f66.txt  \n",
            " extracting: train/labels/img-138_jpg.rf.ec6549719f138be69aa49f6cdc068227.txt  \n",
            " extracting: train/labels/img-139_jpg.rf.af2a2cdcef3c3e01d9ad30e9f058e93e.txt  \n",
            " extracting: train/labels/img-13_jpg.rf.a4db51428d0461f9ed82e12eb6d87a03.txt  \n",
            " extracting: train/labels/img-141_jpg.rf.9fb75a7f4520090a669516f6c16c105e.txt  \n",
            " extracting: train/labels/img-142_jpg.rf.324ee78ee3122e5a751d32198a2e11cb.txt  \n",
            " extracting: train/labels/img-143_jpg.rf.b4553a89ca02d904d7d3d8b601d92033.txt  \n",
            " extracting: train/labels/img-144_jpg.rf.2e98a93812eee1ad65ad7e3f9f5620ad.txt  \n",
            " extracting: train/labels/img-148_jpg.rf.eddf84184c0a99958850113c36e7b754.txt  \n",
            " extracting: train/labels/img-149_jpg.rf.44eff0efcbd1ccfa08da8768642f71c9.txt  \n",
            " extracting: train/labels/img-150_jpg.rf.f3ebd01cb708363657a8f21645c06c39.txt  \n",
            " extracting: train/labels/img-151_jpg.rf.52e5bb5d308649772ceef0bfcde24f96.txt  \n",
            " extracting: train/labels/img-152_jpg.rf.621b5126c90ae5176bc3d2415fda4fe8.txt  \n",
            " extracting: train/labels/img-155_jpg.rf.7c1dd28f3db86d175cca8437cece1d08.txt  \n",
            " extracting: train/labels/img-156_jpg.rf.ff820d5c1ff5fc1a1fc27fa5647cc146.txt  \n",
            " extracting: train/labels/img-157_jpg.rf.764e348f9144fed2fd906c23ff15afe5.txt  \n",
            " extracting: train/labels/img-158_jpg.rf.80110529bda206547f2c5482abfca272.txt  \n",
            " extracting: train/labels/img-159_jpg.rf.9a2234e70393ae42ad518c7c34b031c5.txt  \n",
            " extracting: train/labels/img-15_jpg.rf.b937fa68f73a1ee37d832a279f432941.txt  \n",
            " extracting: train/labels/img-160_jpg.rf.ef4e05f9ef187938ab9bd0321c4dcf4d.txt  \n",
            " extracting: train/labels/img-162_jpg.rf.0459e44683fd65132e9e2558f7cfcc6a.txt  \n",
            " extracting: train/labels/img-163_jpg.rf.232bf43b16b71f5c5581f7d908e3e253.txt  \n",
            " extracting: train/labels/img-164_jpg.rf.cb6665fd71f9ea53c23dc545be31d2e1.txt  \n",
            " extracting: train/labels/img-165_jpg.rf.a4b4be5d004a62f1bbf126232edb2785.txt  \n",
            " extracting: train/labels/img-167_jpg.rf.a2c9b6a4a769135a8f5f7e671b636ac8.txt  \n",
            " extracting: train/labels/img-169_jpg.rf.9ad23ea6b668a59c48e362859efe3515.txt  \n",
            " extracting: train/labels/img-16_jpg.rf.3018a4883623e53e929435fc084c2200.txt  \n",
            " extracting: train/labels/img-170_jpg.rf.448c70ae76619d82c629389410701f9c.txt  \n",
            " extracting: train/labels/img-172_jpg.rf.d849de955bfb8608552f1adf347f3ef1.txt  \n",
            " extracting: train/labels/img-174_jpg.rf.63afee69864babbb4a21a4b8d2eff7d9.txt  \n",
            " extracting: train/labels/img-175_jpg.rf.edaa0f7c577755474ff285ff38eec09e.txt  \n",
            " extracting: train/labels/img-176_jpg.rf.36e2a3416c78152aeb6ea6f1a20e2ea9.txt  \n",
            " extracting: train/labels/img-177_jpg.rf.218561bceb58b04e0bf46a7c297179a0.txt  \n",
            " extracting: train/labels/img-178_jpg.rf.d97b9cc2a1e25824ea668642fe4df36e.txt  \n",
            " extracting: train/labels/img-17_jpg.rf.66c2a0fce4e0de3bf1d6d6c6101b1d2e.txt  \n",
            " extracting: train/labels/img-180_jpg.rf.23e2fffafadf7ef2741d68402213261b.txt  \n",
            " extracting: train/labels/img-181_jpg.rf.27e6333bebd7c84f8b89871c21b1608b.txt  \n",
            " extracting: train/labels/img-182_jpg.rf.4a3748ca6898a245a5474d963734c12f.txt  \n",
            " extracting: train/labels/img-183_jpg.rf.4358b5ae9b05895a41d00d84a0e17ec7.txt  \n",
            " extracting: train/labels/img-185_jpg.rf.98a5add77bc81de0d192cd6c6a50f933.txt  \n",
            " extracting: train/labels/img-186_jpg.rf.c354a07266904a6e8212056359600aec.txt  \n",
            " extracting: train/labels/img-187_jpg.rf.a5d70ec1463db2d5d0c48ef494605977.txt  \n",
            " extracting: train/labels/img-188_jpg.rf.e25310df0413037e398729953a4e8240.txt  \n",
            " extracting: train/labels/img-189_jpg.rf.2afafdf425170ac8e1cbb58c488c4c4a.txt  \n",
            " extracting: train/labels/img-18_jpg.rf.f79a657ff81d70927c469283a9e0a262.txt  \n",
            " extracting: train/labels/img-191_jpg.rf.e82152e059f62a6559daedf1d1ae62a3.txt  \n",
            " extracting: train/labels/img-192_jpg.rf.41da280cd625ff7e2b15dde2afb0c11a.txt  \n",
            " extracting: train/labels/img-193_jpg.rf.d2949c3bad35af6229b470554825cd54.txt  \n",
            " extracting: train/labels/img-194_jpg.rf.fe81115eda78ee8dcefcbc08dcdc17ef.txt  \n",
            " extracting: train/labels/img-197_jpg.rf.f9b2583df29a86d60bcfe3eea1dab4e9.txt  \n",
            " extracting: train/labels/img-198_jpg.rf.0b1cb1e07fefe54965584465087f960a.txt  \n",
            " extracting: train/labels/img-199_jpg.rf.6120711f954526a2c6fa1b94fd7bd4ec.txt  \n",
            " extracting: train/labels/img-19_jpg.rf.399478ab1a20c3fcb63dc9e3d5c425f5.txt  \n",
            " extracting: train/labels/img-1_jpg.rf.04766deb9036fc43721c26f431c3eb3d.txt  \n",
            " extracting: train/labels/img-202_jpg.rf.e0f6ad1db0c11daafb4625b1b6678faa.txt  \n",
            " extracting: train/labels/img-203_jpg.rf.29fcf9b56cd28acd7b8f97d171463785.txt  \n",
            " extracting: train/labels/img-205_jpg.rf.d1f737acba43ae7bf7374d2191904719.txt  \n",
            " extracting: train/labels/img-207_jpg.rf.7a8009c01c21717ead5486e01e2580b2.txt  \n",
            " extracting: train/labels/img-208_jpg.rf.137d967b7b8672f47e86429a98b89252.txt  \n",
            " extracting: train/labels/img-209_jpg.rf.50a35176830c86029ddfb4d3af626c08.txt  \n",
            " extracting: train/labels/img-211_jpg.rf.4aa6ae6b2af90b1fff1b5075a215641d.txt  \n",
            " extracting: train/labels/img-212_jpg.rf.5f7dc0f25419dc8a67116ce313c83707.txt  \n",
            " extracting: train/labels/img-213_jpg.rf.5a46fcca214ab83b01c26743a9dc3e72.txt  \n",
            " extracting: train/labels/img-214_jpg.rf.a35d0cd16266cfb261319a66b469ac89.txt  \n",
            " extracting: train/labels/img-215_jpg.rf.b5e67b3aafeb154d5c904a6c663718b7.txt  \n",
            " extracting: train/labels/img-216_jpg.rf.1a3dd495b3e6ba5f9cc43cec992021d7.txt  \n",
            " extracting: train/labels/img-218_jpg.rf.87be625afd1b1536ab3d9f5d0a000751.txt  \n",
            " extracting: train/labels/img-21_jpg.rf.4ae2f55eff42580278ecf92ee177fdd1.txt  \n",
            " extracting: train/labels/img-220_jpg.rf.4ffdf8738ac89d5fccf5d1e08c169af8.txt  \n",
            " extracting: train/labels/img-221_jpg.rf.9f0d03d552a78e97c74f75c74be35e38.txt  \n",
            " extracting: train/labels/img-222_jpg.rf.a00c413e9a6bafb705147f7534664ed3.txt  \n",
            " extracting: train/labels/img-223_jpg.rf.5ffeb123361acc79233a82037e058c4c.txt  \n",
            " extracting: train/labels/img-224_jpg.rf.9cdf248fe4332b59a353f0bc70a0ea01.txt  \n",
            " extracting: train/labels/img-226_jpg.rf.5f9874a019437b70987ae2aa665878b7.txt  \n",
            " extracting: train/labels/img-227_jpg.rf.4e7fd2692cefbe4e52f4198d7f8e89ff.txt  \n",
            " extracting: train/labels/img-228_jpg.rf.8170bf0af3eda9eb2c07bca7884a06a5.txt  \n",
            " extracting: train/labels/img-229_jpg.rf.d4582c3c84f78d8304ed684e4af48594.txt  \n",
            " extracting: train/labels/img-230_jpg.rf.39bac5bc33e3e0f64de17664289ec867.txt  \n",
            " extracting: train/labels/img-231_jpg.rf.1834b79b17ce894fbdc7c5334407d877.txt  \n",
            " extracting: train/labels/img-232_jpg.rf.e586c2966df762ffc459b84153da5380.txt  \n",
            " extracting: train/labels/img-233_jpg.rf.95f53597d4cd6932e86dce9fdbcc54c9.txt  \n",
            " extracting: train/labels/img-234_jpg.rf.cf4a8f8c19d33c53f38d6a19b3dd054b.txt  \n",
            " extracting: train/labels/img-235_jpg.rf.030dcf4264c55859ef30294c84f77482.txt  \n",
            " extracting: train/labels/img-236_jpg.rf.67dcb4e2f648c09a7c1bdc4e41fcb7ad.txt  \n",
            " extracting: train/labels/img-237_jpg.rf.d68dadf35426df3831bf5af536b2ebde.txt  \n",
            " extracting: train/labels/img-240_jpg.rf.06da3127a48b2f044201c9b2f9755109.txt  \n",
            " extracting: train/labels/img-241_jpg.rf.8d98e10538fa3d678b4af250991b8a94.txt  \n",
            " extracting: train/labels/img-242_jpg.rf.b18c9a478cd5489f76390ff90e9155dc.txt  \n",
            " extracting: train/labels/img-246_jpg.rf.5093ecb9a803a42964980674d3f5d2be.txt  \n",
            " extracting: train/labels/img-247_jpg.rf.506670aed39eb7dd2d892350788582fb.txt  \n",
            " extracting: train/labels/img-248_jpg.rf.372df8d99477b8990af9995308c81215.txt  \n",
            " extracting: train/labels/img-249_jpg.rf.9530479784ad79a1ede2b51e62c968b4.txt  \n",
            " extracting: train/labels/img-250_jpg.rf.7632980b590d300428e1072e1f13cef1.txt  \n",
            " extracting: train/labels/img-251_jpg.rf.2e205a42d00f6497563dedaba7387613.txt  \n",
            " extracting: train/labels/img-252_jpg.rf.7d99b08ebba1e9e530480e62891dbf54.txt  \n",
            " extracting: train/labels/img-253_jpg.rf.7465b1816c7c3025abb42dfb5d1430e1.txt  \n",
            " extracting: train/labels/img-255_jpg.rf.bfdc24d35627656fe644e3a7121c65fa.txt  \n",
            " extracting: train/labels/img-256_jpg.rf.c762541217b28d3470b203beabf29bf7.txt  \n",
            " extracting: train/labels/img-257_jpg.rf.48ba1caa7a209835d7b6d35a797b7088.txt  \n",
            " extracting: train/labels/img-258_jpg.rf.e8fb0662316d1be8867dd41fbee5ddde.txt  \n",
            " extracting: train/labels/img-259_jpg.rf.86aaa968ce87cb21d2649e95839c244d.txt  \n",
            " extracting: train/labels/img-260_jpg.rf.3acd135908f14f0e9f68192fa13ea465.txt  \n",
            " extracting: train/labels/img-261_jpg.rf.e3583096f4d7e2a182149ba9afbcfc92.txt  \n",
            " extracting: train/labels/img-262_jpg.rf.3db190e680343ed338296042b9f5e3a4.txt  \n",
            " extracting: train/labels/img-263_jpg.rf.892eb0397a70a352b0bc33f6a147d675.txt  \n",
            " extracting: train/labels/img-265_jpg.rf.e4c76dcfe49ab14372397a9ff5f153e8.txt  \n",
            " extracting: train/labels/img-266_jpg.rf.6240ac9750b2791bd481a0cb694b4a3d.txt  \n",
            " extracting: train/labels/img-267_jpg.rf.f50b4eccea93fe17ebcf2e4076140c88.txt  \n",
            " extracting: train/labels/img-268_jpg.rf.08736c012f711f24b023c914e4205149.txt  \n",
            " extracting: train/labels/img-26_jpg.rf.f941793f07a3bc5dda0723a0d30041ee.txt  \n",
            " extracting: train/labels/img-270_jpg.rf.ae32377ec34641192544670bf004739e.txt  \n",
            " extracting: train/labels/img-272_jpg.rf.8c1a71784795d3ee8535d76931594c9f.txt  \n",
            " extracting: train/labels/img-273_jpg.rf.473d6e156e61ed75a57253643ab0328f.txt  \n",
            " extracting: train/labels/img-274_jpg.rf.816b2e4bda9e51204bf2cd2aa209fe50.txt  \n",
            " extracting: train/labels/img-275_jpg.rf.59c68c48a12960c7ea86163d39f0ea4d.txt  \n",
            " extracting: train/labels/img-277_jpg.rf.70a35da45babe2c725dbe4fa639e89d2.txt  \n",
            " extracting: train/labels/img-278_jpg.rf.59aabb4c0e30640a912b669ebad9cd8d.txt  \n",
            " extracting: train/labels/img-279_jpg.rf.126ee458fab6a3983e7336bd4408e701.txt  \n",
            " extracting: train/labels/img-280_jpg.rf.53dd1da4cff0af87558cff72138794e9.txt  \n",
            " extracting: train/labels/img-281_jpg.rf.09e7fcea8709dc8bd7d799bd346b3d0f.txt  \n",
            " extracting: train/labels/img-283_jpg.rf.b8c7a6ea440f9683c3f76d5754599a4f.txt  \n",
            " extracting: train/labels/img-284_jpg.rf.56a1dfdd07c542ee7af63580db90c1fb.txt  \n",
            " extracting: train/labels/img-285_jpg.rf.7f7cf6ab5dad29d75936719c450faeed.txt  \n",
            " extracting: train/labels/img-287_jpg.rf.19a805e3a1845683bb4f47af51b8de37.txt  \n",
            " extracting: train/labels/img-288_jpg.rf.8067a6a9d79ea3dcb37e47e1e29ef88c.txt  \n",
            " extracting: train/labels/img-289_jpg.rf.39d1543a1cab281dc5febdc1a16c9a4b.txt  \n",
            " extracting: train/labels/img-290_jpg.rf.6942266560522f82066038b541027d9d.txt  \n",
            " extracting: train/labels/img-291_jpg.rf.0c1b9f687f136c9b1970efaa75d32231.txt  \n",
            " extracting: train/labels/img-292_jpg.rf.e4018e1f8e44152360a48e5232297f2a.txt  \n",
            " extracting: train/labels/img-293_jpg.rf.ca6c3ef3ac903d9e5263cc24099bbb61.txt  \n",
            " extracting: train/labels/img-295_jpg.rf.9cfbc106f3396aeb13d3f99c391ce64b.txt  \n",
            " extracting: train/labels/img-296_jpg.rf.3e33f2944f9d71c053850d09577d220d.txt  \n",
            " extracting: train/labels/img-297_jpg.rf.e43461bec653e71c229ca2c309aca359.txt  \n",
            " extracting: train/labels/img-298_jpg.rf.cf838b3dd4c5b5cc89710916246f3a87.txt  \n",
            " extracting: train/labels/img-299_jpg.rf.175bd48885a00ca91af2cde359d324ba.txt  \n",
            " extracting: train/labels/img-2_jpg.rf.962d887972144063f0280f7969d29c23.txt  \n",
            " extracting: train/labels/img-301_jpg.rf.51e9d06820d0d552e497d66f5981e7a1.txt  \n",
            " extracting: train/labels/img-302_jpg.rf.c7375ad32e8d0337bd7d27034f3764eb.txt  \n",
            " extracting: train/labels/img-304_jpg.rf.766574a013cc869e66df180f60295457.txt  \n",
            " extracting: train/labels/img-305_jpg.rf.564405f2ae91fe75f3f54639e295f1e2.txt  \n",
            " extracting: train/labels/img-306_jpg.rf.67a9eb5c5890617d59e58e98a0a86d69.txt  \n",
            " extracting: train/labels/img-309_jpg.rf.e8b8a5e1969e8e71b448aa7c83206264.txt  \n",
            " extracting: train/labels/img-30_jpg.rf.57889ecb807059b4adc0032995228d2a.txt  \n",
            " extracting: train/labels/img-310_jpg.rf.30a2a42ac01cf4b630874592f4d801ef.txt  \n",
            " extracting: train/labels/img-313_jpg.rf.9ba7cf2cdf11c9fe19b4ad52db2ecac7.txt  \n",
            " extracting: train/labels/img-314_jpg.rf.a3e7ac0036589996b9c9eb1eb44fb1ad.txt  \n",
            " extracting: train/labels/img-315_jpg.rf.654c8e0f66209d380f063ed5bf9d5187.txt  \n",
            " extracting: train/labels/img-316_jpg.rf.c144f8327780a2f710a79c3c2b5d0f07.txt  \n",
            " extracting: train/labels/img-317_jpg.rf.770d0c5b7340eea3208d88b0800066da.txt  \n",
            " extracting: train/labels/img-318_jpg.rf.3cdda5b6cffa77075c11b9bdfd8cf26f.txt  \n",
            " extracting: train/labels/img-319_jpg.rf.22b65d4f7c9aa300d0878e9424a40d67.txt  \n",
            " extracting: train/labels/img-31_jpg.rf.04f6a2c9ec048f70c2faeb7e4193784d.txt  \n",
            " extracting: train/labels/img-320_jpg.rf.0765b31c7ff97bf3c391782c13bb9818.txt  \n",
            " extracting: train/labels/img-321_jpg.rf.663ad0ed3ef90b48f212d451aa82aba9.txt  \n",
            " extracting: train/labels/img-322_jpg.rf.9fd7d306b3ecd5ae42cdff1b02b0db99.txt  \n",
            " extracting: train/labels/img-324_jpg.rf.74f09e96882cde7edbd59f92e7ecdf02.txt  \n",
            " extracting: train/labels/img-325_jpg.rf.fc14997c5d5d229bcb148997947b64b5.txt  \n",
            " extracting: train/labels/img-326_jpg.rf.25f754ec5e29d2861ed7c05c1129a4dc.txt  \n",
            " extracting: train/labels/img-327_jpg.rf.42714a663bc342d0dc175ebab152356d.txt  \n",
            " extracting: train/labels/img-328_jpg.rf.ac423267e0e078bbc60d0e6960c5167c.txt  \n",
            " extracting: train/labels/img-329_jpg.rf.622561b6e0873d93eeedcb6770b851da.txt  \n",
            " extracting: train/labels/img-330_jpg.rf.d9de506be8be5a379c88f7fe78ca8253.txt  \n",
            " extracting: train/labels/img-331_jpg.rf.7e9a42665269c16ef3a3fde22dd626b9.txt  \n",
            " extracting: train/labels/img-332_jpg.rf.edbf67c28f12aff498f83cff3736dd97.txt  \n",
            " extracting: train/labels/img-333_jpg.rf.a795e5b4a275dca433e557d9dfd6acec.txt  \n",
            " extracting: train/labels/img-339_jpg.rf.774e42a110ef70cd2e176956b9a25254.txt  \n",
            " extracting: train/labels/img-340_jpg.rf.dc85eeca2369ccd5e0f6e81ae6a9482a.txt  \n",
            " extracting: train/labels/img-341_jpg.rf.7e6dcbcdf1805587819dc6cdcab56ac6.txt  \n",
            " extracting: train/labels/img-342_jpg.rf.a635f2b522f97763152361b6b7e92ab5.txt  \n",
            " extracting: train/labels/img-345_jpg.rf.cb2f7a70ab689aee871ec218ca2a1c17.txt  \n",
            " extracting: train/labels/img-346_jpg.rf.7579261f0cdfffb527ad924a9cf86279.txt  \n",
            " extracting: train/labels/img-348_jpg.rf.7f69a937375f8585653476522d546025.txt  \n",
            " extracting: train/labels/img-349_jpg.rf.6641cef8561560b1437a093be86abf1e.txt  \n",
            " extracting: train/labels/img-351_jpg.rf.123b3f4e806dcfb111186da693c996c9.txt  \n",
            " extracting: train/labels/img-352_jpg.rf.7071e9840456e2ef41927696dddb3a5a.txt  \n",
            " extracting: train/labels/img-354_jpg.rf.a4fcd1798fe466fa035172521e93fe6d.txt  \n",
            " extracting: train/labels/img-355_jpg.rf.9cddc7f638d211138c7f3d79550da363.txt  \n",
            " extracting: train/labels/img-356_jpg.rf.4b2038d60de2fe914265bcb23cf05f89.txt  \n",
            " extracting: train/labels/img-357_jpg.rf.3fa531a04a46be8fbe22849b9bceead6.txt  \n",
            " extracting: train/labels/img-358_jpg.rf.443b2ea93c68765f0fe6722fa937cd6c.txt  \n",
            " extracting: train/labels/img-359_jpg.rf.6d9d100005eb3f84f3de55b14b854b18.txt  \n",
            " extracting: train/labels/img-360_jpg.rf.c4d38dde7ae1c773e6b3fb8e5d75bb77.txt  \n",
            " extracting: train/labels/img-361_jpg.rf.be4588f913f1e787f897058202e2b1c6.txt  \n",
            " extracting: train/labels/img-365_jpg.rf.164b210367824d2f385b0619f236abf4.txt  \n",
            " extracting: train/labels/img-366_jpg.rf.d13288366b0bb14beace0ba289956039.txt  \n",
            " extracting: train/labels/img-367_jpg.rf.299c5300a46524bfd3b2ae5e2a7398e8.txt  \n",
            " extracting: train/labels/img-372_jpg.rf.b3b86d6dfb24732444b95825c42f9422.txt  \n",
            " extracting: train/labels/img-374_jpg.rf.9ec3835feb04e376c4bc09ab1c1dde32.txt  \n",
            " extracting: train/labels/img-375_jpg.rf.bf26033ba64d588063cee3a0c97616db.txt  \n",
            " extracting: train/labels/img-376_jpg.rf.39c24ad78c32a6c855e8bbe60ad04d1f.txt  \n",
            " extracting: train/labels/img-377_jpg.rf.f7a5ae59d67aa24154dbe3931405fc57.txt  \n",
            " extracting: train/labels/img-379_jpg.rf.53d08ef1089264ceb2229544ec31f988.txt  \n",
            " extracting: train/labels/img-380_jpg.rf.0211b9d66b12bdee8d05b9ba890573dc.txt  \n",
            " extracting: train/labels/img-381_jpg.rf.69479c9b59804c60e3e0c7c2269d3712.txt  \n",
            " extracting: train/labels/img-383_jpg.rf.abedcd4fce7e8e17889e1bd4274447ba.txt  \n",
            " extracting: train/labels/img-384_jpg.rf.52f9bf925832084c3778e4d0de4dfb56.txt  \n",
            " extracting: train/labels/img-385_jpg.rf.3e1cef7e8251f4c7a1abbafd5ec599bc.txt  \n",
            " extracting: train/labels/img-388_jpg.rf.7ceda8808d1df8e7568c123af5bca8bf.txt  \n",
            " extracting: train/labels/img-389_jpg.rf.14f171b109308eeab6e83e7795c11016.txt  \n",
            " extracting: train/labels/img-38_jpg.rf.afd62a6bd8518395cf339db67500b1e1.txt  \n",
            " extracting: train/labels/img-391_jpg.rf.27e945dce7258e1d272a2a273b02ef08.txt  \n",
            " extracting: train/labels/img-392_jpg.rf.a74441b6f7c2332e3e553548670a315b.txt  \n",
            " extracting: train/labels/img-393_jpg.rf.9b0541a344853293e9ea03214f6619ce.txt  \n",
            " extracting: train/labels/img-395_jpg.rf.84ca6b6e04caa7480cfa0287417576b1.txt  \n",
            " extracting: train/labels/img-396_jpg.rf.af26b72d42bbf054aee8f62025ea2bf8.txt  \n",
            " extracting: train/labels/img-39_jpg.rf.a4ba4e9ad51da5bf7e864ca580d09931.txt  \n",
            " extracting: train/labels/img-3_jpg.rf.64d155e488ceaac83020a728ca1f70d1.txt  \n",
            " extracting: train/labels/img-401_jpg.rf.e3fe79f6f1c41b1dd0ce8ea904b39401.txt  \n",
            " extracting: train/labels/img-403_jpg.rf.8357bd90d082e6c78a660f605c08ad2e.txt  \n",
            " extracting: train/labels/img-404_jpg.rf.be12da25b2c38b58291a3a7fe817ef57.txt  \n",
            " extracting: train/labels/img-405_jpg.rf.d5138c07ca2b4fc213fc12a978cbf6f8.txt  \n",
            " extracting: train/labels/img-406_jpg.rf.39cc95c25d12800f852e45989ec1803e.txt  \n",
            " extracting: train/labels/img-407_jpg.rf.b30b42dfc9436ec4303a76932d9387cb.txt  \n",
            " extracting: train/labels/img-408_jpg.rf.633d54163fde7adb41cbac7bc690b34f.txt  \n",
            " extracting: train/labels/img-409_jpg.rf.5cdc33b00522ed3ddf0e43a2f1720c83.txt  \n",
            " extracting: train/labels/img-40_jpg.rf.bbdba0361130b13cc0e77e2f80b6e3d7.txt  \n",
            " extracting: train/labels/img-412_jpg.rf.c3344901cc1646179c93d2e8cd1b4444.txt  \n",
            " extracting: train/labels/img-413_jpg.rf.a81aa42a7782099f9921156e3161a2a9.txt  \n",
            " extracting: train/labels/img-414_jpg.rf.7dc1ae061e468ac362211f99e8f9c274.txt  \n",
            " extracting: train/labels/img-416_jpg.rf.dbafb3032c842862507a7c18c2df2b7d.txt  \n",
            " extracting: train/labels/img-418_jpg.rf.9c8b8c7bb6b6b0bd055e00e59bdd8914.txt  \n",
            " extracting: train/labels/img-419_jpg.rf.afba61803c37a1b0e4e3232dafb7be72.txt  \n",
            " extracting: train/labels/img-420_jpg.rf.3e311b9bdc9b3932e270f5402d4e4529.txt  \n",
            " extracting: train/labels/img-422_jpg.rf.8fa888de91dfb1a6c6980d3e8bf0252e.txt  \n",
            " extracting: train/labels/img-424_jpg.rf.5178a699e9c56cf7ba61ede4751b6696.txt  \n",
            " extracting: train/labels/img-425_jpg.rf.ff4c598bfc259fbbb8f8d0e3a6eff1fb.txt  \n",
            " extracting: train/labels/img-426_jpg.rf.18bab6ba48f960ed751cb35d1f628523.txt  \n",
            " extracting: train/labels/img-427_jpg.rf.2031f93af77c47391e2b6963f7536621.txt  \n",
            " extracting: train/labels/img-428_jpg.rf.087cca8e9d34735c3cd1289956c36b71.txt  \n",
            " extracting: train/labels/img-429_jpg.rf.388ca2fa7461b636f9a349bee8fcafbc.txt  \n",
            " extracting: train/labels/img-431_jpg.rf.0a68887499a4ed36c65f33a890a83afd.txt  \n",
            " extracting: train/labels/img-433_jpg.rf.3e3f8c9689f1e9f3068c86c1c0295c8f.txt  \n",
            " extracting: train/labels/img-435_jpg.rf.d9ff2d1d19d49c2a96663dcaa4a83330.txt  \n",
            " extracting: train/labels/img-436_jpg.rf.319891088041e59c31bb3d55aad586e3.txt  \n",
            " extracting: train/labels/img-437_jpg.rf.d2615be876ea3a1d9fa99d3039c97756.txt  \n",
            " extracting: train/labels/img-439_jpg.rf.e2750e5ed7bfd8910e9addda51e0c6dd.txt  \n",
            " extracting: train/labels/img-441_jpg.rf.f99cdb8fbd1cff1a5778200efd2e7b07.txt  \n",
            " extracting: train/labels/img-442_jpg.rf.d31f41baf9027c5d39e36f2a3403bc93.txt  \n",
            " extracting: train/labels/img-444_jpg.rf.d2c0751cc106650d2aac5fa76a15d521.txt  \n",
            " extracting: train/labels/img-445_jpg.rf.3ce61abb7f716b154c85baf505ebf533.txt  \n",
            " extracting: train/labels/img-446_jpg.rf.0f94b72ee4208b8b4b64ecb5bb046bda.txt  \n",
            " extracting: train/labels/img-447_jpg.rf.12ad904248518608161ea94123c2d60a.txt  \n",
            " extracting: train/labels/img-448_jpg.rf.3cd8bfd600d889108a52dedda6f617cc.txt  \n",
            " extracting: train/labels/img-450_jpg.rf.2a5241c5070556dedad85c9642d81858.txt  \n",
            " extracting: train/labels/img-451_jpg.rf.2a8100252c943091f22453f4d7793a28.txt  \n",
            " extracting: train/labels/img-453_jpg.rf.17e48aa652a50a8bc9d06d3ded580033.txt  \n",
            " extracting: train/labels/img-455_jpg.rf.a114dbe5360a6a272c43a2b4c7cb4bb1.txt  \n",
            " extracting: train/labels/img-456_jpg.rf.2907a3b901643efa6b8abd6d9d201b86.txt  \n",
            " extracting: train/labels/img-458_jpg.rf.72cb15a746ee92f6714f4ceed305738a.txt  \n",
            " extracting: train/labels/img-459_jpg.rf.d767fa292e69f79fbb81604f24209de2.txt  \n",
            " extracting: train/labels/img-45_jpg.rf.e872f0163ffadc7f06542bdf9d17d8bb.txt  \n",
            " extracting: train/labels/img-460_jpg.rf.7287edcc89d46ec826fd4a8d2301c3b1.txt  \n",
            " extracting: train/labels/img-462_jpg.rf.dc1cdd58947aa0f7d172ad76e4834de7.txt  \n",
            " extracting: train/labels/img-464_jpg.rf.c69c0cd9a27ebec152f2ca43dd39ddd2.txt  \n",
            " extracting: train/labels/img-465_jpg.rf.a4bc474c1391ceb5134993ddccf81723.txt  \n",
            " extracting: train/labels/img-466_jpg.rf.7048299d4afb9d58f9bdbb2ebc74ae85.txt  \n",
            " extracting: train/labels/img-467_jpg.rf.8e414b6ccee984d7bc43ec0a140616bb.txt  \n",
            " extracting: train/labels/img-470_jpg.rf.c1aa523b26fb96e39f98ab0eaef42516.txt  \n",
            " extracting: train/labels/img-471_jpg.rf.fbadb2fbf6289251aa19248169f4b835.txt  \n",
            " extracting: train/labels/img-473_jpg.rf.a2116db1425fc5a7c35a863735f3be83.txt  \n",
            " extracting: train/labels/img-475_jpg.rf.826d8251183c671da741c6bbdbc63b7f.txt  \n",
            " extracting: train/labels/img-476_jpg.rf.b7bf5047096c34127a33e35decef5680.txt  \n",
            " extracting: train/labels/img-478_jpg.rf.688b1641adf5ef0b085c25eb561c127f.txt  \n",
            " extracting: train/labels/img-479_jpg.rf.68af46ff65675c6673f7ab2b3ffffef5.txt  \n",
            " extracting: train/labels/img-480_jpg.rf.5878d6196e07fb3c99a93ed5dfe3f272.txt  \n",
            " extracting: train/labels/img-481_jpg.rf.a4d4dc14cb2e64612726574f736960bb.txt  \n",
            " extracting: train/labels/img-482_jpg.rf.6d284950634fb53dcaffdf5bc57777b2.txt  \n",
            " extracting: train/labels/img-483_jpg.rf.f6a3c845bd1d570af65d49dca73bc342.txt  \n",
            " extracting: train/labels/img-484_jpg.rf.a2c2b3415a901a7dd8b0e620a6d0978d.txt  \n",
            " extracting: train/labels/img-487_jpg.rf.86a0a33407773411060aea00d0e25298.txt  \n",
            " extracting: train/labels/img-488_jpg.rf.bc6f57054dc22bbd98ba111e8b50f154.txt  \n",
            " extracting: train/labels/img-489_jpg.rf.f4699ee74f2e8fb7170294124cc4fbb6.txt  \n",
            " extracting: train/labels/img-48_jpg.rf.80aab2de449196e47a920e6e3e1557ce.txt  \n",
            " extracting: train/labels/img-494_jpg.rf.93aaae7aa17f7a5e7c247cba12a1b73e.txt  \n",
            " extracting: train/labels/img-496_jpg.rf.2c704dcb336ff2900ab1082067367d75.txt  \n",
            " extracting: train/labels/img-498_jpg.rf.6cf9993e84ae2765ea83ad49216e51ca.txt  \n",
            " extracting: train/labels/img-49_jpg.rf.d01d16f6ca4e230e7b2e1e35f8288e02.txt  \n",
            " extracting: train/labels/img-4_jpg.rf.11ae6e7fa2785e9062e1dd8c234333d9.txt  \n",
            " extracting: train/labels/img-500_jpg.rf.5d3d23bc89581151be590a39424e1913.txt  \n",
            " extracting: train/labels/img-502_jpg.rf.6ca14a2dbbdbef79d541c9b3cd39f110.txt  \n",
            " extracting: train/labels/img-503_jpg.rf.78dc49524b5d013c7c3580e2f88ee8e1.txt  \n",
            " extracting: train/labels/img-504_jpg.rf.1525b6fecee461da4196b8e4c10cb555.txt  \n",
            " extracting: train/labels/img-505_jpg.rf.722ce02b299e455f7436b3ebbf0403b6.txt  \n",
            " extracting: train/labels/img-506_jpg.rf.f72b3b75b27b51787cb4db96b7e07ff0.txt  \n",
            " extracting: train/labels/img-507_jpg.rf.f161c791b6cc6f2f522aeacfb0b1d80d.txt  \n",
            " extracting: train/labels/img-508_jpg.rf.c5747e8e3af0ece987ca5af6d0819338.txt  \n",
            " extracting: train/labels/img-509_jpg.rf.5bcf3d06847c789c6ffddd4d68666c6e.txt  \n",
            " extracting: train/labels/img-510_jpg.rf.123e51756929d8babd5c1cd39b0edcad.txt  \n",
            " extracting: train/labels/img-512_jpg.rf.4f5fad0146d35d6f920f53e3c42aff2b.txt  \n",
            " extracting: train/labels/img-513_jpg.rf.2d62e3be85f489e3bc9060023ee2ea8f.txt  \n",
            " extracting: train/labels/img-514_jpg.rf.1420b37cfd4c94e8f691c667c989a5f4.txt  \n",
            " extracting: train/labels/img-515_jpg.rf.3067bb2cb196b47aae9fbfa1af6261e4.txt  \n",
            " extracting: train/labels/img-517_jpg.rf.4d6d0c5487798a48b5f6008f90a5b768.txt  \n",
            " extracting: train/labels/img-518_jpg.rf.d8c4c35beb02b2b9c58b348b1a18227c.txt  \n",
            " extracting: train/labels/img-519_jpg.rf.6ba359e3644a97cd8bffee4cf4a10ea2.txt  \n",
            " extracting: train/labels/img-51_jpg.rf.e76dba0e33058fcd7ac509c0e2fbf0ce.txt  \n",
            " extracting: train/labels/img-521_jpg.rf.fa689c56eb3cd78ed57d84143cbe8d25.txt  \n",
            " extracting: train/labels/img-523_jpg.rf.c78c71adc175d5e3eb103a96a87b7dbb.txt  \n",
            " extracting: train/labels/img-524_jpg.rf.57fb2d4f1029263048a398c620968aad.txt  \n",
            " extracting: train/labels/img-526_jpg.rf.cfd028e96dd550e97745603cab99f3fe.txt  \n",
            " extracting: train/labels/img-527_jpg.rf.865da999fbb4399a1124e21bd313a958.txt  \n",
            " extracting: train/labels/img-52_jpg.rf.f95bed5b5d7b75aca48be59a17751be5.txt  \n",
            " extracting: train/labels/img-530_jpg.rf.cbb192f42b0fcae349cd1e320c1ab748.txt  \n",
            " extracting: train/labels/img-531_jpg.rf.336a27c3846e69f905fb235a9a58a4bc.txt  \n",
            " extracting: train/labels/img-532_jpg.rf.b99ffab41211fcaa201cbdf921f29b5c.txt  \n",
            " extracting: train/labels/img-533_jpg.rf.0a1292d1f04bbf45d8846532b3ad0eb8.txt  \n",
            " extracting: train/labels/img-534_jpg.rf.0e6dc3d1cfb351bc4a784ef45b77e29b.txt  \n",
            " extracting: train/labels/img-537_jpg.rf.800a6a93bc8d87ba0889f1706b5e1622.txt  \n",
            " extracting: train/labels/img-538_jpg.rf.14ed12805bf86f1eb7a5cb9da970b755.txt  \n",
            " extracting: train/labels/img-539_jpg.rf.94298de0d2207c7b4cd2bfe4f7e1cb72.txt  \n",
            " extracting: train/labels/img-53_jpg.rf.0a3288162e47d617b9108c8b7027f362.txt  \n",
            " extracting: train/labels/img-545_jpg.rf.786788c516d06b428e6c4fbe57a8a703.txt  \n",
            " extracting: train/labels/img-546_jpg.rf.e5e035a777a3e271af95989cdc07132a.txt  \n",
            " extracting: train/labels/img-547_jpg.rf.8dd4b5b2099318a1bb39ad348cbe0576.txt  \n",
            " extracting: train/labels/img-548_jpg.rf.ba5c7c94f831b7c84f8e41d7d30530fc.txt  \n",
            " extracting: train/labels/img-549_jpg.rf.d04eac44dedf21eed1fe6c98d095ac60.txt  \n",
            " extracting: train/labels/img-54_jpg.rf.f2eb8e6eddfbada99ebc025c400123b6.txt  \n",
            " extracting: train/labels/img-551_jpg.rf.2b6aca4deb8d05243dbefe85f26bbcf3.txt  \n",
            " extracting: train/labels/img-552_jpg.rf.ec9f1bee01c43e917639e624ebacc332.txt  \n",
            " extracting: train/labels/img-553_jpg.rf.3d751837334ee73ff7a2450529875ff1.txt  \n",
            " extracting: train/labels/img-554_jpg.rf.bd50fd0a9719bf9dc5a1e028c7a74b5a.txt  \n",
            " extracting: train/labels/img-555_jpg.rf.dba58c9ee204b9fe294a6b780157c109.txt  \n",
            " extracting: train/labels/img-557_jpg.rf.a5b8313b9acd22b69d558f6f3c46d433.txt  \n",
            " extracting: train/labels/img-559_jpg.rf.b1a2ceed9c2d8dc113f4ee9c8fff530c.txt  \n",
            " extracting: train/labels/img-55_jpg.rf.1b8af76b80e22349171b71e533fa126d.txt  \n",
            " extracting: train/labels/img-560_jpg.rf.6d7310e15cca82d248f956890f2d5185.txt  \n",
            " extracting: train/labels/img-561_jpg.rf.00e55aff1b67a607a6631ac6a05bf7af.txt  \n",
            " extracting: train/labels/img-562_jpg.rf.ab7bdf89e5af687b9314b09ddcd3830d.txt  \n",
            " extracting: train/labels/img-563_jpg.rf.49bd84d4290d0c5e02175c91364b6b3e.txt  \n",
            " extracting: train/labels/img-564_jpg.rf.5698b398c84abd43b6fa425dd1613e78.txt  \n",
            " extracting: train/labels/img-565_jpg.rf.bd70802866f547c938d6d3107ac92f47.txt  \n",
            " extracting: train/labels/img-566_jpg.rf.04baef7f164a924d84511224f7b46b8a.txt  \n",
            " extracting: train/labels/img-568_jpg.rf.16fab8adbb7580a03dddd4f458212d4c.txt  \n",
            " extracting: train/labels/img-569_jpg.rf.2b1c4b01aeb0f3c6b2f853c7b121fa62.txt  \n",
            " extracting: train/labels/img-56_jpg.rf.f8fd2a331afb8baf1cd530144b8dcbf0.txt  \n",
            " extracting: train/labels/img-570_jpg.rf.23478ec934f8e2d0ff5838c3124d89f2.txt  \n",
            " extracting: train/labels/img-571_jpg.rf.df521aa0f45aa986a3e937de4083272e.txt  \n",
            " extracting: train/labels/img-572_jpg.rf.574ecb002f88fd6cff3bfe8801094ef4.txt  \n",
            " extracting: train/labels/img-573_jpg.rf.da9254336436b337c14edd7cb0bb7c39.txt  \n",
            " extracting: train/labels/img-574_jpg.rf.bb4440939828e45cfc00da0f7231dde8.txt  \n",
            " extracting: train/labels/img-575_jpg.rf.d6b69bda83c57f9464d9a9a7e6f972f7.txt  \n",
            " extracting: train/labels/img-577_jpg.rf.0b2614262552a9d5aef5b1c24ac4d748.txt  \n",
            " extracting: train/labels/img-578_jpg.rf.5debbb9d599b351e32b855f0a443b0a1.txt  \n",
            " extracting: train/labels/img-579_jpg.rf.8ee8008110728a0b1d1198a9f4bbdc74.txt  \n",
            " extracting: train/labels/img-57_jpg.rf.9992e945c7131d09ceb361ef353dc560.txt  \n",
            " extracting: train/labels/img-580_jpg.rf.ef207bf01374eb491f8d0145ce0a76a4.txt  \n",
            " extracting: train/labels/img-581_jpg.rf.8c5c82afd59e6af22ff5a3e3c72aff1f.txt  \n",
            " extracting: train/labels/img-582_jpg.rf.5a67b2d4a4085a2d227651c26648dd80.txt  \n",
            " extracting: train/labels/img-583_jpg.rf.1bc1beae7fba61be76c754940edf7c6a.txt  \n",
            " extracting: train/labels/img-584_jpg.rf.fc44d8fdba9c7b8af37faaa753133602.txt  \n",
            " extracting: train/labels/img-585_jpg.rf.5affd0b2859d074e9e52f8540e31ce8d.txt  \n",
            " extracting: train/labels/img-587_jpg.rf.728787c37c5255b92d547db8e9effa4e.txt  \n",
            " extracting: train/labels/img-589_jpg.rf.f5c99c482282385a102f43a01d51cbc6.txt  \n",
            " extracting: train/labels/img-58_jpg.rf.e1472bdd09e11193dfe82afc2a0b6e9f.txt  \n",
            " extracting: train/labels/img-592_jpg.rf.6187cc73be9786a0826c78f03b69e072.txt  \n",
            " extracting: train/labels/img-593_jpg.rf.9ecc7604e866912e7cddc0ea1c65d412.txt  \n",
            " extracting: train/labels/img-594_jpg.rf.3d9a20acdc1aea9ccb25d694f7cdbbec.txt  \n",
            " extracting: train/labels/img-595_jpg.rf.f7d0b11ae9ac53ec52b154e001c576e1.txt  \n",
            " extracting: train/labels/img-599_jpg.rf.c4e70e02e8afab3aa00ef5e1b88950ba.txt  \n",
            " extracting: train/labels/img-59_jpg.rf.5b0be5064b3641271cd16f2fc35f840f.txt  \n",
            " extracting: train/labels/img-5_jpg.rf.22d6ac3fcee8b8da274f6c1d625215e2.txt  \n",
            " extracting: train/labels/img-600_jpg.rf.75935912aecbd55fa5a0807ceceb02e8.txt  \n",
            " extracting: train/labels/img-602_jpg.rf.7ea8b9efa93431daf8b5d93df22620ac.txt  \n",
            " extracting: train/labels/img-605_jpg.rf.dcd6b582a432a5bbce6b276057ef3660.txt  \n",
            " extracting: train/labels/img-606_jpg.rf.d525667a91c953bc458519a76afc2ca2.txt  \n",
            " extracting: train/labels/img-607_jpg.rf.72e1f367a8ef39c033eafac3b66f7ea4.txt  \n",
            " extracting: train/labels/img-608_jpg.rf.6a019b85298c5fdcc6d1cc1377eb42a0.txt  \n",
            " extracting: train/labels/img-609_jpg.rf.e036fb262fec0db3c7c37622e7fcbcfd.txt  \n",
            " extracting: train/labels/img-610_jpg.rf.303b62652c5bf84b706fe1002f863b2f.txt  \n",
            " extracting: train/labels/img-612_jpg.rf.246d9a359d2add666e99da37d8590d5c.txt  \n",
            " extracting: train/labels/img-613_jpg.rf.ab3099bb3ff23deff31985fc9ffd1fc0.txt  \n",
            " extracting: train/labels/img-614_jpg.rf.727f9c1d1159709fea21d916f1a85d66.txt  \n",
            " extracting: train/labels/img-616_jpg.rf.4d03aeb93b953e520bcaf53615ff9651.txt  \n",
            " extracting: train/labels/img-617_jpg.rf.fa415edc42afffb71b94117a8200b43a.txt  \n",
            " extracting: train/labels/img-618_jpg.rf.cc7c6c35a47a453b2b1347c6525691bb.txt  \n",
            " extracting: train/labels/img-619_jpg.rf.5456a9e84bd2369e8f206f5c19410127.txt  \n",
            " extracting: train/labels/img-61_jpg.rf.2000a63661f2976215d740c84a7fa546.txt  \n",
            " extracting: train/labels/img-620_jpg.rf.077f5547cc7daeccf1aa61fd6ca2f0a4.txt  \n",
            " extracting: train/labels/img-622_jpg.rf.0de72c0dc080b1c68cc7573ef9e7d9aa.txt  \n",
            " extracting: train/labels/img-623_jpg.rf.53d9491f77118c981d2204bc45323cf8.txt  \n",
            " extracting: train/labels/img-624_jpg.rf.502c75a86b1dad5430ad53cb148b40cd.txt  \n",
            " extracting: train/labels/img-625_jpg.rf.8c9886bd3fb9566b5dbd3d1edaa3879a.txt  \n",
            " extracting: train/labels/img-626_jpg.rf.9b8b117edc1728bf995873525c2b7ad5.txt  \n",
            " extracting: train/labels/img-627_jpg.rf.4a7f140a3fdb2b92c552c1fe3361b5a4.txt  \n",
            " extracting: train/labels/img-628_jpg.rf.42b86eabd12459c1fcdde71b964b4513.txt  \n",
            " extracting: train/labels/img-62_jpg.rf.8c5233a41dc5fe17412129d1e9b7ad88.txt  \n",
            " extracting: train/labels/img-630_jpg.rf.daa4c95b49226642dd5f9fa9d0d5b857.txt  \n",
            " extracting: train/labels/img-632_jpg.rf.53a3e09948261d887eeda01c232773be.txt  \n",
            " extracting: train/labels/img-633_jpg.rf.3a6adcebf0215036565a568ea9d8a870.txt  \n",
            " extracting: train/labels/img-636_jpg.rf.a6173bddbf7d20589954172debd64256.txt  \n",
            " extracting: train/labels/img-637_jpg.rf.423e2e41b34b195a5c91a86f3fcad9e1.txt  \n",
            " extracting: train/labels/img-638_jpg.rf.2a8faf540acd84c4eba228bf828631be.txt  \n",
            " extracting: train/labels/img-639_jpg.rf.b8377ab028151caa99b7ec0164b1e1cc.txt  \n",
            " extracting: train/labels/img-63_jpg.rf.9aa76f7292d30d50dd111ad2e580b6fd.txt  \n",
            " extracting: train/labels/img-640_jpg.rf.07e03157df4d66c761b4b8c3a4418cb9.txt  \n",
            " extracting: train/labels/img-641_jpg.rf.c5579ea692508c43b5c0cd56cb9bbca1.txt  \n",
            " extracting: train/labels/img-642_jpg.rf.d948fea937b446e71e3c93417aad9211.txt  \n",
            " extracting: train/labels/img-644_jpg.rf.c846835a4c152cbd22581385edfc421a.txt  \n",
            " extracting: train/labels/img-645_jpg.rf.3bc2572b38ae76168880ecd94fc970c5.txt  \n",
            " extracting: train/labels/img-646_jpg.rf.26acf4b2f9f7b0e0935e30c10b22de66.txt  \n",
            " extracting: train/labels/img-647_jpg.rf.47741041990f3eb84cbc316d5d91642d.txt  \n",
            " extracting: train/labels/img-649_jpg.rf.7af50c8bd2d8f17c431910142ef8a569.txt  \n",
            " extracting: train/labels/img-64_jpg.rf.87f8620de24096f7cceb3e1a38ca2bdf.txt  \n",
            " extracting: train/labels/img-652_jpg.rf.0590f1d28a51cd3ae140c3b7c8a35e19.txt  \n",
            " extracting: train/labels/img-653_jpg.rf.0f72804027539a5d8568596a63951912.txt  \n",
            " extracting: train/labels/img-654_jpg.rf.5b1781ad998ed69777161157b3edebff.txt  \n",
            " extracting: train/labels/img-655_jpg.rf.2a815e4e1eacc4b38e0f61a883f60211.txt  \n",
            " extracting: train/labels/img-657_jpg.rf.746593ccbdcc4662febd1f520098249a.txt  \n",
            " extracting: train/labels/img-659_jpg.rf.e4113ec56c93406c8d26fde5a8d88a73.txt  \n",
            " extracting: train/labels/img-660_jpg.rf.136a06754370aa1b86ee084c9ae6da5f.txt  \n",
            " extracting: train/labels/img-661_jpg.rf.59e9415bda27ef166e9e0fa652a14b22.txt  \n",
            " extracting: train/labels/img-662_jpg.rf.f3cd9beffc2c8a24cae595095d375a19.txt  \n",
            " extracting: train/labels/img-663_jpg.rf.eacecce4c5b4615ad0dbe455777e1547.txt  \n",
            " extracting: train/labels/img-664_jpg.rf.0392cc4f0a63d256e7c42f057345f8b5.txt  \n",
            " extracting: train/labels/img-665_jpg.rf.f1b7ae957b1b1d8c1da0a36309e1f6e2.txt  \n",
            " extracting: train/labels/img-66_jpg.rf.356b50eb43676369ecee335108c3709f.txt  \n",
            " extracting: train/labels/img-6_jpg.rf.a961e413341cc4216cddc1c46e76d13f.txt  \n",
            " extracting: train/labels/img-70_jpg.rf.c64a3fa4382e8482aa49dd4c38c7012b.txt  \n",
            " extracting: train/labels/img-71_jpg.rf.cdf11db31e4a7deb2eb646717b72088f.txt  \n",
            " extracting: train/labels/img-73_jpg.rf.b63f566c3ddb5514f3fc2a1dd9ba40ec.txt  \n",
            " extracting: train/labels/img-74_jpg.rf.bbb7822c260ad0c8f9f4e361c534329c.txt  \n",
            " extracting: train/labels/img-75_jpg.rf.9a3c8716c1ae12e2c698c1ff62d8aa4c.txt  \n",
            " extracting: train/labels/img-76_jpg.rf.b2486fa34ebf8ebbee2850ff4c02be4a.txt  \n",
            " extracting: train/labels/img-78_jpg.rf.01130ebf73370c115ee9de4fc1f29be5.txt  \n",
            " extracting: train/labels/img-80_jpg.rf.02752f42e0f4bc24481a8d9d938a7569.txt  \n",
            " extracting: train/labels/img-81_jpg.rf.3cde6b9acba84f64ef59722240cb6fd6.txt  \n",
            " extracting: train/labels/img-83_jpg.rf.1c7a57b033ede2a3e95532df258578d4.txt  \n",
            " extracting: train/labels/img-84_jpg.rf.220a0bb7cdb0d030acdaaeb8724ed36d.txt  \n",
            " extracting: train/labels/img-85_jpg.rf.3d157a70f444d84a006039b9114b726b.txt  \n",
            " extracting: train/labels/img-86_jpg.rf.dbe8b3ed795b7a898d4fd37b08227003.txt  \n",
            " extracting: train/labels/img-87_jpg.rf.d1b29f2a180c61b7f586070108949c9e.txt  \n",
            " extracting: train/labels/img-88_jpg.rf.5f67c703ef1d55215e9362d5496fe1ec.txt  \n",
            " extracting: train/labels/img-90_jpg.rf.b470c7ecb31eaa9a524688e45287351f.txt  \n",
            " extracting: train/labels/img-95_jpg.rf.88e456640460ae2424d7881caa5d1f86.txt  \n",
            " extracting: train/labels/img-96_jpg.rf.62cddedc415c7b5c50c459bce49adcc9.txt  \n",
            " extracting: train/labels/img-97_jpg.rf.4289b6d75214d9d3dcbf17f94867a0f0.txt  \n",
            " extracting: train/labels/img-99_jpg.rf.e4e00fb5fb002d3813a2acb346473620.txt  \n",
            " extracting: train/labels/img-9_jpg.rf.de0e0920eee97f99bfa4d5a2ed29d82e.txt  \n",
            "   creating: valid/\n",
            "   creating: valid/images/\n",
            " extracting: valid/images/img-104_jpg.rf.687b8858a9a79e92ea4b11024eafee62.jpg  \n",
            " extracting: valid/images/img-106_jpg.rf.4e4d5cc9b01160ccfb18c911b34f3f98.jpg  \n",
            " extracting: valid/images/img-112_jpg.rf.f2165fc7173878a7c1ad397c7ed595d9.jpg  \n",
            " extracting: valid/images/img-116_jpg.rf.09abd4f4dd5161e4a14cdd87d23b2cab.jpg  \n",
            " extracting: valid/images/img-118_jpg.rf.75b7bf6e55f6d7b25f190d74200033c8.jpg  \n",
            " extracting: valid/images/img-120_jpg.rf.bc6b90a7439c1ed48339336ca52eda8c.jpg  \n",
            " extracting: valid/images/img-122_jpg.rf.90260f1c979ae127d37bb26cf5d1b3cf.jpg  \n",
            " extracting: valid/images/img-125_jpg.rf.31ca4f64f2a4205e38c28e30b21df509.jpg  \n",
            " extracting: valid/images/img-130_jpg.rf.b82150559b44fc5ce3e062cad83338ca.jpg  \n",
            " extracting: valid/images/img-132_jpg.rf.b50598eb1f2ec30f7fa20ec420ef15a9.jpg  \n",
            " extracting: valid/images/img-133_jpg.rf.db229e7b5cac39dc8193af4ed4e0832d.jpg  \n",
            " extracting: valid/images/img-140_jpg.rf.be70ab85a693043000968d9de23898df.jpg  \n",
            " extracting: valid/images/img-145_jpg.rf.7cdce5ed92657f35fa1903635fa81c20.jpg  \n",
            " extracting: valid/images/img-147_jpg.rf.fddcc7b6bec7550eb93fc7f4969e832e.jpg  \n",
            " extracting: valid/images/img-14_jpg.rf.25bbae75a3871870c424e5fbc8e29945.jpg  \n",
            " extracting: valid/images/img-153_jpg.rf.ba410ca055afdae3cb292f1cdede8c08.jpg  \n",
            " extracting: valid/images/img-154_jpg.rf.fbdaac9fa48b69a15abd7475dad671da.jpg  \n",
            " extracting: valid/images/img-166_jpg.rf.050636db204eec127218fd258a822c29.jpg  \n",
            " extracting: valid/images/img-171_jpg.rf.b6db124be3dd5125e24e64d34ac89230.jpg  \n",
            " extracting: valid/images/img-173_jpg.rf.d296bacc1e037ffd2add63f59488c735.jpg  \n",
            " extracting: valid/images/img-184_jpg.rf.3cf4a6d99f9effd3cb75302d2bfe406e.jpg  \n",
            " extracting: valid/images/img-190_jpg.rf.d2ae8264a842c03a2b1e58ebd5cabd74.jpg  \n",
            " extracting: valid/images/img-200_jpg.rf.86169a83685199df71ea2bb82d844aa4.jpg  \n",
            " extracting: valid/images/img-201_jpg.rf.5015efb01ff6fee25489ad442533a6b2.jpg  \n",
            " extracting: valid/images/img-204_jpg.rf.9f0bd6fce321437c0ae1b972d37e491a.jpg  \n",
            " extracting: valid/images/img-206_jpg.rf.989ffb693d448d8d80a62eb38b6f7106.jpg  \n",
            " extracting: valid/images/img-20_jpg.rf.fe0915e38abca9ba6523c4a4fd8dc779.jpg  \n",
            " extracting: valid/images/img-210_jpg.rf.6c7b0d13bdaf43eebd361179f11a3074.jpg  \n",
            " extracting: valid/images/img-219_jpg.rf.43b460b042a123d5fbe0da630653b577.jpg  \n",
            " extracting: valid/images/img-225_jpg.rf.571b61e05b958728376648a735ceaf57.jpg  \n",
            " extracting: valid/images/img-22_jpg.rf.3bbe99353a39e5a103b4b081e006fcdd.jpg  \n",
            " extracting: valid/images/img-239_jpg.rf.5c3973ade6d0c6d9cf264b60b2d6061d.jpg  \n",
            " extracting: valid/images/img-243_jpg.rf.7157d31a68925d226ba29d6b1b9b1d75.jpg  \n",
            " extracting: valid/images/img-244_jpg.rf.c05e5207f5b9294716e8ff5f10ba6a38.jpg  \n",
            " extracting: valid/images/img-24_jpg.rf.42018f151db0049eda0c504eabced76b.jpg  \n",
            " extracting: valid/images/img-254_jpg.rf.91854d4eadf02cc3bee6f1b23aeea57a.jpg  \n",
            " extracting: valid/images/img-25_jpg.rf.06ba36f4b3e07cd7684b84722d00770a.jpg  \n",
            " extracting: valid/images/img-271_jpg.rf.33fdc7d3a0d601e35462a9580b422bfe.jpg  \n",
            " extracting: valid/images/img-27_jpg.rf.2e01f53922bf03d0715ddcf0ac3905ca.jpg  \n",
            " extracting: valid/images/img-286_jpg.rf.b2d4b7a7abe91096baf42363567af589.jpg  \n",
            " extracting: valid/images/img-28_jpg.rf.e2b0d01b73bfb3629afdab7dfa06198a.jpg  \n",
            " extracting: valid/images/img-29_jpg.rf.755ed0156a7a863f9f304f3bc1e192ad.jpg  \n",
            " extracting: valid/images/img-303_jpg.rf.4028fa8598017851778a5944165a953f.jpg  \n",
            " extracting: valid/images/img-311_jpg.rf.8454a25910a149341a92ab116f831936.jpg  \n",
            " extracting: valid/images/img-312_jpg.rf.0a6234042edc7a46cfb556423895c286.jpg  \n",
            " extracting: valid/images/img-323_jpg.rf.33071b727a5a0048408cc83a2bf550a8.jpg  \n",
            " extracting: valid/images/img-32_jpg.rf.3889f9f6223819080bb08c1149fb64d1.jpg  \n",
            " extracting: valid/images/img-335_jpg.rf.2784b7f52fc84c400b8ede76eef98215.jpg  \n",
            " extracting: valid/images/img-338_jpg.rf.74bf9432194dc28aad8176e7be66ca6f.jpg  \n",
            " extracting: valid/images/img-33_jpg.rf.7132ce71f05e8f5ea94737f069801a58.jpg  \n",
            " extracting: valid/images/img-347_jpg.rf.d75495d14817b150281a950981256e4e.jpg  \n",
            " extracting: valid/images/img-34_jpg.rf.d9e0079bff5b554f1d9625689dd43075.jpg  \n",
            " extracting: valid/images/img-353_jpg.rf.07d81ddfa3209fec50df7f1f595468d8.jpg  \n",
            " extracting: valid/images/img-35_jpg.rf.68244fd62825f1f4d383ba257c1186b2.jpg  \n",
            " extracting: valid/images/img-363_jpg.rf.c15cba9de3e14fd6aa8724bcf942b27d.jpg  \n",
            " extracting: valid/images/img-368_jpg.rf.c0382efd9dad7c161542519561713a44.jpg  \n",
            " extracting: valid/images/img-369_jpg.rf.14cb906802b8d8bda62d228f6d85cced.jpg  \n",
            " extracting: valid/images/img-373_jpg.rf.e9b2fc295556d6755edf71ca30fa2f42.jpg  \n",
            " extracting: valid/images/img-378_jpg.rf.7522f7e3aa83affc214e9e0a459cb446.jpg  \n",
            " extracting: valid/images/img-37_jpg.rf.ce30d36ad9a13aa3599aeb57fcf6718a.jpg  \n",
            " extracting: valid/images/img-382_jpg.rf.f150d3d57a37b68447bb670ba15cbd8f.jpg  \n",
            " extracting: valid/images/img-386_jpg.rf.507aab7f7a725bbf8b21d6f55890b1cc.jpg  \n",
            " extracting: valid/images/img-387_jpg.rf.fb14c6f21a50ad4a36957792a4c96792.jpg  \n",
            " extracting: valid/images/img-399_jpg.rf.b905fce357b9f6bb39873b5f7559f4a0.jpg  \n",
            " extracting: valid/images/img-400_jpg.rf.17fb956f0b6a7a41d821e45a832c6a71.jpg  \n",
            " extracting: valid/images/img-402_jpg.rf.30440e31580690259343a9059a09695e.jpg  \n",
            " extracting: valid/images/img-411_jpg.rf.2ab24c809788d2adfb2a3425aee22112.jpg  \n",
            " extracting: valid/images/img-417_jpg.rf.2da468a97eb637dd8570d27094aa457b.jpg  \n",
            " extracting: valid/images/img-41_jpg.rf.576ba21bc1fe67687dec58b7396ee09a.jpg  \n",
            " extracting: valid/images/img-421_jpg.rf.9d0d1ef08ccf6432a5f506fb2ee6290c.jpg  \n",
            " extracting: valid/images/img-423_jpg.rf.582474f0d68735adbfd7a496b4fbf159.jpg  \n",
            " extracting: valid/images/img-432_jpg.rf.27188558d4a1d7b5c2075d64faf49977.jpg  \n",
            " extracting: valid/images/img-438_jpg.rf.612382cb04813e29ee45d028fcbc6bd9.jpg  \n",
            " extracting: valid/images/img-443_jpg.rf.7922db00bc35543191b2b6f3a5e307b1.jpg  \n",
            " extracting: valid/images/img-454_jpg.rf.1bcae01cf1ebbca69046e65d35c69408.jpg  \n",
            " extracting: valid/images/img-457_jpg.rf.ec4d7fc537d7170691c3c677bddc1ff4.jpg  \n",
            " extracting: valid/images/img-468_jpg.rf.2b4c6e14c8c1bb5f760bb238892e3929.jpg  \n",
            " extracting: valid/images/img-469_jpg.rf.a0f424db1106cf40f7cbbf56698ab5ba.jpg  \n",
            " extracting: valid/images/img-46_jpg.rf.b479d9e82ab3f93117826289011004a9.jpg  \n",
            " extracting: valid/images/img-474_jpg.rf.087e72d05f12bbc01d250db1e2e8343b.jpg  \n",
            " extracting: valid/images/img-485_jpg.rf.7b6a34e38d89caf1f8d97f24298e67b2.jpg  \n",
            " extracting: valid/images/img-490_jpg.rf.32377cf7b8ee68f6b7faf955aa30ab7b.jpg  \n",
            " extracting: valid/images/img-491_jpg.rf.b6979774778537b494872c0a743070d6.jpg  \n",
            " extracting: valid/images/img-492_jpg.rf.9e7685d521951604f29fe48175c0040e.jpg  \n",
            " extracting: valid/images/img-493_jpg.rf.bb58a09287078393b132cd2b68fe6f29.jpg  \n",
            " extracting: valid/images/img-495_jpg.rf.3f61bcb802633686f9ce58fe78841711.jpg  \n",
            " extracting: valid/images/img-497_jpg.rf.2c64d54e6604c392b9fc468079a62835.jpg  \n",
            " extracting: valid/images/img-499_jpg.rf.8cbc7c8dba292bbadcc34ce63112514c.jpg  \n",
            " extracting: valid/images/img-50_jpg.rf.d6c31e4e1a8a7cf2821589d31caca674.jpg  \n",
            " extracting: valid/images/img-511_jpg.rf.94ceff8a653e0f0a77c23165b0c593f9.jpg  \n",
            " extracting: valid/images/img-516_jpg.rf.d9bff40a3244096755225e1efa7dfeba.jpg  \n",
            " extracting: valid/images/img-522_jpg.rf.19bb1d8b2dbde293dc2db61b5beb29db.jpg  \n",
            " extracting: valid/images/img-528_jpg.rf.c63149b7ef386bf6460eaa2554fec266.jpg  \n",
            " extracting: valid/images/img-529_jpg.rf.395bedb53c0403cfb0f83578d822b6b8.jpg  \n",
            " extracting: valid/images/img-535_jpg.rf.669fb50bbde250434e606615f9a7a8fa.jpg  \n",
            " extracting: valid/images/img-540_jpg.rf.ae97ce521cfe27b4be4048ce3639006f.jpg  \n",
            " extracting: valid/images/img-541_jpg.rf.a93d4341d13182b1ba189ce4caac5b95.jpg  \n",
            " extracting: valid/images/img-542_jpg.rf.77644450590746c96376f073e2160d29.jpg  \n",
            " extracting: valid/images/img-543_jpg.rf.38f8a9ae642555e814236470bd45ca06.jpg  \n",
            " extracting: valid/images/img-544_jpg.rf.1696075b72562916060477389b97635d.jpg  \n",
            " extracting: valid/images/img-550_jpg.rf.73963e09241885e0b95e88ea797011c9.jpg  \n",
            " extracting: valid/images/img-556_jpg.rf.1c89285dfe3675fd0e4a7958c48a7a87.jpg  \n",
            " extracting: valid/images/img-558_jpg.rf.8ea5bd335e315b5c35f3f933216a2fe8.jpg  \n",
            " extracting: valid/images/img-567_jpg.rf.7fcd2254ecf1d37fbfd8d8d4c83fcc90.jpg  \n",
            " extracting: valid/images/img-586_jpg.rf.c599e62337598393ee94ecae83a5328a.jpg  \n",
            " extracting: valid/images/img-591_jpg.rf.fa268af30a7118608f2149617dd18a96.jpg  \n",
            " extracting: valid/images/img-596_jpg.rf.9b1ad14e1432c973fe3224c2ef8794c3.jpg  \n",
            " extracting: valid/images/img-597_jpg.rf.4ed3cb021048833cff70c9a21abfece2.jpg  \n",
            " extracting: valid/images/img-598_jpg.rf.ba92e243f003cf5d3b7951504dc21c8e.jpg  \n",
            " extracting: valid/images/img-601_jpg.rf.b388f8e7847e536a8d0b4bebf76f2f58.jpg  \n",
            " extracting: valid/images/img-603_jpg.rf.e1f5bc76f3b1f37d4436652525cd776f.jpg  \n",
            " extracting: valid/images/img-604_jpg.rf.becbd4b220417ce4d19186e23c348c41.jpg  \n",
            " extracting: valid/images/img-60_jpg.rf.ab6e2152eae420b9d6ed72067c2d2de4.jpg  \n",
            " extracting: valid/images/img-611_jpg.rf.b81a7dd560243d748bf81779d88578db.jpg  \n",
            " extracting: valid/images/img-615_jpg.rf.c957d1dcba988649c6eabf98bae75a26.jpg  \n",
            " extracting: valid/images/img-629_jpg.rf.fa98ba6e30797471aef7a9b74612cae4.jpg  \n",
            " extracting: valid/images/img-635_jpg.rf.d927a354594cf6149884c5be3e1823b4.jpg  \n",
            " extracting: valid/images/img-643_jpg.rf.1a2296e4ddd593550e1d0d142a1a5ea1.jpg  \n",
            " extracting: valid/images/img-648_jpg.rf.d2a3c4bc4ed7c6677d3c2e333f800fdc.jpg  \n",
            " extracting: valid/images/img-650_jpg.rf.e88805e59a7f1cc913add78a3fbc5021.jpg  \n",
            " extracting: valid/images/img-651_jpg.rf.9d23181946069eea42305c4169bc983a.jpg  \n",
            " extracting: valid/images/img-656_jpg.rf.493ebfd54572f357930a938084268c89.jpg  \n",
            " extracting: valid/images/img-658_jpg.rf.285e10fe9cbc54d706df8bcc035af5b5.jpg  \n",
            " extracting: valid/images/img-67_jpg.rf.d56a42fb8a3d344cca532389685a17d3.jpg  \n",
            " extracting: valid/images/img-69_jpg.rf.5f71daebea71c55717d8ce7f923ba9b6.jpg  \n",
            " extracting: valid/images/img-77_jpg.rf.34415fbad0c24da0e8f26f852895571b.jpg  \n",
            " extracting: valid/images/img-7_jpg.rf.9eb7df0def00c9b67f311458e677ea64.jpg  \n",
            " extracting: valid/images/img-89_jpg.rf.4cc9eb15fe4de48faa685770d8299408.jpg  \n",
            " extracting: valid/images/img-8_jpg.rf.1476b59188eb2734b6729af69f5cb4dc.jpg  \n",
            " extracting: valid/images/img-91_jpg.rf.1eba3ec5933f74ea41d434550d5cb3ca.jpg  \n",
            " extracting: valid/images/img-92_jpg.rf.84aa5ec68c57d302a51b8b0938e4e1c7.jpg  \n",
            " extracting: valid/images/img-93_jpg.rf.7dc83bef4593a070f4cea15ebec8a527.jpg  \n",
            " extracting: valid/images/img-94_jpg.rf.26ce6c0878886e2b49b0191cf4f952bb.jpg  \n",
            "   creating: valid/labels/\n",
            " extracting: valid/labels/img-104_jpg.rf.687b8858a9a79e92ea4b11024eafee62.txt  \n",
            " extracting: valid/labels/img-106_jpg.rf.4e4d5cc9b01160ccfb18c911b34f3f98.txt  \n",
            " extracting: valid/labels/img-112_jpg.rf.f2165fc7173878a7c1ad397c7ed595d9.txt  \n",
            " extracting: valid/labels/img-116_jpg.rf.09abd4f4dd5161e4a14cdd87d23b2cab.txt  \n",
            " extracting: valid/labels/img-118_jpg.rf.75b7bf6e55f6d7b25f190d74200033c8.txt  \n",
            " extracting: valid/labels/img-120_jpg.rf.bc6b90a7439c1ed48339336ca52eda8c.txt  \n",
            " extracting: valid/labels/img-122_jpg.rf.90260f1c979ae127d37bb26cf5d1b3cf.txt  \n",
            " extracting: valid/labels/img-125_jpg.rf.31ca4f64f2a4205e38c28e30b21df509.txt  \n",
            " extracting: valid/labels/img-130_jpg.rf.b82150559b44fc5ce3e062cad83338ca.txt  \n",
            " extracting: valid/labels/img-132_jpg.rf.b50598eb1f2ec30f7fa20ec420ef15a9.txt  \n",
            " extracting: valid/labels/img-133_jpg.rf.db229e7b5cac39dc8193af4ed4e0832d.txt  \n",
            " extracting: valid/labels/img-140_jpg.rf.be70ab85a693043000968d9de23898df.txt  \n",
            " extracting: valid/labels/img-145_jpg.rf.7cdce5ed92657f35fa1903635fa81c20.txt  \n",
            " extracting: valid/labels/img-147_jpg.rf.fddcc7b6bec7550eb93fc7f4969e832e.txt  \n",
            " extracting: valid/labels/img-14_jpg.rf.25bbae75a3871870c424e5fbc8e29945.txt  \n",
            " extracting: valid/labels/img-153_jpg.rf.ba410ca055afdae3cb292f1cdede8c08.txt  \n",
            " extracting: valid/labels/img-154_jpg.rf.fbdaac9fa48b69a15abd7475dad671da.txt  \n",
            " extracting: valid/labels/img-166_jpg.rf.050636db204eec127218fd258a822c29.txt  \n",
            " extracting: valid/labels/img-171_jpg.rf.b6db124be3dd5125e24e64d34ac89230.txt  \n",
            " extracting: valid/labels/img-173_jpg.rf.d296bacc1e037ffd2add63f59488c735.txt  \n",
            " extracting: valid/labels/img-184_jpg.rf.3cf4a6d99f9effd3cb75302d2bfe406e.txt  \n",
            " extracting: valid/labels/img-190_jpg.rf.d2ae8264a842c03a2b1e58ebd5cabd74.txt  \n",
            " extracting: valid/labels/img-200_jpg.rf.86169a83685199df71ea2bb82d844aa4.txt  \n",
            " extracting: valid/labels/img-201_jpg.rf.5015efb01ff6fee25489ad442533a6b2.txt  \n",
            " extracting: valid/labels/img-204_jpg.rf.9f0bd6fce321437c0ae1b972d37e491a.txt  \n",
            " extracting: valid/labels/img-206_jpg.rf.989ffb693d448d8d80a62eb38b6f7106.txt  \n",
            " extracting: valid/labels/img-20_jpg.rf.fe0915e38abca9ba6523c4a4fd8dc779.txt  \n",
            " extracting: valid/labels/img-210_jpg.rf.6c7b0d13bdaf43eebd361179f11a3074.txt  \n",
            " extracting: valid/labels/img-219_jpg.rf.43b460b042a123d5fbe0da630653b577.txt  \n",
            " extracting: valid/labels/img-225_jpg.rf.571b61e05b958728376648a735ceaf57.txt  \n",
            " extracting: valid/labels/img-22_jpg.rf.3bbe99353a39e5a103b4b081e006fcdd.txt  \n",
            " extracting: valid/labels/img-239_jpg.rf.5c3973ade6d0c6d9cf264b60b2d6061d.txt  \n",
            " extracting: valid/labels/img-243_jpg.rf.7157d31a68925d226ba29d6b1b9b1d75.txt  \n",
            " extracting: valid/labels/img-244_jpg.rf.c05e5207f5b9294716e8ff5f10ba6a38.txt  \n",
            " extracting: valid/labels/img-24_jpg.rf.42018f151db0049eda0c504eabced76b.txt  \n",
            " extracting: valid/labels/img-254_jpg.rf.91854d4eadf02cc3bee6f1b23aeea57a.txt  \n",
            " extracting: valid/labels/img-25_jpg.rf.06ba36f4b3e07cd7684b84722d00770a.txt  \n",
            " extracting: valid/labels/img-271_jpg.rf.33fdc7d3a0d601e35462a9580b422bfe.txt  \n",
            " extracting: valid/labels/img-27_jpg.rf.2e01f53922bf03d0715ddcf0ac3905ca.txt  \n",
            " extracting: valid/labels/img-286_jpg.rf.b2d4b7a7abe91096baf42363567af589.txt  \n",
            " extracting: valid/labels/img-28_jpg.rf.e2b0d01b73bfb3629afdab7dfa06198a.txt  \n",
            " extracting: valid/labels/img-29_jpg.rf.755ed0156a7a863f9f304f3bc1e192ad.txt  \n",
            " extracting: valid/labels/img-303_jpg.rf.4028fa8598017851778a5944165a953f.txt  \n",
            " extracting: valid/labels/img-311_jpg.rf.8454a25910a149341a92ab116f831936.txt  \n",
            " extracting: valid/labels/img-312_jpg.rf.0a6234042edc7a46cfb556423895c286.txt  \n",
            " extracting: valid/labels/img-323_jpg.rf.33071b727a5a0048408cc83a2bf550a8.txt  \n",
            " extracting: valid/labels/img-32_jpg.rf.3889f9f6223819080bb08c1149fb64d1.txt  \n",
            " extracting: valid/labels/img-335_jpg.rf.2784b7f52fc84c400b8ede76eef98215.txt  \n",
            " extracting: valid/labels/img-338_jpg.rf.74bf9432194dc28aad8176e7be66ca6f.txt  \n",
            " extracting: valid/labels/img-33_jpg.rf.7132ce71f05e8f5ea94737f069801a58.txt  \n",
            " extracting: valid/labels/img-347_jpg.rf.d75495d14817b150281a950981256e4e.txt  \n",
            " extracting: valid/labels/img-34_jpg.rf.d9e0079bff5b554f1d9625689dd43075.txt  \n",
            " extracting: valid/labels/img-353_jpg.rf.07d81ddfa3209fec50df7f1f595468d8.txt  \n",
            " extracting: valid/labels/img-35_jpg.rf.68244fd62825f1f4d383ba257c1186b2.txt  \n",
            " extracting: valid/labels/img-363_jpg.rf.c15cba9de3e14fd6aa8724bcf942b27d.txt  \n",
            " extracting: valid/labels/img-368_jpg.rf.c0382efd9dad7c161542519561713a44.txt  \n",
            " extracting: valid/labels/img-369_jpg.rf.14cb906802b8d8bda62d228f6d85cced.txt  \n",
            " extracting: valid/labels/img-373_jpg.rf.e9b2fc295556d6755edf71ca30fa2f42.txt  \n",
            " extracting: valid/labels/img-378_jpg.rf.7522f7e3aa83affc214e9e0a459cb446.txt  \n",
            " extracting: valid/labels/img-37_jpg.rf.ce30d36ad9a13aa3599aeb57fcf6718a.txt  \n",
            " extracting: valid/labels/img-382_jpg.rf.f150d3d57a37b68447bb670ba15cbd8f.txt  \n",
            " extracting: valid/labels/img-386_jpg.rf.507aab7f7a725bbf8b21d6f55890b1cc.txt  \n",
            " extracting: valid/labels/img-387_jpg.rf.fb14c6f21a50ad4a36957792a4c96792.txt  \n",
            " extracting: valid/labels/img-399_jpg.rf.b905fce357b9f6bb39873b5f7559f4a0.txt  \n",
            " extracting: valid/labels/img-400_jpg.rf.17fb956f0b6a7a41d821e45a832c6a71.txt  \n",
            " extracting: valid/labels/img-402_jpg.rf.30440e31580690259343a9059a09695e.txt  \n",
            " extracting: valid/labels/img-411_jpg.rf.2ab24c809788d2adfb2a3425aee22112.txt  \n",
            " extracting: valid/labels/img-417_jpg.rf.2da468a97eb637dd8570d27094aa457b.txt  \n",
            " extracting: valid/labels/img-41_jpg.rf.576ba21bc1fe67687dec58b7396ee09a.txt  \n",
            " extracting: valid/labels/img-421_jpg.rf.9d0d1ef08ccf6432a5f506fb2ee6290c.txt  \n",
            " extracting: valid/labels/img-423_jpg.rf.582474f0d68735adbfd7a496b4fbf159.txt  \n",
            " extracting: valid/labels/img-432_jpg.rf.27188558d4a1d7b5c2075d64faf49977.txt  \n",
            " extracting: valid/labels/img-438_jpg.rf.612382cb04813e29ee45d028fcbc6bd9.txt  \n",
            " extracting: valid/labels/img-443_jpg.rf.7922db00bc35543191b2b6f3a5e307b1.txt  \n",
            " extracting: valid/labels/img-454_jpg.rf.1bcae01cf1ebbca69046e65d35c69408.txt  \n",
            " extracting: valid/labels/img-457_jpg.rf.ec4d7fc537d7170691c3c677bddc1ff4.txt  \n",
            " extracting: valid/labels/img-468_jpg.rf.2b4c6e14c8c1bb5f760bb238892e3929.txt  \n",
            " extracting: valid/labels/img-469_jpg.rf.a0f424db1106cf40f7cbbf56698ab5ba.txt  \n",
            " extracting: valid/labels/img-46_jpg.rf.b479d9e82ab3f93117826289011004a9.txt  \n",
            " extracting: valid/labels/img-474_jpg.rf.087e72d05f12bbc01d250db1e2e8343b.txt  \n",
            " extracting: valid/labels/img-485_jpg.rf.7b6a34e38d89caf1f8d97f24298e67b2.txt  \n",
            " extracting: valid/labels/img-490_jpg.rf.32377cf7b8ee68f6b7faf955aa30ab7b.txt  \n",
            " extracting: valid/labels/img-491_jpg.rf.b6979774778537b494872c0a743070d6.txt  \n",
            " extracting: valid/labels/img-492_jpg.rf.9e7685d521951604f29fe48175c0040e.txt  \n",
            " extracting: valid/labels/img-493_jpg.rf.bb58a09287078393b132cd2b68fe6f29.txt  \n",
            " extracting: valid/labels/img-495_jpg.rf.3f61bcb802633686f9ce58fe78841711.txt  \n",
            " extracting: valid/labels/img-497_jpg.rf.2c64d54e6604c392b9fc468079a62835.txt  \n",
            " extracting: valid/labels/img-499_jpg.rf.8cbc7c8dba292bbadcc34ce63112514c.txt  \n",
            " extracting: valid/labels/img-50_jpg.rf.d6c31e4e1a8a7cf2821589d31caca674.txt  \n",
            " extracting: valid/labels/img-511_jpg.rf.94ceff8a653e0f0a77c23165b0c593f9.txt  \n",
            " extracting: valid/labels/img-516_jpg.rf.d9bff40a3244096755225e1efa7dfeba.txt  \n",
            " extracting: valid/labels/img-522_jpg.rf.19bb1d8b2dbde293dc2db61b5beb29db.txt  \n",
            " extracting: valid/labels/img-528_jpg.rf.c63149b7ef386bf6460eaa2554fec266.txt  \n",
            " extracting: valid/labels/img-529_jpg.rf.395bedb53c0403cfb0f83578d822b6b8.txt  \n",
            " extracting: valid/labels/img-535_jpg.rf.669fb50bbde250434e606615f9a7a8fa.txt  \n",
            " extracting: valid/labels/img-540_jpg.rf.ae97ce521cfe27b4be4048ce3639006f.txt  \n",
            " extracting: valid/labels/img-541_jpg.rf.a93d4341d13182b1ba189ce4caac5b95.txt  \n",
            " extracting: valid/labels/img-542_jpg.rf.77644450590746c96376f073e2160d29.txt  \n",
            " extracting: valid/labels/img-543_jpg.rf.38f8a9ae642555e814236470bd45ca06.txt  \n",
            " extracting: valid/labels/img-544_jpg.rf.1696075b72562916060477389b97635d.txt  \n",
            " extracting: valid/labels/img-550_jpg.rf.73963e09241885e0b95e88ea797011c9.txt  \n",
            " extracting: valid/labels/img-556_jpg.rf.1c89285dfe3675fd0e4a7958c48a7a87.txt  \n",
            " extracting: valid/labels/img-558_jpg.rf.8ea5bd335e315b5c35f3f933216a2fe8.txt  \n",
            " extracting: valid/labels/img-567_jpg.rf.7fcd2254ecf1d37fbfd8d8d4c83fcc90.txt  \n",
            " extracting: valid/labels/img-586_jpg.rf.c599e62337598393ee94ecae83a5328a.txt  \n",
            " extracting: valid/labels/img-591_jpg.rf.fa268af30a7118608f2149617dd18a96.txt  \n",
            " extracting: valid/labels/img-596_jpg.rf.9b1ad14e1432c973fe3224c2ef8794c3.txt  \n",
            " extracting: valid/labels/img-597_jpg.rf.4ed3cb021048833cff70c9a21abfece2.txt  \n",
            " extracting: valid/labels/img-598_jpg.rf.ba92e243f003cf5d3b7951504dc21c8e.txt  \n",
            " extracting: valid/labels/img-601_jpg.rf.b388f8e7847e536a8d0b4bebf76f2f58.txt  \n",
            " extracting: valid/labels/img-603_jpg.rf.e1f5bc76f3b1f37d4436652525cd776f.txt  \n",
            " extracting: valid/labels/img-604_jpg.rf.becbd4b220417ce4d19186e23c348c41.txt  \n",
            " extracting: valid/labels/img-60_jpg.rf.ab6e2152eae420b9d6ed72067c2d2de4.txt  \n",
            " extracting: valid/labels/img-611_jpg.rf.b81a7dd560243d748bf81779d88578db.txt  \n",
            " extracting: valid/labels/img-615_jpg.rf.c957d1dcba988649c6eabf98bae75a26.txt  \n",
            " extracting: valid/labels/img-629_jpg.rf.fa98ba6e30797471aef7a9b74612cae4.txt  \n",
            " extracting: valid/labels/img-635_jpg.rf.d927a354594cf6149884c5be3e1823b4.txt  \n",
            " extracting: valid/labels/img-643_jpg.rf.1a2296e4ddd593550e1d0d142a1a5ea1.txt  \n",
            " extracting: valid/labels/img-648_jpg.rf.d2a3c4bc4ed7c6677d3c2e333f800fdc.txt  \n",
            " extracting: valid/labels/img-650_jpg.rf.e88805e59a7f1cc913add78a3fbc5021.txt  \n",
            " extracting: valid/labels/img-651_jpg.rf.9d23181946069eea42305c4169bc983a.txt  \n",
            " extracting: valid/labels/img-656_jpg.rf.493ebfd54572f357930a938084268c89.txt  \n",
            " extracting: valid/labels/img-658_jpg.rf.285e10fe9cbc54d706df8bcc035af5b5.txt  \n",
            " extracting: valid/labels/img-67_jpg.rf.d56a42fb8a3d344cca532389685a17d3.txt  \n",
            " extracting: valid/labels/img-69_jpg.rf.5f71daebea71c55717d8ce7f923ba9b6.txt  \n",
            " extracting: valid/labels/img-77_jpg.rf.34415fbad0c24da0e8f26f852895571b.txt  \n",
            " extracting: valid/labels/img-7_jpg.rf.9eb7df0def00c9b67f311458e677ea64.txt  \n",
            " extracting: valid/labels/img-89_jpg.rf.4cc9eb15fe4de48faa685770d8299408.txt  \n",
            " extracting: valid/labels/img-8_jpg.rf.1476b59188eb2734b6729af69f5cb4dc.txt  \n",
            " extracting: valid/labels/img-91_jpg.rf.1eba3ec5933f74ea41d434550d5cb3ca.txt  \n",
            " extracting: valid/labels/img-92_jpg.rf.84aa5ec68c57d302a51b8b0938e4e1c7.txt  \n",
            " extracting: valid/labels/img-93_jpg.rf.7dc83bef4593a070f4cea15ebec8a527.txt  \n",
            " extracting: valid/labels/img-94_jpg.rf.26ce6c0878886e2b49b0191cf4f952bb.txt  \n"
          ]
        }
      ]
    },
    {
      "cell_type": "code",
      "execution_count": 2,
      "metadata": {
        "colab": {
          "base_uri": "https://localhost:8080/"
        },
        "id": "AW-KcnGwbijM",
        "outputId": "4539e7dd-3ef3-4458-977d-7fd67d3101db"
      },
      "outputs": [
        {
          "output_type": "stream",
          "name": "stdout",
          "text": [
            "Collecting ultralytics\n",
            "  Downloading ultralytics-8.3.182-py3-none-any.whl.metadata (37 kB)\n",
            "Requirement already satisfied: numpy>=1.23.0 in /usr/local/lib/python3.12/dist-packages (from ultralytics) (2.0.2)\n",
            "Requirement already satisfied: matplotlib>=3.3.0 in /usr/local/lib/python3.12/dist-packages (from ultralytics) (3.10.0)\n",
            "Requirement already satisfied: opencv-python>=4.6.0 in /usr/local/lib/python3.12/dist-packages (from ultralytics) (4.12.0.88)\n",
            "Requirement already satisfied: pillow>=7.1.2 in /usr/local/lib/python3.12/dist-packages (from ultralytics) (11.3.0)\n",
            "Requirement already satisfied: pyyaml>=5.3.1 in /usr/local/lib/python3.12/dist-packages (from ultralytics) (6.0.2)\n",
            "Requirement already satisfied: requests>=2.23.0 in /usr/local/lib/python3.12/dist-packages (from ultralytics) (2.32.4)\n",
            "Requirement already satisfied: scipy>=1.4.1 in /usr/local/lib/python3.12/dist-packages (from ultralytics) (1.16.1)\n",
            "Requirement already satisfied: torch>=1.8.0 in /usr/local/lib/python3.12/dist-packages (from ultralytics) (2.8.0+cu126)\n",
            "Requirement already satisfied: torchvision>=0.9.0 in /usr/local/lib/python3.12/dist-packages (from ultralytics) (0.23.0+cu126)\n",
            "Requirement already satisfied: tqdm>=4.64.0 in /usr/local/lib/python3.12/dist-packages (from ultralytics) (4.67.1)\n",
            "Requirement already satisfied: psutil in /usr/local/lib/python3.12/dist-packages (from ultralytics) (5.9.5)\n",
            "Requirement already satisfied: py-cpuinfo in /usr/local/lib/python3.12/dist-packages (from ultralytics) (9.0.0)\n",
            "Requirement already satisfied: pandas>=1.1.4 in /usr/local/lib/python3.12/dist-packages (from ultralytics) (2.2.2)\n",
            "Collecting ultralytics-thop>=2.0.0 (from ultralytics)\n",
            "  Downloading ultralytics_thop-2.0.16-py3-none-any.whl.metadata (14 kB)\n",
            "Requirement already satisfied: contourpy>=1.0.1 in /usr/local/lib/python3.12/dist-packages (from matplotlib>=3.3.0->ultralytics) (1.3.3)\n",
            "Requirement already satisfied: cycler>=0.10 in /usr/local/lib/python3.12/dist-packages (from matplotlib>=3.3.0->ultralytics) (0.12.1)\n",
            "Requirement already satisfied: fonttools>=4.22.0 in /usr/local/lib/python3.12/dist-packages (from matplotlib>=3.3.0->ultralytics) (4.59.1)\n",
            "Requirement already satisfied: kiwisolver>=1.3.1 in /usr/local/lib/python3.12/dist-packages (from matplotlib>=3.3.0->ultralytics) (1.4.9)\n",
            "Requirement already satisfied: packaging>=20.0 in /usr/local/lib/python3.12/dist-packages (from matplotlib>=3.3.0->ultralytics) (25.0)\n",
            "Requirement already satisfied: pyparsing>=2.3.1 in /usr/local/lib/python3.12/dist-packages (from matplotlib>=3.3.0->ultralytics) (3.2.3)\n",
            "Requirement already satisfied: python-dateutil>=2.7 in /usr/local/lib/python3.12/dist-packages (from matplotlib>=3.3.0->ultralytics) (2.9.0.post0)\n",
            "Requirement already satisfied: pytz>=2020.1 in /usr/local/lib/python3.12/dist-packages (from pandas>=1.1.4->ultralytics) (2025.2)\n",
            "Requirement already satisfied: tzdata>=2022.7 in /usr/local/lib/python3.12/dist-packages (from pandas>=1.1.4->ultralytics) (2025.2)\n",
            "Requirement already satisfied: charset_normalizer<4,>=2 in /usr/local/lib/python3.12/dist-packages (from requests>=2.23.0->ultralytics) (3.4.3)\n",
            "Requirement already satisfied: idna<4,>=2.5 in /usr/local/lib/python3.12/dist-packages (from requests>=2.23.0->ultralytics) (3.10)\n",
            "Requirement already satisfied: urllib3<3,>=1.21.1 in /usr/local/lib/python3.12/dist-packages (from requests>=2.23.0->ultralytics) (2.5.0)\n",
            "Requirement already satisfied: certifi>=2017.4.17 in /usr/local/lib/python3.12/dist-packages (from requests>=2.23.0->ultralytics) (2025.8.3)\n",
            "Requirement already satisfied: filelock in /usr/local/lib/python3.12/dist-packages (from torch>=1.8.0->ultralytics) (3.19.1)\n",
            "Requirement already satisfied: typing-extensions>=4.10.0 in /usr/local/lib/python3.12/dist-packages (from torch>=1.8.0->ultralytics) (4.14.1)\n",
            "Requirement already satisfied: setuptools in /usr/local/lib/python3.12/dist-packages (from torch>=1.8.0->ultralytics) (75.2.0)\n",
            "Requirement already satisfied: sympy>=1.13.3 in /usr/local/lib/python3.12/dist-packages (from torch>=1.8.0->ultralytics) (1.13.3)\n",
            "Requirement already satisfied: networkx in /usr/local/lib/python3.12/dist-packages (from torch>=1.8.0->ultralytics) (3.5)\n",
            "Requirement already satisfied: jinja2 in /usr/local/lib/python3.12/dist-packages (from torch>=1.8.0->ultralytics) (3.1.6)\n",
            "Requirement already satisfied: fsspec in /usr/local/lib/python3.12/dist-packages (from torch>=1.8.0->ultralytics) (2025.3.0)\n",
            "Requirement already satisfied: nvidia-cuda-nvrtc-cu12==12.6.77 in /usr/local/lib/python3.12/dist-packages (from torch>=1.8.0->ultralytics) (12.6.77)\n",
            "Requirement already satisfied: nvidia-cuda-runtime-cu12==12.6.77 in /usr/local/lib/python3.12/dist-packages (from torch>=1.8.0->ultralytics) (12.6.77)\n",
            "Requirement already satisfied: nvidia-cuda-cupti-cu12==12.6.80 in /usr/local/lib/python3.12/dist-packages (from torch>=1.8.0->ultralytics) (12.6.80)\n",
            "Requirement already satisfied: nvidia-cudnn-cu12==9.10.2.21 in /usr/local/lib/python3.12/dist-packages (from torch>=1.8.0->ultralytics) (9.10.2.21)\n",
            "Requirement already satisfied: nvidia-cublas-cu12==12.6.4.1 in /usr/local/lib/python3.12/dist-packages (from torch>=1.8.0->ultralytics) (12.6.4.1)\n",
            "Requirement already satisfied: nvidia-cufft-cu12==11.3.0.4 in /usr/local/lib/python3.12/dist-packages (from torch>=1.8.0->ultralytics) (11.3.0.4)\n",
            "Requirement already satisfied: nvidia-curand-cu12==10.3.7.77 in /usr/local/lib/python3.12/dist-packages (from torch>=1.8.0->ultralytics) (10.3.7.77)\n",
            "Requirement already satisfied: nvidia-cusolver-cu12==11.7.1.2 in /usr/local/lib/python3.12/dist-packages (from torch>=1.8.0->ultralytics) (11.7.1.2)\n",
            "Requirement already satisfied: nvidia-cusparse-cu12==12.5.4.2 in /usr/local/lib/python3.12/dist-packages (from torch>=1.8.0->ultralytics) (12.5.4.2)\n",
            "Requirement already satisfied: nvidia-cusparselt-cu12==0.7.1 in /usr/local/lib/python3.12/dist-packages (from torch>=1.8.0->ultralytics) (0.7.1)\n",
            "Requirement already satisfied: nvidia-nccl-cu12==2.27.3 in /usr/local/lib/python3.12/dist-packages (from torch>=1.8.0->ultralytics) (2.27.3)\n",
            "Requirement already satisfied: nvidia-nvtx-cu12==12.6.77 in /usr/local/lib/python3.12/dist-packages (from torch>=1.8.0->ultralytics) (12.6.77)\n",
            "Requirement already satisfied: nvidia-nvjitlink-cu12==12.6.85 in /usr/local/lib/python3.12/dist-packages (from torch>=1.8.0->ultralytics) (12.6.85)\n",
            "Requirement already satisfied: nvidia-cufile-cu12==1.11.1.6 in /usr/local/lib/python3.12/dist-packages (from torch>=1.8.0->ultralytics) (1.11.1.6)\n",
            "Requirement already satisfied: triton==3.4.0 in /usr/local/lib/python3.12/dist-packages (from torch>=1.8.0->ultralytics) (3.4.0)\n",
            "Requirement already satisfied: six>=1.5 in /usr/local/lib/python3.12/dist-packages (from python-dateutil>=2.7->matplotlib>=3.3.0->ultralytics) (1.17.0)\n",
            "Requirement already satisfied: mpmath<1.4,>=1.1.0 in /usr/local/lib/python3.12/dist-packages (from sympy>=1.13.3->torch>=1.8.0->ultralytics) (1.3.0)\n",
            "Requirement already satisfied: MarkupSafe>=2.0 in /usr/local/lib/python3.12/dist-packages (from jinja2->torch>=1.8.0->ultralytics) (3.0.2)\n",
            "Downloading ultralytics-8.3.182-py3-none-any.whl (1.0 MB)\n",
            "\u001b[2K   \u001b[90m━━━━━━━━━━━━━━━━━━━━━━━━━━━━━━━━━━━━━━━━\u001b[0m \u001b[32m1.0/1.0 MB\u001b[0m \u001b[31m29.4 MB/s\u001b[0m eta \u001b[36m0:00:00\u001b[0m\n",
            "\u001b[?25hDownloading ultralytics_thop-2.0.16-py3-none-any.whl (28 kB)\n",
            "Installing collected packages: ultralytics-thop, ultralytics\n",
            "Successfully installed ultralytics-8.3.182 ultralytics-thop-2.0.16\n"
          ]
        }
      ],
      "source": [
        "!pip install ultralytics"
      ]
    },
    {
      "cell_type": "code",
      "source": [
        "from ultralytics import YOLO"
      ],
      "metadata": {
        "colab": {
          "base_uri": "https://localhost:8080/"
        },
        "id": "TLh8cWaVcqeS",
        "outputId": "b38ce868-ef51-48eb-be26-e85c67200938"
      },
      "execution_count": 3,
      "outputs": [
        {
          "output_type": "stream",
          "name": "stdout",
          "text": [
            "Creating new Ultralytics Settings v0.0.6 file ✅ \n",
            "View Ultralytics Settings with 'yolo settings' or at '/root/.config/Ultralytics/settings.json'\n",
            "Update Settings with 'yolo settings key=value', i.e. 'yolo settings runs_dir=path/to/dir'. For help see https://docs.ultralytics.com/quickstart/#ultralytics-settings.\n"
          ]
        }
      ]
    },
    {
      "cell_type": "code",
      "source": [
        "model = YOLO(\"yolov8n.pt\")"
      ],
      "metadata": {
        "colab": {
          "base_uri": "https://localhost:8080/"
        },
        "id": "LIu1KWfnbsIA",
        "outputId": "539b6573-93eb-47f8-c6b3-943a1041b5b0"
      },
      "execution_count": 4,
      "outputs": [
        {
          "output_type": "stream",
          "name": "stderr",
          "text": [
            "Downloading https://github.com/ultralytics/assets/releases/download/v8.3.0/yolov8n.pt to 'yolov8n.pt': 100%|██████████| 6.25M/6.25M [00:00<00:00, 90.7MB/s]\n"
          ]
        }
      ]
    },
    {
      "cell_type": "code",
      "source": [
        "results = model.train(data=\"data.yaml\", epochs=90, imgsz=480)"
      ],
      "metadata": {
        "colab": {
          "base_uri": "https://localhost:8080/"
        },
        "id": "KbyqD2WKbtM-",
        "outputId": "6d819833-ee38-49f6-965e-500da4262deb"
      },
      "execution_count": 5,
      "outputs": [
        {
          "output_type": "stream",
          "name": "stdout",
          "text": [
            "Ultralytics 8.3.182 🚀 Python-3.12.11 torch-2.8.0+cu126 CUDA:0 (NVIDIA L4, 22693MiB)\n",
            "\u001b[34m\u001b[1mengine/trainer: \u001b[0magnostic_nms=False, amp=True, augment=False, auto_augment=randaugment, batch=16, bgr=0.0, box=7.5, cache=False, cfg=None, classes=None, close_mosaic=10, cls=0.5, conf=None, copy_paste=0.0, copy_paste_mode=flip, cos_lr=False, cutmix=0.0, data=data.yaml, degrees=0.0, deterministic=True, device=None, dfl=1.5, dnn=False, dropout=0.0, dynamic=False, embed=None, epochs=90, erasing=0.4, exist_ok=False, fliplr=0.5, flipud=0.0, format=torchscript, fraction=1.0, freeze=None, half=False, hsv_h=0.015, hsv_s=0.7, hsv_v=0.4, imgsz=480, int8=False, iou=0.7, keras=False, kobj=1.0, line_width=None, lr0=0.01, lrf=0.01, mask_ratio=4, max_det=300, mixup=0.0, mode=train, model=yolov8n.pt, momentum=0.937, mosaic=1.0, multi_scale=False, name=train, nbs=64, nms=False, opset=None, optimize=False, optimizer=auto, overlap_mask=True, patience=100, perspective=0.0, plots=True, pose=12.0, pretrained=True, profile=False, project=None, rect=False, resume=False, retina_masks=False, save=True, save_conf=False, save_crop=False, save_dir=runs/detect/train, save_frames=False, save_json=False, save_period=-1, save_txt=False, scale=0.5, seed=0, shear=0.0, show=False, show_boxes=True, show_conf=True, show_labels=True, simplify=True, single_cls=False, source=None, split=val, stream_buffer=False, task=detect, time=None, tracker=botsort.yaml, translate=0.1, val=True, verbose=True, vid_stride=1, visualize=False, warmup_bias_lr=0.1, warmup_epochs=3.0, warmup_momentum=0.8, weight_decay=0.0005, workers=8, workspace=None\n"
          ]
        },
        {
          "output_type": "stream",
          "name": "stderr",
          "text": [
            "Downloading https://ultralytics.com/assets/Arial.ttf to '/root/.config/Ultralytics/Arial.ttf': 100%|██████████| 755k/755k [00:00<00:00, 23.5MB/s]"
          ]
        },
        {
          "output_type": "stream",
          "name": "stdout",
          "text": [
            "Overriding model.yaml nc=80 with nc=1\n",
            "\n",
            "                   from  n    params  module                                       arguments                     \n",
            "  0                  -1  1       464  ultralytics.nn.modules.conv.Conv             [3, 16, 3, 2]                 \n",
            "  1                  -1  1      4672  ultralytics.nn.modules.conv.Conv             [16, 32, 3, 2]                \n",
            "  2                  -1  1      7360  ultralytics.nn.modules.block.C2f             [32, 32, 1, True]             \n",
            "  3                  -1  1     18560  ultralytics.nn.modules.conv.Conv             [32, 64, 3, 2]                \n",
            "  4                  -1  2     49664  ultralytics.nn.modules.block.C2f             [64, 64, 2, True]             \n",
            "  5                  -1  1     73984  ultralytics.nn.modules.conv.Conv             [64, 128, 3, 2]               \n",
            "  6                  -1  2    197632  ultralytics.nn.modules.block.C2f             [128, 128, 2, True]           \n",
            "  7                  -1  1    295424  ultralytics.nn.modules.conv.Conv             [128, 256, 3, 2]              \n",
            "  8                  -1  1    460288  ultralytics.nn.modules.block.C2f             [256, 256, 1, True]           \n",
            "  9                  -1  1    164608  ultralytics.nn.modules.block.SPPF            [256, 256, 5]                 \n",
            " 10                  -1  1         0  torch.nn.modules.upsampling.Upsample         [None, 2, 'nearest']          \n",
            " 11             [-1, 6]  1         0  ultralytics.nn.modules.conv.Concat           [1]                           \n",
            " 12                  -1  1    148224  ultralytics.nn.modules.block.C2f             [384, 128, 1]                 \n",
            " 13                  -1  1         0  torch.nn.modules.upsampling.Upsample         [None, 2, 'nearest']          \n",
            " 14             [-1, 4]  1         0  ultralytics.nn.modules.conv.Concat           [1]                           \n",
            " 15                  -1  1     37248  ultralytics.nn.modules.block.C2f             [192, 64, 1]                  \n",
            " 16                  -1  1     36992  ultralytics.nn.modules.conv.Conv             [64, 64, 3, 2]                \n",
            " 17            [-1, 12]  1         0  ultralytics.nn.modules.conv.Concat           [1]                           \n",
            " 18                  -1  1    123648  ultralytics.nn.modules.block.C2f             [192, 128, 1]                 \n",
            " 19                  -1  1    147712  ultralytics.nn.modules.conv.Conv             [128, 128, 3, 2]              \n",
            " 20             [-1, 9]  1         0  ultralytics.nn.modules.conv.Concat           [1]                           \n",
            " 21                  -1  1    493056  ultralytics.nn.modules.block.C2f             [384, 256, 1]                 \n",
            " 22        [15, 18, 21]  1    751507  ultralytics.nn.modules.head.Detect           [1, [64, 128, 256]]           \n"
          ]
        },
        {
          "output_type": "stream",
          "name": "stderr",
          "text": [
            "\n"
          ]
        },
        {
          "output_type": "stream",
          "name": "stdout",
          "text": [
            "Model summary: 129 layers, 3,011,043 parameters, 3,011,027 gradients, 8.2 GFLOPs\n",
            "\n",
            "Transferred 319/355 items from pretrained weights\n",
            "Freezing layer 'model.22.dfl.conv.weight'\n",
            "\u001b[34m\u001b[1mAMP: \u001b[0mrunning Automatic Mixed Precision (AMP) checks...\n"
          ]
        },
        {
          "output_type": "stream",
          "name": "stderr",
          "text": [
            "Downloading https://github.com/ultralytics/assets/releases/download/v8.3.0/yolo11n.pt to 'yolo11n.pt': 100%|██████████| 5.35M/5.35M [00:00<00:00, 81.0MB/s]\n"
          ]
        },
        {
          "output_type": "stream",
          "name": "stdout",
          "text": [
            "\u001b[34m\u001b[1mAMP: \u001b[0mchecks passed ✅\n",
            "\u001b[34m\u001b[1mtrain: \u001b[0mFast image access ✅ (ping: 0.0±0.0 ms, read: 1377.7±773.3 MB/s, size: 48.8 KB)\n"
          ]
        },
        {
          "output_type": "stream",
          "name": "stderr",
          "text": [
            "\u001b[34m\u001b[1mtrain: \u001b[0mScanning /content/train/labels... 465 images, 0 backgrounds, 0 corrupt: 100%|██████████| 465/465 [00:00<00:00, 1555.42it/s]\n"
          ]
        },
        {
          "output_type": "stream",
          "name": "stdout",
          "text": [
            "\u001b[34m\u001b[1mtrain: \u001b[0mNew cache created: /content/train/labels.cache\n",
            "\u001b[34m\u001b[1malbumentations: \u001b[0mBlur(p=0.01, blur_limit=(3, 7)), MedianBlur(p=0.01, blur_limit=(3, 7)), ToGray(p=0.01, method='weighted_average', num_output_channels=3), CLAHE(p=0.01, clip_limit=(1.0, 4.0), tile_grid_size=(8, 8))\n",
            "\u001b[34m\u001b[1mval: \u001b[0mFast image access ✅ (ping: 0.0±0.0 ms, read: 900.0±585.8 MB/s, size: 72.5 KB)\n"
          ]
        },
        {
          "output_type": "stream",
          "name": "stderr",
          "text": [
            "\u001b[34m\u001b[1mval: \u001b[0mScanning /content/valid/labels... 133 images, 0 backgrounds, 0 corrupt: 100%|██████████| 133/133 [00:00<00:00, 1417.44it/s]"
          ]
        },
        {
          "output_type": "stream",
          "name": "stdout",
          "text": [
            "\u001b[34m\u001b[1mval: \u001b[0mNew cache created: /content/valid/labels.cache\n"
          ]
        },
        {
          "output_type": "stream",
          "name": "stderr",
          "text": [
            "\n"
          ]
        },
        {
          "output_type": "stream",
          "name": "stdout",
          "text": [
            "Plotting labels to runs/detect/train/labels.jpg... \n",
            "\u001b[34m\u001b[1moptimizer:\u001b[0m 'optimizer=auto' found, ignoring 'lr0=0.01' and 'momentum=0.937' and determining best 'optimizer', 'lr0' and 'momentum' automatically... \n",
            "\u001b[34m\u001b[1moptimizer:\u001b[0m AdamW(lr=0.002, momentum=0.9) with parameter groups 57 weight(decay=0.0), 64 weight(decay=0.0005), 63 bias(decay=0.0)\n",
            "Image sizes 480 train, 480 val\n",
            "Using 8 dataloader workers\n",
            "Logging results to \u001b[1mruns/detect/train\u001b[0m\n",
            "Starting training for 90 epochs...\n",
            "\n",
            "      Epoch    GPU_mem   box_loss   cls_loss   dfl_loss  Instances       Size\n"
          ]
        },
        {
          "output_type": "stream",
          "name": "stderr",
          "text": [
            "       1/90      1.21G      1.653      2.477      1.452          4        480: 100%|██████████| 30/30 [00:07<00:00,  3.88it/s]\n",
            "                 Class     Images  Instances      Box(P          R      mAP50  mAP50-95): 100%|██████████| 5/5 [00:01<00:00,  3.02it/s]"
          ]
        },
        {
          "output_type": "stream",
          "name": "stdout",
          "text": [
            "                   all        133        330    0.00689      0.833      0.278      0.149\n"
          ]
        },
        {
          "output_type": "stream",
          "name": "stderr",
          "text": [
            "\n"
          ]
        },
        {
          "output_type": "stream",
          "name": "stdout",
          "text": [
            "\n",
            "      Epoch    GPU_mem   box_loss   cls_loss   dfl_loss  Instances       Size\n"
          ]
        },
        {
          "output_type": "stream",
          "name": "stderr",
          "text": [
            "       2/90      1.36G      1.571      1.805      1.382          2        480: 100%|██████████| 30/30 [00:02<00:00, 12.84it/s]\n",
            "                 Class     Images  Instances      Box(P          R      mAP50  mAP50-95): 100%|██████████| 5/5 [00:00<00:00,  9.88it/s]"
          ]
        },
        {
          "output_type": "stream",
          "name": "stdout",
          "text": [
            "                   all        133        330      0.692        0.3      0.378      0.189\n"
          ]
        },
        {
          "output_type": "stream",
          "name": "stderr",
          "text": [
            "\n"
          ]
        },
        {
          "output_type": "stream",
          "name": "stdout",
          "text": [
            "\n",
            "      Epoch    GPU_mem   box_loss   cls_loss   dfl_loss  Instances       Size\n"
          ]
        },
        {
          "output_type": "stream",
          "name": "stderr",
          "text": [
            "       3/90      1.38G      1.634      1.772      1.422          5        480: 100%|██████████| 30/30 [00:02<00:00, 12.83it/s]\n",
            "                 Class     Images  Instances      Box(P          R      mAP50  mAP50-95): 100%|██████████| 5/5 [00:00<00:00,  9.91it/s]"
          ]
        },
        {
          "output_type": "stream",
          "name": "stdout",
          "text": [
            "                   all        133        330      0.369      0.261      0.233      0.107\n"
          ]
        },
        {
          "output_type": "stream",
          "name": "stderr",
          "text": [
            "\n"
          ]
        },
        {
          "output_type": "stream",
          "name": "stdout",
          "text": [
            "\n",
            "      Epoch    GPU_mem   box_loss   cls_loss   dfl_loss  Instances       Size\n"
          ]
        },
        {
          "output_type": "stream",
          "name": "stderr",
          "text": [
            "       4/90       1.4G      1.613      1.704      1.393          5        480: 100%|██████████| 30/30 [00:02<00:00, 13.58it/s]\n",
            "                 Class     Images  Instances      Box(P          R      mAP50  mAP50-95): 100%|██████████| 5/5 [00:00<00:00,  9.81it/s]"
          ]
        },
        {
          "output_type": "stream",
          "name": "stdout",
          "text": [
            "                   all        133        330      0.454      0.339      0.351      0.183\n"
          ]
        },
        {
          "output_type": "stream",
          "name": "stderr",
          "text": [
            "\n"
          ]
        },
        {
          "output_type": "stream",
          "name": "stdout",
          "text": [
            "\n",
            "      Epoch    GPU_mem   box_loss   cls_loss   dfl_loss  Instances       Size\n"
          ]
        },
        {
          "output_type": "stream",
          "name": "stderr",
          "text": [
            "       5/90      1.41G      1.569      1.535      1.368          7        480: 100%|██████████| 30/30 [00:02<00:00, 13.44it/s]\n",
            "                 Class     Images  Instances      Box(P          R      mAP50  mAP50-95): 100%|██████████| 5/5 [00:00<00:00,  9.97it/s]"
          ]
        },
        {
          "output_type": "stream",
          "name": "stdout",
          "text": [
            "                   all        133        330        0.4      0.297      0.276      0.136\n"
          ]
        },
        {
          "output_type": "stream",
          "name": "stderr",
          "text": [
            "\n"
          ]
        },
        {
          "output_type": "stream",
          "name": "stdout",
          "text": [
            "\n",
            "      Epoch    GPU_mem   box_loss   cls_loss   dfl_loss  Instances       Size\n"
          ]
        },
        {
          "output_type": "stream",
          "name": "stderr",
          "text": [
            "       6/90      1.43G      1.578      1.515      1.385          7        480: 100%|██████████| 30/30 [00:02<00:00, 13.41it/s]\n",
            "                 Class     Images  Instances      Box(P          R      mAP50  mAP50-95): 100%|██████████| 5/5 [00:00<00:00,  9.91it/s]"
          ]
        },
        {
          "output_type": "stream",
          "name": "stdout",
          "text": [
            "                   all        133        330      0.543      0.461      0.456      0.227\n"
          ]
        },
        {
          "output_type": "stream",
          "name": "stderr",
          "text": [
            "\n"
          ]
        },
        {
          "output_type": "stream",
          "name": "stdout",
          "text": [
            "\n",
            "      Epoch    GPU_mem   box_loss   cls_loss   dfl_loss  Instances       Size\n"
          ]
        },
        {
          "output_type": "stream",
          "name": "stderr",
          "text": [
            "       7/90      1.45G      1.533      1.501      1.346          9        480: 100%|██████████| 30/30 [00:02<00:00, 13.58it/s]\n",
            "                 Class     Images  Instances      Box(P          R      mAP50  mAP50-95): 100%|██████████| 5/5 [00:00<00:00, 10.04it/s]"
          ]
        },
        {
          "output_type": "stream",
          "name": "stdout",
          "text": [
            "                   all        133        330      0.591      0.439      0.494      0.242\n"
          ]
        },
        {
          "output_type": "stream",
          "name": "stderr",
          "text": [
            "\n"
          ]
        },
        {
          "output_type": "stream",
          "name": "stdout",
          "text": [
            "\n",
            "      Epoch    GPU_mem   box_loss   cls_loss   dfl_loss  Instances       Size\n"
          ]
        },
        {
          "output_type": "stream",
          "name": "stderr",
          "text": [
            "       8/90      1.46G      1.521      1.411      1.324          1        480: 100%|██████████| 30/30 [00:02<00:00, 13.36it/s]\n",
            "                 Class     Images  Instances      Box(P          R      mAP50  mAP50-95): 100%|██████████| 5/5 [00:00<00:00, 10.05it/s]"
          ]
        },
        {
          "output_type": "stream",
          "name": "stdout",
          "text": [
            "                   all        133        330      0.722        0.5      0.575      0.305\n"
          ]
        },
        {
          "output_type": "stream",
          "name": "stderr",
          "text": [
            "\n"
          ]
        },
        {
          "output_type": "stream",
          "name": "stdout",
          "text": [
            "\n",
            "      Epoch    GPU_mem   box_loss   cls_loss   dfl_loss  Instances       Size\n"
          ]
        },
        {
          "output_type": "stream",
          "name": "stderr",
          "text": [
            "       9/90      1.48G      1.508      1.425      1.343          4        480: 100%|██████████| 30/30 [00:02<00:00, 13.74it/s]\n",
            "                 Class     Images  Instances      Box(P          R      mAP50  mAP50-95): 100%|██████████| 5/5 [00:00<00:00, 10.09it/s]"
          ]
        },
        {
          "output_type": "stream",
          "name": "stdout",
          "text": [
            "                   all        133        330      0.617      0.539      0.591      0.322\n"
          ]
        },
        {
          "output_type": "stream",
          "name": "stderr",
          "text": [
            "\n"
          ]
        },
        {
          "output_type": "stream",
          "name": "stdout",
          "text": [
            "\n",
            "      Epoch    GPU_mem   box_loss   cls_loss   dfl_loss  Instances       Size\n"
          ]
        },
        {
          "output_type": "stream",
          "name": "stderr",
          "text": [
            "      10/90       1.5G      1.446      1.378      1.322          1        480: 100%|██████████| 30/30 [00:02<00:00, 13.50it/s]\n",
            "                 Class     Images  Instances      Box(P          R      mAP50  mAP50-95): 100%|██████████| 5/5 [00:00<00:00, 10.24it/s]"
          ]
        },
        {
          "output_type": "stream",
          "name": "stdout",
          "text": [
            "                   all        133        330      0.653      0.503      0.547      0.311\n"
          ]
        },
        {
          "output_type": "stream",
          "name": "stderr",
          "text": [
            "\n"
          ]
        },
        {
          "output_type": "stream",
          "name": "stdout",
          "text": [
            "\n",
            "      Epoch    GPU_mem   box_loss   cls_loss   dfl_loss  Instances       Size\n"
          ]
        },
        {
          "output_type": "stream",
          "name": "stderr",
          "text": [
            "      11/90      1.52G      1.476      1.449      1.343          1        480: 100%|██████████| 30/30 [00:02<00:00, 13.19it/s]\n",
            "                 Class     Images  Instances      Box(P          R      mAP50  mAP50-95): 100%|██████████| 5/5 [00:00<00:00, 10.07it/s]"
          ]
        },
        {
          "output_type": "stream",
          "name": "stdout",
          "text": [
            "                   all        133        330       0.62      0.561      0.596      0.313\n"
          ]
        },
        {
          "output_type": "stream",
          "name": "stderr",
          "text": [
            "\n"
          ]
        },
        {
          "output_type": "stream",
          "name": "stdout",
          "text": [
            "\n",
            "      Epoch    GPU_mem   box_loss   cls_loss   dfl_loss  Instances       Size\n"
          ]
        },
        {
          "output_type": "stream",
          "name": "stderr",
          "text": [
            "      12/90      1.53G       1.44      1.312      1.313          3        480: 100%|██████████| 30/30 [00:02<00:00, 13.58it/s]\n",
            "                 Class     Images  Instances      Box(P          R      mAP50  mAP50-95): 100%|██████████| 5/5 [00:00<00:00, 10.07it/s]"
          ]
        },
        {
          "output_type": "stream",
          "name": "stdout",
          "text": [
            "                   all        133        330      0.621      0.576      0.598      0.324\n"
          ]
        },
        {
          "output_type": "stream",
          "name": "stderr",
          "text": [
            "\n"
          ]
        },
        {
          "output_type": "stream",
          "name": "stdout",
          "text": [
            "\n",
            "      Epoch    GPU_mem   box_loss   cls_loss   dfl_loss  Instances       Size\n"
          ]
        },
        {
          "output_type": "stream",
          "name": "stderr",
          "text": [
            "      13/90      1.55G      1.411      1.259       1.28          6        480: 100%|██████████| 30/30 [00:02<00:00, 13.49it/s]\n",
            "                 Class     Images  Instances      Box(P          R      mAP50  mAP50-95): 100%|██████████| 5/5 [00:00<00:00,  9.79it/s]"
          ]
        },
        {
          "output_type": "stream",
          "name": "stdout",
          "text": [
            "                   all        133        330      0.629      0.612      0.657      0.351\n"
          ]
        },
        {
          "output_type": "stream",
          "name": "stderr",
          "text": [
            "\n"
          ]
        },
        {
          "output_type": "stream",
          "name": "stdout",
          "text": [
            "\n",
            "      Epoch    GPU_mem   box_loss   cls_loss   dfl_loss  Instances       Size\n"
          ]
        },
        {
          "output_type": "stream",
          "name": "stderr",
          "text": [
            "      14/90      1.57G      1.408      1.198      1.262          6        480: 100%|██████████| 30/30 [00:02<00:00, 13.46it/s]\n",
            "                 Class     Images  Instances      Box(P          R      mAP50  mAP50-95): 100%|██████████| 5/5 [00:00<00:00, 10.62it/s]"
          ]
        },
        {
          "output_type": "stream",
          "name": "stdout",
          "text": [
            "                   all        133        330      0.638      0.573      0.584      0.323\n"
          ]
        },
        {
          "output_type": "stream",
          "name": "stderr",
          "text": [
            "\n"
          ]
        },
        {
          "output_type": "stream",
          "name": "stdout",
          "text": [
            "\n",
            "      Epoch    GPU_mem   box_loss   cls_loss   dfl_loss  Instances       Size\n"
          ]
        },
        {
          "output_type": "stream",
          "name": "stderr",
          "text": [
            "      15/90      1.58G      1.426      1.225      1.246         13        480: 100%|██████████| 30/30 [00:02<00:00, 13.24it/s]\n",
            "                 Class     Images  Instances      Box(P          R      mAP50  mAP50-95): 100%|██████████| 5/5 [00:00<00:00, 10.06it/s]"
          ]
        },
        {
          "output_type": "stream",
          "name": "stdout",
          "text": [
            "                   all        133        330      0.775      0.533       0.65      0.372\n"
          ]
        },
        {
          "output_type": "stream",
          "name": "stderr",
          "text": [
            "\n"
          ]
        },
        {
          "output_type": "stream",
          "name": "stdout",
          "text": [
            "\n",
            "      Epoch    GPU_mem   box_loss   cls_loss   dfl_loss  Instances       Size\n"
          ]
        },
        {
          "output_type": "stream",
          "name": "stderr",
          "text": [
            "      16/90       1.6G      1.395      1.217      1.276          2        480: 100%|██████████| 30/30 [00:02<00:00, 13.19it/s]\n",
            "                 Class     Images  Instances      Box(P          R      mAP50  mAP50-95): 100%|██████████| 5/5 [00:00<00:00, 10.11it/s]"
          ]
        },
        {
          "output_type": "stream",
          "name": "stdout",
          "text": [
            "                   all        133        330      0.685      0.582      0.653      0.364\n"
          ]
        },
        {
          "output_type": "stream",
          "name": "stderr",
          "text": [
            "\n"
          ]
        },
        {
          "output_type": "stream",
          "name": "stdout",
          "text": [
            "\n",
            "      Epoch    GPU_mem   box_loss   cls_loss   dfl_loss  Instances       Size\n"
          ]
        },
        {
          "output_type": "stream",
          "name": "stderr",
          "text": [
            "      17/90      1.62G      1.369      1.241      1.249          3        480: 100%|██████████| 30/30 [00:02<00:00, 13.33it/s]\n",
            "                 Class     Images  Instances      Box(P          R      mAP50  mAP50-95): 100%|██████████| 5/5 [00:00<00:00, 10.19it/s]"
          ]
        },
        {
          "output_type": "stream",
          "name": "stdout",
          "text": [
            "                   all        133        330      0.781      0.579      0.684      0.391\n"
          ]
        },
        {
          "output_type": "stream",
          "name": "stderr",
          "text": [
            "\n"
          ]
        },
        {
          "output_type": "stream",
          "name": "stdout",
          "text": [
            "\n",
            "      Epoch    GPU_mem   box_loss   cls_loss   dfl_loss  Instances       Size\n"
          ]
        },
        {
          "output_type": "stream",
          "name": "stderr",
          "text": [
            "      18/90      1.63G      1.364      1.158      1.254          8        480: 100%|██████████| 30/30 [00:02<00:00, 13.30it/s]\n",
            "                 Class     Images  Instances      Box(P          R      mAP50  mAP50-95): 100%|██████████| 5/5 [00:00<00:00, 10.04it/s]"
          ]
        },
        {
          "output_type": "stream",
          "name": "stdout",
          "text": [
            "                   all        133        330      0.774       0.59      0.676      0.377\n"
          ]
        },
        {
          "output_type": "stream",
          "name": "stderr",
          "text": [
            "\n"
          ]
        },
        {
          "output_type": "stream",
          "name": "stdout",
          "text": [
            "\n",
            "      Epoch    GPU_mem   box_loss   cls_loss   dfl_loss  Instances       Size\n"
          ]
        },
        {
          "output_type": "stream",
          "name": "stderr",
          "text": [
            "      19/90      1.65G      1.371      1.162      1.274          2        480: 100%|██████████| 30/30 [00:02<00:00, 13.68it/s]\n",
            "                 Class     Images  Instances      Box(P          R      mAP50  mAP50-95): 100%|██████████| 5/5 [00:00<00:00, 10.21it/s]"
          ]
        },
        {
          "output_type": "stream",
          "name": "stdout",
          "text": [
            "                   all        133        330       0.72      0.585      0.661      0.362\n"
          ]
        },
        {
          "output_type": "stream",
          "name": "stderr",
          "text": [
            "\n"
          ]
        },
        {
          "output_type": "stream",
          "name": "stdout",
          "text": [
            "\n",
            "      Epoch    GPU_mem   box_loss   cls_loss   dfl_loss  Instances       Size\n"
          ]
        },
        {
          "output_type": "stream",
          "name": "stderr",
          "text": [
            "      20/90      1.67G      1.294      1.295      1.196          0        480: 100%|██████████| 30/30 [00:02<00:00, 13.69it/s]\n",
            "                 Class     Images  Instances      Box(P          R      mAP50  mAP50-95): 100%|██████████| 5/5 [00:00<00:00, 10.25it/s]"
          ]
        },
        {
          "output_type": "stream",
          "name": "stdout",
          "text": [
            "                   all        133        330       0.78      0.552      0.666      0.369\n"
          ]
        },
        {
          "output_type": "stream",
          "name": "stderr",
          "text": [
            "\n"
          ]
        },
        {
          "output_type": "stream",
          "name": "stdout",
          "text": [
            "\n",
            "      Epoch    GPU_mem   box_loss   cls_loss   dfl_loss  Instances       Size\n"
          ]
        },
        {
          "output_type": "stream",
          "name": "stderr",
          "text": [
            "      21/90      1.69G      1.348      1.144      1.246          4        480: 100%|██████████| 30/30 [00:02<00:00, 13.54it/s]\n",
            "                 Class     Images  Instances      Box(P          R      mAP50  mAP50-95): 100%|██████████| 5/5 [00:00<00:00, 10.00it/s]"
          ]
        },
        {
          "output_type": "stream",
          "name": "stdout",
          "text": [
            "                   all        133        330      0.673      0.591      0.644      0.356\n"
          ]
        },
        {
          "output_type": "stream",
          "name": "stderr",
          "text": [
            "\n"
          ]
        },
        {
          "output_type": "stream",
          "name": "stdout",
          "text": [
            "\n",
            "      Epoch    GPU_mem   box_loss   cls_loss   dfl_loss  Instances       Size\n"
          ]
        },
        {
          "output_type": "stream",
          "name": "stderr",
          "text": [
            "      22/90       1.7G       1.34      1.123      1.257          2        480: 100%|██████████| 30/30 [00:02<00:00, 13.10it/s]\n",
            "                 Class     Images  Instances      Box(P          R      mAP50  mAP50-95): 100%|██████████| 5/5 [00:00<00:00, 10.35it/s]"
          ]
        },
        {
          "output_type": "stream",
          "name": "stdout",
          "text": [
            "                   all        133        330       0.74      0.639      0.689      0.395\n"
          ]
        },
        {
          "output_type": "stream",
          "name": "stderr",
          "text": [
            "\n"
          ]
        },
        {
          "output_type": "stream",
          "name": "stdout",
          "text": [
            "\n",
            "      Epoch    GPU_mem   box_loss   cls_loss   dfl_loss  Instances       Size\n"
          ]
        },
        {
          "output_type": "stream",
          "name": "stderr",
          "text": [
            "      23/90      1.72G      1.335      1.111      1.226         10        480: 100%|██████████| 30/30 [00:02<00:00, 13.77it/s]\n",
            "                 Class     Images  Instances      Box(P          R      mAP50  mAP50-95): 100%|██████████| 5/5 [00:00<00:00, 10.54it/s]"
          ]
        },
        {
          "output_type": "stream",
          "name": "stdout",
          "text": [
            "                   all        133        330      0.778      0.609      0.705      0.397\n"
          ]
        },
        {
          "output_type": "stream",
          "name": "stderr",
          "text": [
            "\n"
          ]
        },
        {
          "output_type": "stream",
          "name": "stdout",
          "text": [
            "\n",
            "      Epoch    GPU_mem   box_loss   cls_loss   dfl_loss  Instances       Size\n"
          ]
        },
        {
          "output_type": "stream",
          "name": "stderr",
          "text": [
            "      24/90      1.74G      1.314      1.121       1.22          4        480: 100%|██████████| 30/30 [00:02<00:00, 13.46it/s]\n",
            "                 Class     Images  Instances      Box(P          R      mAP50  mAP50-95): 100%|██████████| 5/5 [00:00<00:00, 10.57it/s]"
          ]
        },
        {
          "output_type": "stream",
          "name": "stdout",
          "text": [
            "                   all        133        330      0.743      0.658      0.721       0.41\n"
          ]
        },
        {
          "output_type": "stream",
          "name": "stderr",
          "text": [
            "\n"
          ]
        },
        {
          "output_type": "stream",
          "name": "stdout",
          "text": [
            "\n",
            "      Epoch    GPU_mem   box_loss   cls_loss   dfl_loss  Instances       Size\n"
          ]
        },
        {
          "output_type": "stream",
          "name": "stderr",
          "text": [
            "      25/90      1.75G      1.313      1.085      1.246          1        480: 100%|██████████| 30/30 [00:02<00:00, 12.87it/s]\n",
            "                 Class     Images  Instances      Box(P          R      mAP50  mAP50-95): 100%|██████████| 5/5 [00:00<00:00, 10.22it/s]"
          ]
        },
        {
          "output_type": "stream",
          "name": "stdout",
          "text": [
            "                   all        133        330      0.744      0.607      0.705      0.401\n"
          ]
        },
        {
          "output_type": "stream",
          "name": "stderr",
          "text": [
            "\n"
          ]
        },
        {
          "output_type": "stream",
          "name": "stdout",
          "text": [
            "\n",
            "      Epoch    GPU_mem   box_loss   cls_loss   dfl_loss  Instances       Size\n"
          ]
        },
        {
          "output_type": "stream",
          "name": "stderr",
          "text": [
            "      26/90      1.77G      1.335      1.097      1.252          1        480: 100%|██████████| 30/30 [00:02<00:00, 12.76it/s]\n",
            "                 Class     Images  Instances      Box(P          R      mAP50  mAP50-95): 100%|██████████| 5/5 [00:00<00:00,  9.89it/s]"
          ]
        },
        {
          "output_type": "stream",
          "name": "stdout",
          "text": [
            "                   all        133        330      0.788      0.588      0.695      0.396\n"
          ]
        },
        {
          "output_type": "stream",
          "name": "stderr",
          "text": [
            "\n"
          ]
        },
        {
          "output_type": "stream",
          "name": "stdout",
          "text": [
            "\n",
            "      Epoch    GPU_mem   box_loss   cls_loss   dfl_loss  Instances       Size\n"
          ]
        },
        {
          "output_type": "stream",
          "name": "stderr",
          "text": [
            "      27/90      1.79G        1.3      1.074      1.209          1        480: 100%|██████████| 30/30 [00:02<00:00, 13.57it/s]\n",
            "                 Class     Images  Instances      Box(P          R      mAP50  mAP50-95): 100%|██████████| 5/5 [00:00<00:00, 10.48it/s]"
          ]
        },
        {
          "output_type": "stream",
          "name": "stdout",
          "text": [
            "                   all        133        330      0.814      0.655      0.751      0.446\n"
          ]
        },
        {
          "output_type": "stream",
          "name": "stderr",
          "text": [
            "\n"
          ]
        },
        {
          "output_type": "stream",
          "name": "stdout",
          "text": [
            "\n",
            "      Epoch    GPU_mem   box_loss   cls_loss   dfl_loss  Instances       Size\n"
          ]
        },
        {
          "output_type": "stream",
          "name": "stderr",
          "text": [
            "      28/90      1.81G      1.279      1.069      1.198         15        480: 100%|██████████| 30/30 [00:02<00:00, 13.39it/s]\n",
            "                 Class     Images  Instances      Box(P          R      mAP50  mAP50-95): 100%|██████████| 5/5 [00:00<00:00, 10.61it/s]"
          ]
        },
        {
          "output_type": "stream",
          "name": "stdout",
          "text": [
            "                   all        133        330      0.701      0.642       0.69      0.389\n"
          ]
        },
        {
          "output_type": "stream",
          "name": "stderr",
          "text": [
            "\n"
          ]
        },
        {
          "output_type": "stream",
          "name": "stdout",
          "text": [
            "\n",
            "      Epoch    GPU_mem   box_loss   cls_loss   dfl_loss  Instances       Size\n"
          ]
        },
        {
          "output_type": "stream",
          "name": "stderr",
          "text": [
            "      29/90      1.82G      1.279      1.112      1.198          1        480: 100%|██████████| 30/30 [00:02<00:00, 13.74it/s]\n",
            "                 Class     Images  Instances      Box(P          R      mAP50  mAP50-95): 100%|██████████| 5/5 [00:00<00:00, 10.52it/s]"
          ]
        },
        {
          "output_type": "stream",
          "name": "stdout",
          "text": [
            "                   all        133        330      0.744      0.642       0.71        0.4\n"
          ]
        },
        {
          "output_type": "stream",
          "name": "stderr",
          "text": [
            "\n"
          ]
        },
        {
          "output_type": "stream",
          "name": "stdout",
          "text": [
            "\n",
            "      Epoch    GPU_mem   box_loss   cls_loss   dfl_loss  Instances       Size\n"
          ]
        },
        {
          "output_type": "stream",
          "name": "stderr",
          "text": [
            "      30/90      1.84G      1.289      1.029      1.199          7        480: 100%|██████████| 30/30 [00:02<00:00, 12.56it/s]\n",
            "                 Class     Images  Instances      Box(P          R      mAP50  mAP50-95): 100%|██████████| 5/5 [00:00<00:00, 10.16it/s]"
          ]
        },
        {
          "output_type": "stream",
          "name": "stdout",
          "text": [
            "                   all        133        330      0.711      0.639      0.691        0.4\n"
          ]
        },
        {
          "output_type": "stream",
          "name": "stderr",
          "text": [
            "\n"
          ]
        },
        {
          "output_type": "stream",
          "name": "stdout",
          "text": [
            "\n",
            "      Epoch    GPU_mem   box_loss   cls_loss   dfl_loss  Instances       Size\n"
          ]
        },
        {
          "output_type": "stream",
          "name": "stderr",
          "text": [
            "      31/90      1.86G      1.273     0.9932      1.196          4        480: 100%|██████████| 30/30 [00:02<00:00, 13.18it/s]\n",
            "                 Class     Images  Instances      Box(P          R      mAP50  mAP50-95): 100%|██████████| 5/5 [00:00<00:00, 10.24it/s]"
          ]
        },
        {
          "output_type": "stream",
          "name": "stdout",
          "text": [
            "                   all        133        330      0.694      0.679      0.706      0.412\n"
          ]
        },
        {
          "output_type": "stream",
          "name": "stderr",
          "text": [
            "\n"
          ]
        },
        {
          "output_type": "stream",
          "name": "stdout",
          "text": [
            "\n",
            "      Epoch    GPU_mem   box_loss   cls_loss   dfl_loss  Instances       Size\n"
          ]
        },
        {
          "output_type": "stream",
          "name": "stderr",
          "text": [
            "      32/90      1.87G      1.229     0.9454      1.187          4        480: 100%|██████████| 30/30 [00:02<00:00, 13.59it/s]\n",
            "                 Class     Images  Instances      Box(P          R      mAP50  mAP50-95): 100%|██████████| 5/5 [00:00<00:00, 10.42it/s]"
          ]
        },
        {
          "output_type": "stream",
          "name": "stdout",
          "text": [
            "                   all        133        330      0.791      0.664      0.751      0.443\n"
          ]
        },
        {
          "output_type": "stream",
          "name": "stderr",
          "text": [
            "\n"
          ]
        },
        {
          "output_type": "stream",
          "name": "stdout",
          "text": [
            "\n",
            "      Epoch    GPU_mem   box_loss   cls_loss   dfl_loss  Instances       Size\n"
          ]
        },
        {
          "output_type": "stream",
          "name": "stderr",
          "text": [
            "      33/90      1.89G      1.236     0.9696      1.179          6        480: 100%|██████████| 30/30 [00:02<00:00, 13.42it/s]\n",
            "                 Class     Images  Instances      Box(P          R      mAP50  mAP50-95): 100%|██████████| 5/5 [00:00<00:00, 10.50it/s]"
          ]
        },
        {
          "output_type": "stream",
          "name": "stdout",
          "text": [
            "                   all        133        330      0.741       0.65      0.724      0.416\n"
          ]
        },
        {
          "output_type": "stream",
          "name": "stderr",
          "text": [
            "\n"
          ]
        },
        {
          "output_type": "stream",
          "name": "stdout",
          "text": [
            "\n",
            "      Epoch    GPU_mem   box_loss   cls_loss   dfl_loss  Instances       Size\n"
          ]
        },
        {
          "output_type": "stream",
          "name": "stderr",
          "text": [
            "      34/90      1.91G       1.23     0.9765      1.163         12        480: 100%|██████████| 30/30 [00:02<00:00, 12.61it/s]\n",
            "                 Class     Images  Instances      Box(P          R      mAP50  mAP50-95): 100%|██████████| 5/5 [00:00<00:00, 10.38it/s]"
          ]
        },
        {
          "output_type": "stream",
          "name": "stdout",
          "text": [
            "                   all        133        330      0.695      0.669      0.713      0.416\n"
          ]
        },
        {
          "output_type": "stream",
          "name": "stderr",
          "text": [
            "\n"
          ]
        },
        {
          "output_type": "stream",
          "name": "stdout",
          "text": [
            "\n",
            "      Epoch    GPU_mem   box_loss   cls_loss   dfl_loss  Instances       Size\n"
          ]
        },
        {
          "output_type": "stream",
          "name": "stderr",
          "text": [
            "      35/90      1.92G      1.245     0.9532       1.18          6        480: 100%|██████████| 30/30 [00:02<00:00, 13.61it/s]\n",
            "                 Class     Images  Instances      Box(P          R      mAP50  mAP50-95): 100%|██████████| 5/5 [00:00<00:00, 10.35it/s]"
          ]
        },
        {
          "output_type": "stream",
          "name": "stdout",
          "text": [
            "                   all        133        330      0.702      0.648      0.668      0.394\n"
          ]
        },
        {
          "output_type": "stream",
          "name": "stderr",
          "text": [
            "\n"
          ]
        },
        {
          "output_type": "stream",
          "name": "stdout",
          "text": [
            "\n",
            "      Epoch    GPU_mem   box_loss   cls_loss   dfl_loss  Instances       Size\n"
          ]
        },
        {
          "output_type": "stream",
          "name": "stderr",
          "text": [
            "      36/90      1.94G      1.241      1.147      1.194          1        480: 100%|██████████| 30/30 [00:02<00:00, 13.29it/s]\n",
            "                 Class     Images  Instances      Box(P          R      mAP50  mAP50-95): 100%|██████████| 5/5 [00:00<00:00, 10.49it/s]"
          ]
        },
        {
          "output_type": "stream",
          "name": "stdout",
          "text": [
            "                   all        133        330      0.772      0.624      0.714      0.431\n"
          ]
        },
        {
          "output_type": "stream",
          "name": "stderr",
          "text": [
            "\n"
          ]
        },
        {
          "output_type": "stream",
          "name": "stdout",
          "text": [
            "\n",
            "      Epoch    GPU_mem   box_loss   cls_loss   dfl_loss  Instances       Size\n"
          ]
        },
        {
          "output_type": "stream",
          "name": "stderr",
          "text": [
            "      37/90      1.96G      1.222      1.208      1.143          1        480: 100%|██████████| 30/30 [00:02<00:00, 13.70it/s]\n",
            "                 Class     Images  Instances      Box(P          R      mAP50  mAP50-95): 100%|██████████| 5/5 [00:00<00:00, 10.37it/s]"
          ]
        },
        {
          "output_type": "stream",
          "name": "stdout",
          "text": [
            "                   all        133        330      0.752      0.655      0.726      0.454\n"
          ]
        },
        {
          "output_type": "stream",
          "name": "stderr",
          "text": [
            "\n"
          ]
        },
        {
          "output_type": "stream",
          "name": "stdout",
          "text": [
            "\n",
            "      Epoch    GPU_mem   box_loss   cls_loss   dfl_loss  Instances       Size\n"
          ]
        },
        {
          "output_type": "stream",
          "name": "stderr",
          "text": [
            "      38/90      1.97G      1.226     0.9647      1.156          5        480: 100%|██████████| 30/30 [00:02<00:00, 12.79it/s]\n",
            "                 Class     Images  Instances      Box(P          R      mAP50  mAP50-95): 100%|██████████| 5/5 [00:00<00:00, 10.28it/s]"
          ]
        },
        {
          "output_type": "stream",
          "name": "stdout",
          "text": [
            "                   all        133        330      0.686      0.668      0.696      0.429\n"
          ]
        },
        {
          "output_type": "stream",
          "name": "stderr",
          "text": [
            "\n"
          ]
        },
        {
          "output_type": "stream",
          "name": "stdout",
          "text": [
            "\n",
            "      Epoch    GPU_mem   box_loss   cls_loss   dfl_loss  Instances       Size\n"
          ]
        },
        {
          "output_type": "stream",
          "name": "stderr",
          "text": [
            "      39/90      1.99G      1.198     0.9405      1.153          2        480: 100%|██████████| 30/30 [00:02<00:00, 13.56it/s]\n",
            "                 Class     Images  Instances      Box(P          R      mAP50  mAP50-95): 100%|██████████| 5/5 [00:00<00:00, 10.69it/s]"
          ]
        },
        {
          "output_type": "stream",
          "name": "stdout",
          "text": [
            "                   all        133        330      0.809      0.612      0.715      0.424\n"
          ]
        },
        {
          "output_type": "stream",
          "name": "stderr",
          "text": [
            "\n"
          ]
        },
        {
          "output_type": "stream",
          "name": "stdout",
          "text": [
            "\n",
            "      Epoch    GPU_mem   box_loss   cls_loss   dfl_loss  Instances       Size\n"
          ]
        },
        {
          "output_type": "stream",
          "name": "stderr",
          "text": [
            "      40/90      2.01G      1.219     0.9168      1.153          6        480: 100%|██████████| 30/30 [00:02<00:00, 13.19it/s]\n",
            "                 Class     Images  Instances      Box(P          R      mAP50  mAP50-95): 100%|██████████| 5/5 [00:00<00:00, 10.78it/s]"
          ]
        },
        {
          "output_type": "stream",
          "name": "stdout",
          "text": [
            "                   all        133        330      0.839      0.597      0.729      0.422\n"
          ]
        },
        {
          "output_type": "stream",
          "name": "stderr",
          "text": [
            "\n"
          ]
        },
        {
          "output_type": "stream",
          "name": "stdout",
          "text": [
            "\n",
            "      Epoch    GPU_mem   box_loss   cls_loss   dfl_loss  Instances       Size\n"
          ]
        },
        {
          "output_type": "stream",
          "name": "stderr",
          "text": [
            "      41/90      2.03G      1.181     0.9057      1.163          1        480: 100%|██████████| 30/30 [00:02<00:00, 13.45it/s]\n",
            "                 Class     Images  Instances      Box(P          R      mAP50  mAP50-95): 100%|██████████| 5/5 [00:00<00:00, 10.13it/s]"
          ]
        },
        {
          "output_type": "stream",
          "name": "stdout",
          "text": [
            "                   all        133        330      0.846      0.603      0.723      0.426\n"
          ]
        },
        {
          "output_type": "stream",
          "name": "stderr",
          "text": [
            "\n"
          ]
        },
        {
          "output_type": "stream",
          "name": "stdout",
          "text": [
            "\n",
            "      Epoch    GPU_mem   box_loss   cls_loss   dfl_loss  Instances       Size\n"
          ]
        },
        {
          "output_type": "stream",
          "name": "stderr",
          "text": [
            "      42/90      2.04G      1.223     0.9344      1.173          2        480: 100%|██████████| 30/30 [00:02<00:00, 12.88it/s]\n",
            "                 Class     Images  Instances      Box(P          R      mAP50  mAP50-95): 100%|██████████| 5/5 [00:00<00:00, 10.40it/s]"
          ]
        },
        {
          "output_type": "stream",
          "name": "stdout",
          "text": [
            "                   all        133        330      0.796      0.576      0.686      0.413\n"
          ]
        },
        {
          "output_type": "stream",
          "name": "stderr",
          "text": [
            "\n"
          ]
        },
        {
          "output_type": "stream",
          "name": "stdout",
          "text": [
            "\n",
            "      Epoch    GPU_mem   box_loss   cls_loss   dfl_loss  Instances       Size\n"
          ]
        },
        {
          "output_type": "stream",
          "name": "stderr",
          "text": [
            "      43/90      2.06G      1.184      0.916      1.148          7        480: 100%|██████████| 30/30 [00:02<00:00, 13.25it/s]\n",
            "                 Class     Images  Instances      Box(P          R      mAP50  mAP50-95): 100%|██████████| 5/5 [00:00<00:00, 10.61it/s]"
          ]
        },
        {
          "output_type": "stream",
          "name": "stdout",
          "text": [
            "                   all        133        330      0.783      0.658       0.74      0.451\n"
          ]
        },
        {
          "output_type": "stream",
          "name": "stderr",
          "text": [
            "\n"
          ]
        },
        {
          "output_type": "stream",
          "name": "stdout",
          "text": [
            "\n",
            "      Epoch    GPU_mem   box_loss   cls_loss   dfl_loss  Instances       Size\n"
          ]
        },
        {
          "output_type": "stream",
          "name": "stderr",
          "text": [
            "      44/90      2.08G      1.175     0.8843      1.153          9        480: 100%|██████████| 30/30 [00:02<00:00, 13.04it/s]\n",
            "                 Class     Images  Instances      Box(P          R      mAP50  mAP50-95): 100%|██████████| 5/5 [00:00<00:00, 10.77it/s]"
          ]
        },
        {
          "output_type": "stream",
          "name": "stdout",
          "text": [
            "                   all        133        330      0.754      0.655       0.74      0.452\n"
          ]
        },
        {
          "output_type": "stream",
          "name": "stderr",
          "text": [
            "\n"
          ]
        },
        {
          "output_type": "stream",
          "name": "stdout",
          "text": [
            "\n",
            "      Epoch    GPU_mem   box_loss   cls_loss   dfl_loss  Instances       Size\n"
          ]
        },
        {
          "output_type": "stream",
          "name": "stderr",
          "text": [
            "      45/90       2.1G      1.176     0.8819      1.143          5        480: 100%|██████████| 30/30 [00:02<00:00, 13.41it/s]\n",
            "                 Class     Images  Instances      Box(P          R      mAP50  mAP50-95): 100%|██████████| 5/5 [00:00<00:00, 10.54it/s]"
          ]
        },
        {
          "output_type": "stream",
          "name": "stdout",
          "text": [
            "                   all        133        330      0.777      0.655      0.735      0.447\n"
          ]
        },
        {
          "output_type": "stream",
          "name": "stderr",
          "text": [
            "\n"
          ]
        },
        {
          "output_type": "stream",
          "name": "stdout",
          "text": [
            "\n",
            "      Epoch    GPU_mem   box_loss   cls_loss   dfl_loss  Instances       Size\n"
          ]
        },
        {
          "output_type": "stream",
          "name": "stderr",
          "text": [
            "      46/90      2.11G      1.109     0.8595      1.109          1        480: 100%|██████████| 30/30 [00:02<00:00, 12.81it/s]\n",
            "                 Class     Images  Instances      Box(P          R      mAP50  mAP50-95): 100%|██████████| 5/5 [00:00<00:00, 10.82it/s]"
          ]
        },
        {
          "output_type": "stream",
          "name": "stdout",
          "text": [
            "                   all        133        330      0.785      0.673      0.739      0.446\n"
          ]
        },
        {
          "output_type": "stream",
          "name": "stderr",
          "text": [
            "\n"
          ]
        },
        {
          "output_type": "stream",
          "name": "stdout",
          "text": [
            "\n",
            "      Epoch    GPU_mem   box_loss   cls_loss   dfl_loss  Instances       Size\n"
          ]
        },
        {
          "output_type": "stream",
          "name": "stderr",
          "text": [
            "      47/90      2.13G      1.146     0.8691      1.137          4        480: 100%|██████████| 30/30 [00:02<00:00, 13.71it/s]\n",
            "                 Class     Images  Instances      Box(P          R      mAP50  mAP50-95): 100%|██████████| 5/5 [00:00<00:00, 10.56it/s]"
          ]
        },
        {
          "output_type": "stream",
          "name": "stdout",
          "text": [
            "                   all        133        330      0.787      0.673      0.733       0.45\n"
          ]
        },
        {
          "output_type": "stream",
          "name": "stderr",
          "text": [
            "\n"
          ]
        },
        {
          "output_type": "stream",
          "name": "stdout",
          "text": [
            "\n",
            "      Epoch    GPU_mem   box_loss   cls_loss   dfl_loss  Instances       Size\n"
          ]
        },
        {
          "output_type": "stream",
          "name": "stderr",
          "text": [
            "      48/90      2.15G      1.149     0.8765      1.127          2        480: 100%|██████████| 30/30 [00:02<00:00, 13.03it/s]\n",
            "                 Class     Images  Instances      Box(P          R      mAP50  mAP50-95): 100%|██████████| 5/5 [00:00<00:00, 10.57it/s]"
          ]
        },
        {
          "output_type": "stream",
          "name": "stdout",
          "text": [
            "                   all        133        330      0.804       0.63      0.732      0.433\n"
          ]
        },
        {
          "output_type": "stream",
          "name": "stderr",
          "text": [
            "\n"
          ]
        },
        {
          "output_type": "stream",
          "name": "stdout",
          "text": [
            "\n",
            "      Epoch    GPU_mem   box_loss   cls_loss   dfl_loss  Instances       Size\n"
          ]
        },
        {
          "output_type": "stream",
          "name": "stderr",
          "text": [
            "      49/90      2.16G      1.121     0.8436      1.111          7        480: 100%|██████████| 30/30 [00:02<00:00, 13.33it/s]\n",
            "                 Class     Images  Instances      Box(P          R      mAP50  mAP50-95): 100%|██████████| 5/5 [00:00<00:00, 10.42it/s]"
          ]
        },
        {
          "output_type": "stream",
          "name": "stdout",
          "text": [
            "                   all        133        330      0.819      0.642       0.74      0.457\n"
          ]
        },
        {
          "output_type": "stream",
          "name": "stderr",
          "text": [
            "\n"
          ]
        },
        {
          "output_type": "stream",
          "name": "stdout",
          "text": [
            "\n",
            "      Epoch    GPU_mem   box_loss   cls_loss   dfl_loss  Instances       Size\n"
          ]
        },
        {
          "output_type": "stream",
          "name": "stderr",
          "text": [
            "      50/90      2.18G      1.104     0.8177       1.11          4        480: 100%|██████████| 30/30 [00:02<00:00, 12.85it/s]\n",
            "                 Class     Images  Instances      Box(P          R      mAP50  mAP50-95): 100%|██████████| 5/5 [00:00<00:00, 10.46it/s]"
          ]
        },
        {
          "output_type": "stream",
          "name": "stdout",
          "text": [
            "                   all        133        330      0.773       0.67      0.734      0.438\n"
          ]
        },
        {
          "output_type": "stream",
          "name": "stderr",
          "text": [
            "\n"
          ]
        },
        {
          "output_type": "stream",
          "name": "stdout",
          "text": [
            "\n",
            "      Epoch    GPU_mem   box_loss   cls_loss   dfl_loss  Instances       Size\n"
          ]
        },
        {
          "output_type": "stream",
          "name": "stderr",
          "text": [
            "      51/90       2.2G      1.139     0.8307      1.117         10        480: 100%|██████████| 30/30 [00:02<00:00, 13.34it/s]\n",
            "                 Class     Images  Instances      Box(P          R      mAP50  mAP50-95): 100%|██████████| 5/5 [00:00<00:00, 10.65it/s]"
          ]
        },
        {
          "output_type": "stream",
          "name": "stdout",
          "text": [
            "                   all        133        330      0.801      0.671      0.761      0.461\n"
          ]
        },
        {
          "output_type": "stream",
          "name": "stderr",
          "text": [
            "\n"
          ]
        },
        {
          "output_type": "stream",
          "name": "stdout",
          "text": [
            "\n",
            "      Epoch    GPU_mem   box_loss   cls_loss   dfl_loss  Instances       Size\n"
          ]
        },
        {
          "output_type": "stream",
          "name": "stderr",
          "text": [
            "      52/90      2.21G      1.139     0.8264      1.132          5        480: 100%|██████████| 30/30 [00:02<00:00, 13.32it/s]\n",
            "                 Class     Images  Instances      Box(P          R      mAP50  mAP50-95): 100%|██████████| 5/5 [00:00<00:00, 10.33it/s]"
          ]
        },
        {
          "output_type": "stream",
          "name": "stdout",
          "text": [
            "                   all        133        330      0.795      0.645      0.753      0.456\n"
          ]
        },
        {
          "output_type": "stream",
          "name": "stderr",
          "text": [
            "\n"
          ]
        },
        {
          "output_type": "stream",
          "name": "stdout",
          "text": [
            "\n",
            "      Epoch    GPU_mem   box_loss   cls_loss   dfl_loss  Instances       Size\n"
          ]
        },
        {
          "output_type": "stream",
          "name": "stderr",
          "text": [
            "      53/90      2.23G      1.126     0.8116      1.099         16        480: 100%|██████████| 30/30 [00:02<00:00, 13.53it/s]\n",
            "                 Class     Images  Instances      Box(P          R      mAP50  mAP50-95): 100%|██████████| 5/5 [00:00<00:00, 10.46it/s]"
          ]
        },
        {
          "output_type": "stream",
          "name": "stdout",
          "text": [
            "                   all        133        330      0.871      0.612      0.745       0.44\n"
          ]
        },
        {
          "output_type": "stream",
          "name": "stderr",
          "text": [
            "\n"
          ]
        },
        {
          "output_type": "stream",
          "name": "stdout",
          "text": [
            "\n",
            "      Epoch    GPU_mem   box_loss   cls_loss   dfl_loss  Instances       Size\n"
          ]
        },
        {
          "output_type": "stream",
          "name": "stderr",
          "text": [
            "      54/90      2.25G       1.08      0.818      1.094          1        480: 100%|██████████| 30/30 [00:02<00:00, 13.11it/s]\n",
            "                 Class     Images  Instances      Box(P          R      mAP50  mAP50-95): 100%|██████████| 5/5 [00:00<00:00, 10.56it/s]"
          ]
        },
        {
          "output_type": "stream",
          "name": "stdout",
          "text": [
            "                   all        133        330       0.76      0.652       0.72       0.44\n"
          ]
        },
        {
          "output_type": "stream",
          "name": "stderr",
          "text": [
            "\n"
          ]
        },
        {
          "output_type": "stream",
          "name": "stdout",
          "text": [
            "\n",
            "      Epoch    GPU_mem   box_loss   cls_loss   dfl_loss  Instances       Size\n"
          ]
        },
        {
          "output_type": "stream",
          "name": "stderr",
          "text": [
            "      55/90      2.27G      1.103     0.7924      1.106          6        480: 100%|██████████| 30/30 [00:02<00:00, 13.53it/s]\n",
            "                 Class     Images  Instances      Box(P          R      mAP50  mAP50-95): 100%|██████████| 5/5 [00:00<00:00, 10.52it/s]"
          ]
        },
        {
          "output_type": "stream",
          "name": "stdout",
          "text": [
            "                   all        133        330      0.787      0.661      0.758      0.452\n"
          ]
        },
        {
          "output_type": "stream",
          "name": "stderr",
          "text": [
            "\n"
          ]
        },
        {
          "output_type": "stream",
          "name": "stdout",
          "text": [
            "\n",
            "      Epoch    GPU_mem   box_loss   cls_loss   dfl_loss  Instances       Size\n"
          ]
        },
        {
          "output_type": "stream",
          "name": "stderr",
          "text": [
            "      56/90      2.28G      1.089     0.8373      1.109          4        480: 100%|██████████| 30/30 [00:02<00:00, 13.01it/s]\n",
            "                 Class     Images  Instances      Box(P          R      mAP50  mAP50-95): 100%|██████████| 5/5 [00:00<00:00, 10.77it/s]"
          ]
        },
        {
          "output_type": "stream",
          "name": "stdout",
          "text": [
            "                   all        133        330      0.728      0.682       0.75      0.461\n"
          ]
        },
        {
          "output_type": "stream",
          "name": "stderr",
          "text": [
            "\n"
          ]
        },
        {
          "output_type": "stream",
          "name": "stdout",
          "text": [
            "\n",
            "      Epoch    GPU_mem   box_loss   cls_loss   dfl_loss  Instances       Size\n"
          ]
        },
        {
          "output_type": "stream",
          "name": "stderr",
          "text": [
            "      57/90       2.3G      1.087     0.7929      1.116          6        480: 100%|██████████| 30/30 [00:02<00:00, 13.24it/s]\n",
            "                 Class     Images  Instances      Box(P          R      mAP50  mAP50-95): 100%|██████████| 5/5 [00:00<00:00, 10.75it/s]"
          ]
        },
        {
          "output_type": "stream",
          "name": "stdout",
          "text": [
            "                   all        133        330       0.75      0.673      0.737      0.454\n"
          ]
        },
        {
          "output_type": "stream",
          "name": "stderr",
          "text": [
            "\n"
          ]
        },
        {
          "output_type": "stream",
          "name": "stdout",
          "text": [
            "\n",
            "      Epoch    GPU_mem   box_loss   cls_loss   dfl_loss  Instances       Size\n"
          ]
        },
        {
          "output_type": "stream",
          "name": "stderr",
          "text": [
            "      58/90      2.32G      1.044     0.8145      1.081          1        480: 100%|██████████| 30/30 [00:02<00:00, 12.78it/s]\n",
            "                 Class     Images  Instances      Box(P          R      mAP50  mAP50-95): 100%|██████████| 5/5 [00:00<00:00, 10.83it/s]"
          ]
        },
        {
          "output_type": "stream",
          "name": "stdout",
          "text": [
            "                   all        133        330      0.825      0.669       0.77      0.461\n"
          ]
        },
        {
          "output_type": "stream",
          "name": "stderr",
          "text": [
            "\n"
          ]
        },
        {
          "output_type": "stream",
          "name": "stdout",
          "text": [
            "\n",
            "      Epoch    GPU_mem   box_loss   cls_loss   dfl_loss  Instances       Size\n"
          ]
        },
        {
          "output_type": "stream",
          "name": "stderr",
          "text": [
            "      59/90      2.33G      1.044     0.7748      1.081         12        480: 100%|██████████| 30/30 [00:02<00:00, 13.51it/s]\n",
            "                 Class     Images  Instances      Box(P          R      mAP50  mAP50-95): 100%|██████████| 5/5 [00:00<00:00, 10.50it/s]"
          ]
        },
        {
          "output_type": "stream",
          "name": "stdout",
          "text": [
            "                   all        133        330      0.784       0.68      0.762      0.457\n"
          ]
        },
        {
          "output_type": "stream",
          "name": "stderr",
          "text": [
            "\n"
          ]
        },
        {
          "output_type": "stream",
          "name": "stdout",
          "text": [
            "\n",
            "      Epoch    GPU_mem   box_loss   cls_loss   dfl_loss  Instances       Size\n"
          ]
        },
        {
          "output_type": "stream",
          "name": "stderr",
          "text": [
            "      60/90      2.35G      1.037     0.7456      1.082         11        480: 100%|██████████| 30/30 [00:02<00:00, 13.38it/s]\n",
            "                 Class     Images  Instances      Box(P          R      mAP50  mAP50-95): 100%|██████████| 5/5 [00:00<00:00, 10.83it/s]"
          ]
        },
        {
          "output_type": "stream",
          "name": "stdout",
          "text": [
            "                   all        133        330      0.833      0.636      0.764      0.476\n"
          ]
        },
        {
          "output_type": "stream",
          "name": "stderr",
          "text": [
            "\n"
          ]
        },
        {
          "output_type": "stream",
          "name": "stdout",
          "text": [
            "\n",
            "      Epoch    GPU_mem   box_loss   cls_loss   dfl_loss  Instances       Size\n"
          ]
        },
        {
          "output_type": "stream",
          "name": "stderr",
          "text": [
            "      61/90      2.37G      1.073     0.7585      1.098          7        480: 100%|██████████| 30/30 [00:02<00:00, 13.35it/s]\n",
            "                 Class     Images  Instances      Box(P          R      mAP50  mAP50-95): 100%|██████████| 5/5 [00:00<00:00, 10.46it/s]"
          ]
        },
        {
          "output_type": "stream",
          "name": "stdout",
          "text": [
            "                   all        133        330      0.775      0.658      0.751      0.462\n"
          ]
        },
        {
          "output_type": "stream",
          "name": "stderr",
          "text": [
            "\n"
          ]
        },
        {
          "output_type": "stream",
          "name": "stdout",
          "text": [
            "\n",
            "      Epoch    GPU_mem   box_loss   cls_loss   dfl_loss  Instances       Size\n"
          ]
        },
        {
          "output_type": "stream",
          "name": "stderr",
          "text": [
            "      62/90      2.38G      1.083     0.7669      1.086          5        480: 100%|██████████| 30/30 [00:02<00:00, 12.83it/s]\n",
            "                 Class     Images  Instances      Box(P          R      mAP50  mAP50-95): 100%|██████████| 5/5 [00:00<00:00, 10.47it/s]"
          ]
        },
        {
          "output_type": "stream",
          "name": "stdout",
          "text": [
            "                   all        133        330       0.75      0.655      0.724      0.441\n"
          ]
        },
        {
          "output_type": "stream",
          "name": "stderr",
          "text": [
            "\n"
          ]
        },
        {
          "output_type": "stream",
          "name": "stdout",
          "text": [
            "\n",
            "      Epoch    GPU_mem   box_loss   cls_loss   dfl_loss  Instances       Size\n"
          ]
        },
        {
          "output_type": "stream",
          "name": "stderr",
          "text": [
            "      63/90       2.4G      1.086       0.76      1.108          3        480: 100%|██████████| 30/30 [00:02<00:00, 13.56it/s]\n",
            "                 Class     Images  Instances      Box(P          R      mAP50  mAP50-95): 100%|██████████| 5/5 [00:00<00:00, 10.49it/s]"
          ]
        },
        {
          "output_type": "stream",
          "name": "stdout",
          "text": [
            "                   all        133        330      0.783      0.656      0.745       0.47\n"
          ]
        },
        {
          "output_type": "stream",
          "name": "stderr",
          "text": [
            "\n"
          ]
        },
        {
          "output_type": "stream",
          "name": "stdout",
          "text": [
            "\n",
            "      Epoch    GPU_mem   box_loss   cls_loss   dfl_loss  Instances       Size\n"
          ]
        },
        {
          "output_type": "stream",
          "name": "stderr",
          "text": [
            "      64/90      2.42G      1.032     0.7222      1.074          3        480: 100%|██████████| 30/30 [00:02<00:00, 13.22it/s]\n",
            "                 Class     Images  Instances      Box(P          R      mAP50  mAP50-95): 100%|██████████| 5/5 [00:00<00:00, 10.77it/s]"
          ]
        },
        {
          "output_type": "stream",
          "name": "stdout",
          "text": [
            "                   all        133        330      0.792      0.667      0.749      0.466\n"
          ]
        },
        {
          "output_type": "stream",
          "name": "stderr",
          "text": [
            "\n"
          ]
        },
        {
          "output_type": "stream",
          "name": "stdout",
          "text": [
            "\n",
            "      Epoch    GPU_mem   box_loss   cls_loss   dfl_loss  Instances       Size\n"
          ]
        },
        {
          "output_type": "stream",
          "name": "stderr",
          "text": [
            "      65/90      2.44G      1.065      0.766      1.088          6        480: 100%|██████████| 30/30 [00:02<00:00, 13.20it/s]\n",
            "                 Class     Images  Instances      Box(P          R      mAP50  mAP50-95): 100%|██████████| 5/5 [00:00<00:00, 10.42it/s]"
          ]
        },
        {
          "output_type": "stream",
          "name": "stdout",
          "text": [
            "                   all        133        330      0.783      0.666      0.742      0.448\n"
          ]
        },
        {
          "output_type": "stream",
          "name": "stderr",
          "text": [
            "\n"
          ]
        },
        {
          "output_type": "stream",
          "name": "stdout",
          "text": [
            "\n",
            "      Epoch    GPU_mem   box_loss   cls_loss   dfl_loss  Instances       Size\n"
          ]
        },
        {
          "output_type": "stream",
          "name": "stderr",
          "text": [
            "      66/90      2.45G      1.076     0.7624      1.124          1        480: 100%|██████████| 30/30 [00:02<00:00, 13.04it/s]\n",
            "                 Class     Images  Instances      Box(P          R      mAP50  mAP50-95): 100%|██████████| 5/5 [00:00<00:00, 10.30it/s]"
          ]
        },
        {
          "output_type": "stream",
          "name": "stdout",
          "text": [
            "                   all        133        330      0.752      0.658      0.741       0.46\n"
          ]
        },
        {
          "output_type": "stream",
          "name": "stderr",
          "text": [
            "\n"
          ]
        },
        {
          "output_type": "stream",
          "name": "stdout",
          "text": [
            "\n",
            "      Epoch    GPU_mem   box_loss   cls_loss   dfl_loss  Instances       Size\n"
          ]
        },
        {
          "output_type": "stream",
          "name": "stderr",
          "text": [
            "      67/90      2.47G      1.031     0.7616      1.082          1        480: 100%|██████████| 30/30 [00:02<00:00, 13.74it/s]\n",
            "                 Class     Images  Instances      Box(P          R      mAP50  mAP50-95): 100%|██████████| 5/5 [00:00<00:00, 10.69it/s]"
          ]
        },
        {
          "output_type": "stream",
          "name": "stdout",
          "text": [
            "                   all        133        330      0.806      0.685      0.764      0.484\n"
          ]
        },
        {
          "output_type": "stream",
          "name": "stderr",
          "text": [
            "\n"
          ]
        },
        {
          "output_type": "stream",
          "name": "stdout",
          "text": [
            "\n",
            "      Epoch    GPU_mem   box_loss   cls_loss   dfl_loss  Instances       Size\n"
          ]
        },
        {
          "output_type": "stream",
          "name": "stderr",
          "text": [
            "      68/90      2.49G      1.015     0.7234      1.083          2        480: 100%|██████████| 30/30 [00:02<00:00, 13.25it/s]\n",
            "                 Class     Images  Instances      Box(P          R      mAP50  mAP50-95): 100%|██████████| 5/5 [00:00<00:00, 10.61it/s]"
          ]
        },
        {
          "output_type": "stream",
          "name": "stdout",
          "text": [
            "                   all        133        330       0.77      0.658      0.734      0.468\n"
          ]
        },
        {
          "output_type": "stream",
          "name": "stderr",
          "text": [
            "\n"
          ]
        },
        {
          "output_type": "stream",
          "name": "stdout",
          "text": [
            "\n",
            "      Epoch    GPU_mem   box_loss   cls_loss   dfl_loss  Instances       Size\n"
          ]
        },
        {
          "output_type": "stream",
          "name": "stderr",
          "text": [
            "      69/90       2.5G     0.9929     0.6926      1.058          8        480: 100%|██████████| 30/30 [00:02<00:00, 12.99it/s]\n",
            "                 Class     Images  Instances      Box(P          R      mAP50  mAP50-95): 100%|██████████| 5/5 [00:00<00:00, 10.59it/s]"
          ]
        },
        {
          "output_type": "stream",
          "name": "stdout",
          "text": [
            "                   all        133        330      0.788      0.653       0.74      0.465\n"
          ]
        },
        {
          "output_type": "stream",
          "name": "stderr",
          "text": [
            "\n"
          ]
        },
        {
          "output_type": "stream",
          "name": "stdout",
          "text": [
            "\n",
            "      Epoch    GPU_mem   box_loss   cls_loss   dfl_loss  Instances       Size\n"
          ]
        },
        {
          "output_type": "stream",
          "name": "stderr",
          "text": [
            "      70/90      2.52G      1.026     0.7178      1.053         10        480: 100%|██████████| 30/30 [00:02<00:00, 13.19it/s]\n",
            "                 Class     Images  Instances      Box(P          R      mAP50  mAP50-95): 100%|██████████| 5/5 [00:00<00:00, 10.51it/s]"
          ]
        },
        {
          "output_type": "stream",
          "name": "stdout",
          "text": [
            "                   all        133        330      0.758      0.676      0.731       0.44\n"
          ]
        },
        {
          "output_type": "stream",
          "name": "stderr",
          "text": [
            "\n"
          ]
        },
        {
          "output_type": "stream",
          "name": "stdout",
          "text": [
            "\n",
            "      Epoch    GPU_mem   box_loss   cls_loss   dfl_loss  Instances       Size\n"
          ]
        },
        {
          "output_type": "stream",
          "name": "stderr",
          "text": [
            "      71/90      2.54G      1.026     0.7003      1.072          9        480: 100%|██████████| 30/30 [00:02<00:00, 13.03it/s]\n",
            "                 Class     Images  Instances      Box(P          R      mAP50  mAP50-95): 100%|██████████| 5/5 [00:00<00:00, 10.78it/s]"
          ]
        },
        {
          "output_type": "stream",
          "name": "stdout",
          "text": [
            "                   all        133        330      0.744      0.682      0.729      0.451\n"
          ]
        },
        {
          "output_type": "stream",
          "name": "stderr",
          "text": [
            "\n"
          ]
        },
        {
          "output_type": "stream",
          "name": "stdout",
          "text": [
            "\n",
            "      Epoch    GPU_mem   box_loss   cls_loss   dfl_loss  Instances       Size\n"
          ]
        },
        {
          "output_type": "stream",
          "name": "stderr",
          "text": [
            "      72/90      2.55G       1.03     0.7041      1.077          3        480: 100%|██████████| 30/30 [00:02<00:00, 13.17it/s]\n",
            "                 Class     Images  Instances      Box(P          R      mAP50  mAP50-95): 100%|██████████| 5/5 [00:00<00:00, 10.39it/s]"
          ]
        },
        {
          "output_type": "stream",
          "name": "stdout",
          "text": [
            "                   all        133        330      0.786       0.67      0.756      0.467\n"
          ]
        },
        {
          "output_type": "stream",
          "name": "stderr",
          "text": [
            "\n"
          ]
        },
        {
          "output_type": "stream",
          "name": "stdout",
          "text": [
            "\n",
            "      Epoch    GPU_mem   box_loss   cls_loss   dfl_loss  Instances       Size\n"
          ]
        },
        {
          "output_type": "stream",
          "name": "stderr",
          "text": [
            "      73/90      2.57G     0.9781      0.667      1.043          6        480: 100%|██████████| 30/30 [00:02<00:00, 13.49it/s]\n",
            "                 Class     Images  Instances      Box(P          R      mAP50  mAP50-95): 100%|██████████| 5/5 [00:00<00:00, 10.23it/s]"
          ]
        },
        {
          "output_type": "stream",
          "name": "stdout",
          "text": [
            "                   all        133        330       0.78      0.688       0.75      0.474\n"
          ]
        },
        {
          "output_type": "stream",
          "name": "stderr",
          "text": [
            "\n"
          ]
        },
        {
          "output_type": "stream",
          "name": "stdout",
          "text": [
            "\n",
            "      Epoch    GPU_mem   box_loss   cls_loss   dfl_loss  Instances       Size\n"
          ]
        },
        {
          "output_type": "stream",
          "name": "stderr",
          "text": [
            "      74/90      2.59G     0.9964     0.6793      1.037          6        480: 100%|██████████| 30/30 [00:02<00:00, 13.01it/s]\n",
            "                 Class     Images  Instances      Box(P          R      mAP50  mAP50-95): 100%|██████████| 5/5 [00:00<00:00, 10.50it/s]"
          ]
        },
        {
          "output_type": "stream",
          "name": "stdout",
          "text": [
            "                   all        133        330      0.763      0.713      0.761      0.474\n"
          ]
        },
        {
          "output_type": "stream",
          "name": "stderr",
          "text": [
            "\n"
          ]
        },
        {
          "output_type": "stream",
          "name": "stdout",
          "text": [
            "\n",
            "      Epoch    GPU_mem   box_loss   cls_loss   dfl_loss  Instances       Size\n"
          ]
        },
        {
          "output_type": "stream",
          "name": "stderr",
          "text": [
            "      75/90      2.61G     0.9891      0.728      1.045          1        480: 100%|██████████| 30/30 [00:02<00:00, 13.39it/s]\n",
            "                 Class     Images  Instances      Box(P          R      mAP50  mAP50-95): 100%|██████████| 5/5 [00:00<00:00, 10.81it/s]"
          ]
        },
        {
          "output_type": "stream",
          "name": "stdout",
          "text": [
            "                   all        133        330       0.78      0.688      0.753      0.467\n"
          ]
        },
        {
          "output_type": "stream",
          "name": "stderr",
          "text": [
            "\n"
          ]
        },
        {
          "output_type": "stream",
          "name": "stdout",
          "text": [
            "\n",
            "      Epoch    GPU_mem   box_loss   cls_loss   dfl_loss  Instances       Size\n"
          ]
        },
        {
          "output_type": "stream",
          "name": "stderr",
          "text": [
            "      76/90      2.62G     0.9588     0.6901      1.029          1        480: 100%|██████████| 30/30 [00:02<00:00, 13.22it/s]\n",
            "                 Class     Images  Instances      Box(P          R      mAP50  mAP50-95): 100%|██████████| 5/5 [00:00<00:00, 10.85it/s]"
          ]
        },
        {
          "output_type": "stream",
          "name": "stdout",
          "text": [
            "                   all        133        330      0.789      0.688      0.753      0.475\n"
          ]
        },
        {
          "output_type": "stream",
          "name": "stderr",
          "text": [
            "\n"
          ]
        },
        {
          "output_type": "stream",
          "name": "stdout",
          "text": [
            "\n",
            "      Epoch    GPU_mem   box_loss   cls_loss   dfl_loss  Instances       Size\n"
          ]
        },
        {
          "output_type": "stream",
          "name": "stderr",
          "text": [
            "      77/90      2.64G     0.9856     0.6652      1.037          5        480: 100%|██████████| 30/30 [00:02<00:00, 13.01it/s]\n",
            "                 Class     Images  Instances      Box(P          R      mAP50  mAP50-95): 100%|██████████| 5/5 [00:00<00:00, 10.67it/s]"
          ]
        },
        {
          "output_type": "stream",
          "name": "stdout",
          "text": [
            "                   all        133        330      0.822       0.67      0.758      0.472\n"
          ]
        },
        {
          "output_type": "stream",
          "name": "stderr",
          "text": [
            "\n"
          ]
        },
        {
          "output_type": "stream",
          "name": "stdout",
          "text": [
            "\n",
            "      Epoch    GPU_mem   box_loss   cls_loss   dfl_loss  Instances       Size\n"
          ]
        },
        {
          "output_type": "stream",
          "name": "stderr",
          "text": [
            "      78/90      2.66G     0.9329     0.6374      1.031          8        480: 100%|██████████| 30/30 [00:02<00:00, 12.85it/s]\n",
            "                 Class     Images  Instances      Box(P          R      mAP50  mAP50-95): 100%|██████████| 5/5 [00:00<00:00, 10.67it/s]"
          ]
        },
        {
          "output_type": "stream",
          "name": "stdout",
          "text": [
            "                   all        133        330      0.787      0.695      0.767      0.481\n"
          ]
        },
        {
          "output_type": "stream",
          "name": "stderr",
          "text": [
            "\n"
          ]
        },
        {
          "output_type": "stream",
          "name": "stdout",
          "text": [
            "\n",
            "      Epoch    GPU_mem   box_loss   cls_loss   dfl_loss  Instances       Size\n"
          ]
        },
        {
          "output_type": "stream",
          "name": "stderr",
          "text": [
            "      79/90      2.67G     0.9664     0.6558      1.036          6        480: 100%|██████████| 30/30 [00:02<00:00, 13.20it/s]\n",
            "                 Class     Images  Instances      Box(P          R      mAP50  mAP50-95): 100%|██████████| 5/5 [00:00<00:00, 10.67it/s]"
          ]
        },
        {
          "output_type": "stream",
          "name": "stdout",
          "text": [
            "                   all        133        330      0.806      0.685      0.763       0.48\n"
          ]
        },
        {
          "output_type": "stream",
          "name": "stderr",
          "text": [
            "\n"
          ]
        },
        {
          "output_type": "stream",
          "name": "stdout",
          "text": [
            "\n",
            "      Epoch    GPU_mem   box_loss   cls_loss   dfl_loss  Instances       Size\n"
          ]
        },
        {
          "output_type": "stream",
          "name": "stderr",
          "text": [
            "      80/90      2.69G     0.9789     0.6692      1.044          5        480: 100%|██████████| 30/30 [00:02<00:00, 12.96it/s]\n",
            "                 Class     Images  Instances      Box(P          R      mAP50  mAP50-95): 100%|██████████| 5/5 [00:00<00:00, 10.80it/s]"
          ]
        },
        {
          "output_type": "stream",
          "name": "stdout",
          "text": [
            "                   all        133        330      0.799      0.694      0.768      0.488\n"
          ]
        },
        {
          "output_type": "stream",
          "name": "stderr",
          "text": [
            "\n"
          ]
        },
        {
          "output_type": "stream",
          "name": "stdout",
          "text": [
            "Closing dataloader mosaic\n",
            "\u001b[34m\u001b[1malbumentations: \u001b[0mBlur(p=0.01, blur_limit=(3, 7)), MedianBlur(p=0.01, blur_limit=(3, 7)), ToGray(p=0.01, method='weighted_average', num_output_channels=3), CLAHE(p=0.01, clip_limit=(1.0, 4.0), tile_grid_size=(8, 8))\n",
            "\n",
            "      Epoch    GPU_mem   box_loss   cls_loss   dfl_loss  Instances       Size\n"
          ]
        },
        {
          "output_type": "stream",
          "name": "stderr",
          "text": [
            "      81/90      2.71G     0.9103     0.6308     0.9813          2        480: 100%|██████████| 30/30 [00:02<00:00, 10.20it/s]\n",
            "                 Class     Images  Instances      Box(P          R      mAP50  mAP50-95): 100%|██████████| 5/5 [00:00<00:00, 10.19it/s]"
          ]
        },
        {
          "output_type": "stream",
          "name": "stdout",
          "text": [
            "                   all        133        330      0.771       0.67      0.742      0.469\n"
          ]
        },
        {
          "output_type": "stream",
          "name": "stderr",
          "text": [
            "\n"
          ]
        },
        {
          "output_type": "stream",
          "name": "stdout",
          "text": [
            "\n",
            "      Epoch    GPU_mem   box_loss   cls_loss   dfl_loss  Instances       Size\n"
          ]
        },
        {
          "output_type": "stream",
          "name": "stderr",
          "text": [
            "      82/90      2.73G     0.8453     0.5732     0.9673          2        480: 100%|██████████| 30/30 [00:02<00:00, 13.50it/s]\n",
            "                 Class     Images  Instances      Box(P          R      mAP50  mAP50-95): 100%|██████████| 5/5 [00:00<00:00, 10.36it/s]"
          ]
        },
        {
          "output_type": "stream",
          "name": "stdout",
          "text": [
            "                   all        133        330      0.729       0.71      0.736      0.458\n"
          ]
        },
        {
          "output_type": "stream",
          "name": "stderr",
          "text": [
            "\n"
          ]
        },
        {
          "output_type": "stream",
          "name": "stdout",
          "text": [
            "\n",
            "      Epoch    GPU_mem   box_loss   cls_loss   dfl_loss  Instances       Size\n"
          ]
        },
        {
          "output_type": "stream",
          "name": "stderr",
          "text": [
            "      83/90      2.74G     0.8547     0.5735     0.9835          1        480: 100%|██████████| 30/30 [00:02<00:00, 13.58it/s]\n",
            "                 Class     Images  Instances      Box(P          R      mAP50  mAP50-95): 100%|██████████| 5/5 [00:00<00:00, 10.66it/s]"
          ]
        },
        {
          "output_type": "stream",
          "name": "stdout",
          "text": [
            "                   all        133        330      0.742      0.709      0.743      0.467\n"
          ]
        },
        {
          "output_type": "stream",
          "name": "stderr",
          "text": [
            "\n"
          ]
        },
        {
          "output_type": "stream",
          "name": "stdout",
          "text": [
            "\n",
            "      Epoch    GPU_mem   box_loss   cls_loss   dfl_loss  Instances       Size\n"
          ]
        },
        {
          "output_type": "stream",
          "name": "stderr",
          "text": [
            "      84/90      2.76G     0.8439     0.5568     0.9753          1        480: 100%|██████████| 30/30 [00:02<00:00, 13.05it/s]\n",
            "                 Class     Images  Instances      Box(P          R      mAP50  mAP50-95): 100%|██████████| 5/5 [00:00<00:00, 10.02it/s]"
          ]
        },
        {
          "output_type": "stream",
          "name": "stdout",
          "text": [
            "                   all        133        330      0.794      0.687      0.748      0.472\n"
          ]
        },
        {
          "output_type": "stream",
          "name": "stderr",
          "text": [
            "\n"
          ]
        },
        {
          "output_type": "stream",
          "name": "stdout",
          "text": [
            "\n",
            "      Epoch    GPU_mem   box_loss   cls_loss   dfl_loss  Instances       Size\n"
          ]
        },
        {
          "output_type": "stream",
          "name": "stderr",
          "text": [
            "      85/90      2.78G     0.8391     0.5399     0.9544          1        480: 100%|██████████| 30/30 [00:02<00:00, 13.15it/s]\n",
            "                 Class     Images  Instances      Box(P          R      mAP50  mAP50-95): 100%|██████████| 5/5 [00:00<00:00, 10.23it/s]"
          ]
        },
        {
          "output_type": "stream",
          "name": "stdout",
          "text": [
            "                   all        133        330      0.776      0.695      0.752       0.47\n"
          ]
        },
        {
          "output_type": "stream",
          "name": "stderr",
          "text": [
            "\n"
          ]
        },
        {
          "output_type": "stream",
          "name": "stdout",
          "text": [
            "\n",
            "      Epoch    GPU_mem   box_loss   cls_loss   dfl_loss  Instances       Size\n"
          ]
        },
        {
          "output_type": "stream",
          "name": "stderr",
          "text": [
            "      86/90      2.79G     0.8162     0.5475     0.9501          1        480: 100%|██████████| 30/30 [00:02<00:00, 13.41it/s]\n",
            "                 Class     Images  Instances      Box(P          R      mAP50  mAP50-95): 100%|██████████| 5/5 [00:00<00:00, 10.56it/s]"
          ]
        },
        {
          "output_type": "stream",
          "name": "stdout",
          "text": [
            "                   all        133        330      0.754      0.714      0.753      0.477\n"
          ]
        },
        {
          "output_type": "stream",
          "name": "stderr",
          "text": [
            "\n"
          ]
        },
        {
          "output_type": "stream",
          "name": "stdout",
          "text": [
            "\n",
            "      Epoch    GPU_mem   box_loss   cls_loss   dfl_loss  Instances       Size\n"
          ]
        },
        {
          "output_type": "stream",
          "name": "stderr",
          "text": [
            "      87/90      2.81G     0.8514     0.5401     0.9622          2        480: 100%|██████████| 30/30 [00:02<00:00, 13.27it/s]\n",
            "                 Class     Images  Instances      Box(P          R      mAP50  mAP50-95): 100%|██████████| 5/5 [00:00<00:00, 10.74it/s]"
          ]
        },
        {
          "output_type": "stream",
          "name": "stdout",
          "text": [
            "                   all        133        330      0.788      0.697      0.751      0.471\n"
          ]
        },
        {
          "output_type": "stream",
          "name": "stderr",
          "text": [
            "\n"
          ]
        },
        {
          "output_type": "stream",
          "name": "stdout",
          "text": [
            "\n",
            "      Epoch    GPU_mem   box_loss   cls_loss   dfl_loss  Instances       Size\n"
          ]
        },
        {
          "output_type": "stream",
          "name": "stderr",
          "text": [
            "      88/90      2.83G      0.816     0.5323     0.9521         12        480: 100%|██████████| 30/30 [00:02<00:00, 13.15it/s]\n",
            "                 Class     Images  Instances      Box(P          R      mAP50  mAP50-95): 100%|██████████| 5/5 [00:00<00:00, 10.52it/s]"
          ]
        },
        {
          "output_type": "stream",
          "name": "stdout",
          "text": [
            "                   all        133        330      0.789      0.694      0.753      0.472\n"
          ]
        },
        {
          "output_type": "stream",
          "name": "stderr",
          "text": [
            "\n"
          ]
        },
        {
          "output_type": "stream",
          "name": "stdout",
          "text": [
            "\n",
            "      Epoch    GPU_mem   box_loss   cls_loss   dfl_loss  Instances       Size\n"
          ]
        },
        {
          "output_type": "stream",
          "name": "stderr",
          "text": [
            "      89/90      2.85G     0.8148     0.5393     0.9426          1        480: 100%|██████████| 30/30 [00:02<00:00, 13.41it/s]\n",
            "                 Class     Images  Instances      Box(P          R      mAP50  mAP50-95): 100%|██████████| 5/5 [00:00<00:00, 10.72it/s]"
          ]
        },
        {
          "output_type": "stream",
          "name": "stdout",
          "text": [
            "                   all        133        330      0.788      0.703      0.758      0.475\n"
          ]
        },
        {
          "output_type": "stream",
          "name": "stderr",
          "text": [
            "\n"
          ]
        },
        {
          "output_type": "stream",
          "name": "stdout",
          "text": [
            "\n",
            "      Epoch    GPU_mem   box_loss   cls_loss   dfl_loss  Instances       Size\n"
          ]
        },
        {
          "output_type": "stream",
          "name": "stderr",
          "text": [
            "      90/90      2.86G     0.8332     0.5276     0.9562          1        480: 100%|██████████| 30/30 [00:02<00:00, 13.15it/s]\n",
            "                 Class     Images  Instances      Box(P          R      mAP50  mAP50-95): 100%|██████████| 5/5 [00:00<00:00, 10.81it/s]"
          ]
        },
        {
          "output_type": "stream",
          "name": "stdout",
          "text": [
            "                   all        133        330      0.787      0.696      0.756      0.473\n"
          ]
        },
        {
          "output_type": "stream",
          "name": "stderr",
          "text": [
            "\n"
          ]
        },
        {
          "output_type": "stream",
          "name": "stdout",
          "text": [
            "\n",
            "90 epochs completed in 0.077 hours.\n",
            "Optimizer stripped from runs/detect/train/weights/last.pt, 6.2MB\n",
            "Optimizer stripped from runs/detect/train/weights/best.pt, 6.2MB\n",
            "\n",
            "Validating runs/detect/train/weights/best.pt...\n",
            "Ultralytics 8.3.182 🚀 Python-3.12.11 torch-2.8.0+cu126 CUDA:0 (NVIDIA L4, 22693MiB)\n",
            "Model summary (fused): 72 layers, 3,005,843 parameters, 0 gradients, 8.1 GFLOPs\n"
          ]
        },
        {
          "output_type": "stream",
          "name": "stderr",
          "text": [
            "                 Class     Images  Instances      Box(P          R      mAP50  mAP50-95): 100%|██████████| 5/5 [00:01<00:00,  3.98it/s]\n"
          ]
        },
        {
          "output_type": "stream",
          "name": "stdout",
          "text": [
            "                   all        133        330      0.798      0.697      0.769      0.488\n",
            "Speed: 0.1ms preprocess, 0.6ms inference, 0.0ms loss, 1.6ms postprocess per image\n",
            "Results saved to \u001b[1mruns/detect/train\u001b[0m\n"
          ]
        }
      ]
    },
    {
      "cell_type": "code",
      "source": [
        "import cv2\n",
        "from PIL import Image\n",
        "import numpy as np\n",
        "import matplotlib.pyplot as plt\n",
        "\n",
        "def show_result(results):\n",
        "  results_img = results[0].plot()\n",
        "  results_img = cv2.cvtColor(results_img, cv2.COLOR_BGR2RGB)\n",
        "  plt.figure(figsize=(10, 8))\n",
        "  plt.imshow(results_img)\n",
        "  plt.axis('off')\n",
        "  plt.show()"
      ],
      "metadata": {
        "id": "Oa86VzIgbvXO"
      },
      "execution_count": 6,
      "outputs": []
    },
    {
      "cell_type": "code",
      "source": [
        "results = model(\"/content/test/images/img-344_jpg.rf.dd4eebb8836b8efe2a2cce77d61349b7.jpg\")\n",
        "show_result(results)"
      ],
      "metadata": {
        "colab": {
          "base_uri": "https://localhost:8080/",
          "height": 609
        },
        "id": "G5WL07-gbwUM",
        "outputId": "44f87fa9-7ea6-44f2-f1d1-a6374b35e06d"
      },
      "execution_count": 8,
      "outputs": [
        {
          "output_type": "stream",
          "name": "stdout",
          "text": [
            "\n",
            "image 1/1 /content/test/images/img-344_jpg.rf.dd4eebb8836b8efe2a2cce77d61349b7.jpg: 352x480 5 potholes, 60.9ms\n",
            "Speed: 2.7ms preprocess, 60.9ms inference, 1.6ms postprocess per image at shape (1, 3, 352, 480)\n"
          ]
        },
        {
          "output_type": "display_data",
          "data": {
            "text/plain": [
              "<Figure size 1000x800 with 1 Axes>"
            ],
            "image/png": "[encoded data removed]"
          },
          "metadata": {}
        }
      ]
    },
    {
      "cell_type": "code",
      "source": [
        "!yolo export model=/content/runs/detect/train/weights/best.pt format=tflite int8=True imgsz=480 nms=False data=\"data.yaml\" device='cpu'"
      ],
      "metadata": {
        "colab": {
          "base_uri": "https://localhost:8080/"
        },
        "id": "Bfd9c4pZLsXe",
        "outputId": "fdb5d2f0-c391-4605-bce0-84bbb4f6a7b9"
      },
      "execution_count": 9,
      "outputs": [
        {
          "output_type": "stream",
          "name": "stdout",
          "text": [
            "Ultralytics 8.3.182 🚀 Python-3.12.11 torch-2.8.0+cu126 CPU (Intel Xeon 2.20GHz)\n",
            "💡 ProTip: Export to OpenVINO format for best performance on Intel hardware. Learn more at https://docs.ultralytics.com/integrations/openvino/\n",
            "Model summary (fused): 72 layers, 3,005,843 parameters, 0 gradients, 8.1 GFLOPs\n",
            "\n",
            "\u001b[34m\u001b[1mPyTorch:\u001b[0m starting from '/content/runs/detect/train/weights/best.pt' with input shape (1, 3, 480, 480) BCHW and output shape(s) (1, 5, 4725) (5.9 MB)\n",
            "WARNING: All log messages before absl::InitializeLog() is called are written to STDERR\n",
            "E0000 00:00:1755740102.683164    4997 cuda_dnn.cc:8579] Unable to register cuDNN factory: Attempting to register factory for plugin cuDNN when one has already been registered\n",
            "E0000 00:00:1755740102.688757    4997 cuda_blas.cc:1407] Unable to register cuBLAS factory: Attempting to register factory for plugin cuBLAS when one has already been registered\n",
            "W0000 00:00:1755740102.705050    4997 computation_placer.cc:177] computation placer already registered. Please check linkage and avoid linking the same target more than once.\n",
            "W0000 00:00:1755740102.705076    4997 computation_placer.cc:177] computation placer already registered. Please check linkage and avoid linking the same target more than once.\n",
            "W0000 00:00:1755740102.705079    4997 computation_placer.cc:177] computation placer already registered. Please check linkage and avoid linking the same target more than once.\n",
            "W0000 00:00:1755740102.705082    4997 computation_placer.cc:177] computation placer already registered. Please check linkage and avoid linking the same target more than once.\n",
            "\u001b[31m\u001b[1mrequirements:\u001b[0m Ultralytics requirements ['sng4onnx>=1.0.1', 'onnx_graphsurgeon>=0.3.26', 'ai-edge-litert>=1.2.0,<1.4.0', 'onnx>=1.12.0,<1.18.0', 'onnx2tf>=1.26.3', 'onnxslim>=0.1.59', 'onnxruntime'] not found, attempting AutoUpdate...\n",
            "\n",
            "\u001b[31m\u001b[1mrequirements:\u001b[0m AutoUpdate success ✅ 4.0s\n",
            "WARNING ⚠️ \u001b[31m\u001b[1mrequirements:\u001b[0m \u001b[1mRestart runtime or rerun command for updates to take effect\u001b[0m\n",
            "\n",
            "\n",
            "\u001b[34m\u001b[1mTensorFlow SavedModel:\u001b[0m starting export with tensorflow 2.19.0...\n",
            "Downloading https://github.com/ultralytics/assets/releases/download/v8.3.0/calibration_image_sample_data_20x128x128x3_float32.npy.zip to 'calibration_image_sample_data_20x128x128x3_float32.npy.zip': 100% 1.11M/1.11M [00:00<00:00, 27.6MB/s]\n",
            "Unzipping calibration_image_sample_data_20x128x128x3_float32.npy.zip to /content/calibration_image_sample_data_20x128x128x3_float32.npy...: 100% 1/1 [00:00<00:00, 49.67file/s]\n",
            "\n",
            "\u001b[34m\u001b[1mONNX:\u001b[0m starting export with onnx 1.17.0 opset 19...\n",
            "\u001b[34m\u001b[1mONNX:\u001b[0m slimming with onnxslim 0.1.64...\n",
            "\u001b[34m\u001b[1mONNX:\u001b[0m export success ✅ 1.8s, saved as '/content/runs/detect/train/weights/best.onnx' (11.7 MB)\n",
            "\u001b[34m\u001b[1mTensorFlow SavedModel:\u001b[0m collecting INT8 calibration images from 'data=data.yaml'\n",
            "Fast image access ✅ (ping: 0.0±0.0 ms, read: 2206.0±1081.4 MB/s, size: 82.2 KB)\n",
            "Scanning /content/valid/labels.cache... 133 images, 0 backgrounds, 0 corrupt: 100% 133/133 [00:00<?, ?it/s]\n",
            "WARNING ⚠️ \u001b[34m\u001b[1mTensorFlow SavedModel:\u001b[0m >300 images recommended for INT8 calibration, found 133 images.\n",
            "\u001b[34m\u001b[1mTensorFlow SavedModel:\u001b[0m starting TFLite export with onnx2tf 1.28.2...\n",
            "Saved artifact at '/content/runs/detect/train/weights/best_saved_model'. The following endpoints are available:\n",
            "\n",
            "* Endpoint 'serving_default'\n",
            "  inputs_0 (POSITIONAL_ONLY): TensorSpec(shape=(1, 480, 480, 3), dtype=tf.float32, name='images')\n",
            "Output Type:\n",
            "  TensorSpec(shape=(1, 5, 4725), dtype=tf.float32, name=None)\n",
            "Captures:\n",
            "  135283688447184: TensorSpec(shape=(4, 2), dtype=tf.int32, name=None)\n",
            "  135283688447760: TensorSpec(shape=(3, 3, 3, 16), dtype=tf.float32, name=None)\n",
            "  135283688447952: TensorSpec(shape=(16,), dtype=tf.float32, name=None)\n",
            "  135283688452368: TensorSpec(shape=(4, 2), dtype=tf.int32, name=None)\n",
            "  135283688452752: TensorSpec(shape=(3, 3, 16, 32), dtype=tf.float32, name=None)\n",
            "  135283688449872: TensorSpec(shape=(32,), dtype=tf.float32, name=None)\n",
            "  135283688451216: TensorSpec(shape=(1, 1, 32, 32), dtype=tf.float32, name=None)\n",
            "  135283688453136: TensorSpec(shape=(32,), dtype=tf.float32, name=None)\n",
            "  135283688453904: TensorSpec(shape=(4,), dtype=tf.int64, name=None)\n",
            "  135283688453520: TensorSpec(shape=(4,), dtype=tf.int64, name=None)\n",
            "  135283688455824: TensorSpec(shape=(3, 3, 16, 16), dtype=tf.float32, name=None)\n",
            "  135283688454864: TensorSpec(shape=(16,), dtype=tf.float32, name=None)\n",
            "  135283688452944: TensorSpec(shape=(3, 3, 16, 16), dtype=tf.float32, name=None)\n",
            "  135283688448144: TensorSpec(shape=(16,), dtype=tf.float32, name=None)\n",
            "  135283688454480: TensorSpec(shape=(4,), dtype=tf.int64, name=None)\n",
            "  135283688454096: TensorSpec(shape=(4,), dtype=tf.int64, name=None)\n",
            "  135283688454288: TensorSpec(shape=(1, 1, 48, 32), dtype=tf.float32, name=None)\n",
            "  135283688455440: TensorSpec(shape=(32,), dtype=tf.float32, name=None)\n",
            "  135283612124560: TensorSpec(shape=(4, 2), dtype=tf.int32, name=None)\n",
            "  135283612123408: TensorSpec(shape=(3, 3, 32, 64), dtype=tf.float32, name=None)\n",
            "  135283612123600: TensorSpec(shape=(64,), dtype=tf.float32, name=None)\n",
            "  135283612124752: TensorSpec(shape=(1, 1, 64, 64), dtype=tf.float32, name=None)\n",
            "  135283612124176: TensorSpec(shape=(64,), dtype=tf.float32, name=None)\n",
            "  135283612125712: TensorSpec(shape=(4,), dtype=tf.int64, name=None)\n",
            "  135283612124944: TensorSpec(shape=(4,), dtype=tf.int64, name=None)\n",
            "  135283612126096: TensorSpec(shape=(3, 3, 32, 32), dtype=tf.float32, name=None)\n",
            "  135283612127056: TensorSpec(shape=(32,), dtype=tf.float32, name=None)\n",
            "  135283612124368: TensorSpec(shape=(3, 3, 32, 32), dtype=tf.float32, name=None)\n",
            "  135283612123792: TensorSpec(shape=(32,), dtype=tf.float32, name=None)\n",
            "  135283612126288: TensorSpec(shape=(3, 3, 32, 32), dtype=tf.float32, name=None)\n",
            "  135283612127248: TensorSpec(shape=(32,), dtype=tf.float32, name=None)\n",
            "  135283612123984: TensorSpec(shape=(3, 3, 32, 32), dtype=tf.float32, name=None)\n",
            "  135283612127632: TensorSpec(shape=(32,), dtype=tf.float32, name=None)\n",
            "  135283612125136: TensorSpec(shape=(4,), dtype=tf.int64, name=None)\n",
            "  135283612125520: TensorSpec(shape=(4,), dtype=tf.int64, name=None)\n",
            "  135283612128016: TensorSpec(shape=(1, 1, 128, 64), dtype=tf.float32, name=None)\n",
            "  135283612127440: TensorSpec(shape=(64,), dtype=tf.float32, name=None)\n",
            "  135283612128208: TensorSpec(shape=(4, 2), dtype=tf.int32, name=None)\n",
            "  135283612126480: TensorSpec(shape=(3, 3, 64, 128), dtype=tf.float32, name=None)\n",
            "  135283612127824: TensorSpec(shape=(128,), dtype=tf.float32, name=None)\n",
            "  135283612128592: TensorSpec(shape=(1, 1, 128, 128), dtype=tf.float32, name=None)\n",
            "  135283612128784: TensorSpec(shape=(128,), dtype=tf.float32, name=None)\n",
            "  135283612129360: TensorSpec(shape=(4,), dtype=tf.int64, name=None)\n",
            "  135283612129168: TensorSpec(shape=(4,), dtype=tf.int64, name=None)\n",
            "  135283612131280: TensorSpec(shape=(3, 3, 64, 64), dtype=tf.float32, name=None)\n",
            "  135283612131472: TensorSpec(shape=(64,), dtype=tf.float32, name=None)\n",
            "  135283612128976: TensorSpec(shape=(3, 3, 64, 64), dtype=tf.float32, name=None)\n",
            "  135283612128400: TensorSpec(shape=(64,), dtype=tf.float32, name=None)\n",
            "  135283612130704: TensorSpec(shape=(3, 3, 64, 64), dtype=tf.float32, name=None)\n",
            "  135283612131664: TensorSpec(shape=(64,), dtype=tf.float32, name=None)\n",
            "  135283612130320: TensorSpec(shape=(3, 3, 64, 64), dtype=tf.float32, name=None)\n",
            "  135283612132048: TensorSpec(shape=(64,), dtype=tf.float32, name=None)\n",
            "  135283612129552: TensorSpec(shape=(4,), dtype=tf.int64, name=None)\n",
            "  135283612129744: TensorSpec(shape=(4,), dtype=tf.int64, name=None)\n",
            "  135283612132432: TensorSpec(shape=(1, 1, 256, 128), dtype=tf.float32, name=None)\n",
            "  135283612131856: TensorSpec(shape=(128,), dtype=tf.float32, name=None)\n",
            "  135283612132624: TensorSpec(shape=(4, 2), dtype=tf.int32, name=None)\n",
            "  135283612130896: TensorSpec(shape=(3, 3, 128, 256), dtype=tf.float32, name=None)\n",
            "  135283612132240: TensorSpec(shape=(256,), dtype=tf.float32, name=None)\n",
            "  135283612133008: TensorSpec(shape=(1, 1, 256, 256), dtype=tf.float32, name=None)\n",
            "  135283612133200: TensorSpec(shape=(256,), dtype=tf.float32, name=None)\n",
            "  135283612133776: TensorSpec(shape=(4,), dtype=tf.int64, name=None)\n",
            "  135283612133584: TensorSpec(shape=(4,), dtype=tf.int64, name=None)\n",
            "  135283612135696: TensorSpec(shape=(3, 3, 128, 128), dtype=tf.float32, name=None)\n",
            "  135283612135888: TensorSpec(shape=(128,), dtype=tf.float32, name=None)\n",
            "  135283612133392: TensorSpec(shape=(3, 3, 128, 128), dtype=tf.float32, name=None)\n",
            "  135283612132816: TensorSpec(shape=(128,), dtype=tf.float32, name=None)\n",
            "  135283612133968: TensorSpec(shape=(4,), dtype=tf.int64, name=None)\n",
            "  135283612134160: TensorSpec(shape=(4,), dtype=tf.int64, name=None)\n",
            "  135283612136080: TensorSpec(shape=(1, 1, 384, 256), dtype=tf.float32, name=None)\n",
            "  135283612134736: TensorSpec(shape=(256,), dtype=tf.float32, name=None)\n",
            "  135283612135120: TensorSpec(shape=(1, 1, 256, 128), dtype=tf.float32, name=None)\n",
            "  135283612136464: TensorSpec(shape=(128,), dtype=tf.float32, name=None)\n",
            "  135283612135312: TensorSpec(shape=(1, 1, 512, 256), dtype=tf.float32, name=None)\n",
            "  135283612136272: TensorSpec(shape=(256,), dtype=tf.float32, name=None)\n",
            "  135283612137232: TensorSpec(shape=(1, 1, 384, 128), dtype=tf.float32, name=None)\n",
            "  135283612137424: TensorSpec(shape=(128,), dtype=tf.float32, name=None)\n",
            "  135283612137808: TensorSpec(shape=(4,), dtype=tf.int64, name=None)\n",
            "  135283612137040: TensorSpec(shape=(4,), dtype=tf.int64, name=None)\n",
            "  135283612138000: TensorSpec(shape=(3, 3, 64, 64), dtype=tf.float32, name=None)\n",
            "  135283612139152: TensorSpec(shape=(64,), dtype=tf.float32, name=None)\n",
            "  135283612137616: TensorSpec(shape=(3, 3, 64, 64), dtype=tf.float32, name=None)\n",
            "  135283612136656: TensorSpec(shape=(64,), dtype=tf.float32, name=None)\n",
            "  135283612138576: TensorSpec(shape=(4,), dtype=tf.int64, name=None)\n",
            "  135283612136848: TensorSpec(shape=(4,), dtype=tf.int64, name=None)\n",
            "  135283612138384: TensorSpec(shape=(1, 1, 192, 128), dtype=tf.float32, name=None)\n",
            "  135283612138768: TensorSpec(shape=(128,), dtype=tf.float32, name=None)\n",
            "  135283612138960: TensorSpec(shape=(1, 1, 192, 64), dtype=tf.float32, name=None)\n",
            "  135283559645648: TensorSpec(shape=(64,), dtype=tf.float32, name=None)\n",
            "  135283559646416: TensorSpec(shape=(4,), dtype=tf.int64, name=None)\n",
            "  135283559646224: TensorSpec(shape=(4,), dtype=tf.int64, name=None)\n",
            "  135283559648336: TensorSpec(shape=(3, 3, 32, 32), dtype=tf.float32, name=None)\n",
            "  135283559648528: TensorSpec(shape=(32,), dtype=tf.float32, name=None)\n",
            "  135283559646032: TensorSpec(shape=(3, 3, 32, 32), dtype=tf.float32, name=None)\n",
            "  135283559645840: TensorSpec(shape=(32,), dtype=tf.float32, name=None)\n",
            "  135283559646608: TensorSpec(shape=(4,), dtype=tf.int64, name=None)\n",
            "  135283559646800: TensorSpec(shape=(4,), dtype=tf.int64, name=None)\n",
            "  135283559648912: TensorSpec(shape=(1, 1, 96, 64), dtype=tf.float32, name=None)\n",
            "  135283559648720: TensorSpec(shape=(64,), dtype=tf.float32, name=None)\n",
            "  135283559649104: TensorSpec(shape=(4, 2), dtype=tf.int32, name=None)\n",
            "  135283559647760: TensorSpec(shape=(3, 3, 64, 64), dtype=tf.float32, name=None)\n",
            "  135283559647376: TensorSpec(shape=(64,), dtype=tf.float32, name=None)\n",
            "  135283559651024: TensorSpec(shape=(1, 1, 192, 128), dtype=tf.float32, name=None)\n",
            "  135283559650448: TensorSpec(shape=(128,), dtype=tf.float32, name=None)\n",
            "  135283559652176: TensorSpec(shape=(4,), dtype=tf.int64, name=None)\n",
            "  135283559651984: TensorSpec(shape=(4,), dtype=tf.int64, name=None)\n",
            "  135283559654672: TensorSpec(shape=(3, 3, 64, 64), dtype=tf.float32, name=None)\n",
            "  135283559654864: TensorSpec(shape=(64,), dtype=tf.float32, name=None)\n",
            "  135283559654288: TensorSpec(shape=(3, 3, 64, 64), dtype=tf.float32, name=None)\n",
            "  135283559653712: TensorSpec(shape=(64,), dtype=tf.float32, name=None)\n",
            "  135283559652560: TensorSpec(shape=(4,), dtype=tf.int64, name=None)\n",
            "  135283559652752: TensorSpec(shape=(4,), dtype=tf.int64, name=None)\n",
            "  135283559654480: TensorSpec(shape=(1, 1, 192, 128), dtype=tf.float32, name=None)\n",
            "  135283559653328: TensorSpec(shape=(128,), dtype=tf.float32, name=None)\n",
            "  135283559655632: TensorSpec(shape=(4, 2), dtype=tf.int32, name=None)\n",
            "  135283559651600: TensorSpec(shape=(3, 3, 128, 128), dtype=tf.float32, name=None)\n",
            "  135283559652368: TensorSpec(shape=(128,), dtype=tf.float32, name=None)\n",
            "  135283559655056: TensorSpec(shape=(1, 1, 384, 256), dtype=tf.float32, name=None)\n",
            "  135283559656592: TensorSpec(shape=(256,), dtype=tf.float32, name=None)\n",
            "  135283559658128: TensorSpec(shape=(4,), dtype=tf.int64, name=None)\n",
            "  135283559657936: TensorSpec(shape=(4,), dtype=tf.int64, name=None)\n",
            "  135283559658512: TensorSpec(shape=(3, 3, 128, 128), dtype=tf.float32, name=None)\n",
            "  135283559659280: TensorSpec(shape=(128,), dtype=tf.float32, name=None)\n",
            "  135283559660624: TensorSpec(shape=(3, 3, 128, 128), dtype=tf.float32, name=None)\n",
            "  135283559661200: TensorSpec(shape=(128,), dtype=tf.float32, name=None)\n",
            "  135283559658704: TensorSpec(shape=(4,), dtype=tf.int64, name=None)\n",
            "  135283559659088: TensorSpec(shape=(4,), dtype=tf.int64, name=None)\n",
            "  135283559659472: TensorSpec(shape=(1, 1, 384, 256), dtype=tf.float32, name=None)\n",
            "  135283559661392: TensorSpec(shape=(256,), dtype=tf.float32, name=None)\n",
            "  135283559661008: TensorSpec(shape=(3, 3, 256, 64), dtype=tf.float32, name=None)\n",
            "  135283559660432: TensorSpec(shape=(3, 3, 256, 64), dtype=tf.float32, name=None)\n",
            "  135283559655824: TensorSpec(shape=(3, 3, 128, 64), dtype=tf.float32, name=None)\n",
            "  135283559653904: TensorSpec(shape=(3, 3, 128, 64), dtype=tf.float32, name=None)\n",
            "  135283559649872: TensorSpec(shape=(3, 3, 64, 64), dtype=tf.float32, name=None)\n",
            "  135283559649488: TensorSpec(shape=(3, 3, 64, 64), dtype=tf.float32, name=None)\n",
            "  135283559656784: TensorSpec(shape=(64,), dtype=tf.float32, name=None)\n",
            "  135283559660816: TensorSpec(shape=(64,), dtype=tf.float32, name=None)\n",
            "  135283559656208: TensorSpec(shape=(64,), dtype=tf.float32, name=None)\n",
            "  135283559655440: TensorSpec(shape=(64,), dtype=tf.float32, name=None)\n",
            "  135283559647952: TensorSpec(shape=(64,), dtype=tf.float32, name=None)\n",
            "  135283559649296: TensorSpec(shape=(64,), dtype=tf.float32, name=None)\n",
            "  135283218694608: TensorSpec(shape=(3, 3, 64, 64), dtype=tf.float32, name=None)\n",
            "  135283559660240: TensorSpec(shape=(3, 3, 64, 64), dtype=tf.float32, name=None)\n",
            "  135283559656976: TensorSpec(shape=(3, 3, 64, 64), dtype=tf.float32, name=None)\n",
            "  135283559655248: TensorSpec(shape=(3, 3, 64, 64), dtype=tf.float32, name=None)\n",
            "  135283559650640: TensorSpec(shape=(3, 3, 64, 64), dtype=tf.float32, name=None)\n",
            "  135283559649680: TensorSpec(shape=(3, 3, 64, 64), dtype=tf.float32, name=None)\n",
            "  135283218694224: TensorSpec(shape=(64,), dtype=tf.float32, name=None)\n",
            "  135283559659856: TensorSpec(shape=(64,), dtype=tf.float32, name=None)\n",
            "  135283559656016: TensorSpec(shape=(64,), dtype=tf.float32, name=None)\n",
            "  135283559656400: TensorSpec(shape=(64,), dtype=tf.float32, name=None)\n",
            "  135283559650256: TensorSpec(shape=(64,), dtype=tf.float32, name=None)\n",
            "  135283559650064: TensorSpec(shape=(64,), dtype=tf.float32, name=None)\n",
            "  135283218695376: TensorSpec(shape=(1, 1, 64, 1), dtype=tf.float32, name=None)\n",
            "  135283218694800: TensorSpec(shape=(1, 1, 64, 64), dtype=tf.float32, name=None)\n",
            "  135283559658320: TensorSpec(shape=(1, 1, 64, 1), dtype=tf.float32, name=None)\n",
            "  135283559657552: TensorSpec(shape=(1, 1, 64, 64), dtype=tf.float32, name=None)\n",
            "  135283559651792: TensorSpec(shape=(1, 1, 64, 1), dtype=tf.float32, name=None)\n",
            "  135283559651408: TensorSpec(shape=(1, 1, 64, 64), dtype=tf.float32, name=None)\n",
            "  135283218695184: TensorSpec(shape=(64,), dtype=tf.float32, name=None)\n",
            "  135283218694992: TensorSpec(shape=(1,), dtype=tf.float32, name=None)\n",
            "  135283559657360: TensorSpec(shape=(64,), dtype=tf.float32, name=None)\n",
            "  135283559657168: TensorSpec(shape=(1,), dtype=tf.float32, name=None)\n",
            "  135283559650832: TensorSpec(shape=(64,), dtype=tf.float32, name=None)\n",
            "  135283559651216: TensorSpec(shape=(1,), dtype=tf.float32, name=None)\n",
            "  135283218696912: TensorSpec(shape=(3,), dtype=tf.int64, name=None)\n",
            "  135283218695568: TensorSpec(shape=(3,), dtype=tf.int64, name=None)\n",
            "  135283218699216: TensorSpec(shape=(1, 1, 16, 1), dtype=tf.float32, name=None)\n",
            "  135283218699408: TensorSpec(shape=(3,), dtype=tf.int64, name=None)\n",
            "  135283218698256: TensorSpec(shape=(3,), dtype=tf.int64, name=None)\n",
            "  135283218698448: TensorSpec(shape=(3,), dtype=tf.int64, name=None)\n",
            "  135283218697680: TensorSpec(shape=(3,), dtype=tf.int64, name=None)\n",
            "  135283218699792: TensorSpec(shape=(1, 2, 4725), dtype=tf.float32, name=None)\n",
            "  135283218696528: TensorSpec(shape=(1, 2, 4725), dtype=tf.float32, name=None)\n",
            "  135283218696144: TensorSpec(shape=(3,), dtype=tf.int64, name=None)\n",
            "  135283218694416: TensorSpec(shape=(3,), dtype=tf.int64, name=None)\n",
            "I0000 00:00:1755740124.464909    4997 devices.cc:67] Number of eligible GPUs (core count >= 8, compute capability >= 0.0): 0\n",
            "WARNING: All log messages before absl::InitializeLog() is called are written to STDERR\n",
            "I0000 00:00:1755740124.465119    4997 single_machine.cc:374] Starting new session\n",
            "W0000 00:00:1755740125.170350    4997 tf_tfl_flatbuffer_helpers.cc:365] Ignored output_format.\n",
            "W0000 00:00:1755740125.170379    4997 tf_tfl_flatbuffer_helpers.cc:368] Ignored drop_control_dependency.\n",
            "I0000 00:00:1755740125.972620    4997 devices.cc:67] Number of eligible GPUs (core count >= 8, compute capability >= 0.0): 0\n",
            "I0000 00:00:1755740125.972749    4997 single_machine.cc:374] Starting new session\n",
            "W0000 00:00:1755740126.553239    4997 tf_tfl_flatbuffer_helpers.cc:365] Ignored output_format.\n",
            "W0000 00:00:1755740126.553285    4997 tf_tfl_flatbuffer_helpers.cc:368] Ignored drop_control_dependency.\n",
            "I0000 00:00:1755740127.208792    4997 devices.cc:67] Number of eligible GPUs (core count >= 8, compute capability >= 0.0): 0\n",
            "I0000 00:00:1755740127.208933    4997 single_machine.cc:374] Starting new session\n",
            "W0000 00:00:1755740127.763503    4997 tf_tfl_flatbuffer_helpers.cc:365] Ignored output_format.\n",
            "W0000 00:00:1755740127.763537    4997 tf_tfl_flatbuffer_helpers.cc:368] Ignored drop_control_dependency.\n",
            "\n",
            "\n",
            "W0000 00:00:1755740129.690214    4997 tf_tfl_flatbuffer_helpers.cc:365] Ignored output_format.\n",
            "W0000 00:00:1755740129.690248    4997 tf_tfl_flatbuffer_helpers.cc:368] Ignored drop_control_dependency.\n",
            "I0000 00:00:1755740129.720078    4997 mlir_graph_optimization_pass.cc:425] MLIR V1 optimization pass is not enabled\n",
            "fully_quantize: 0, inference_type: 6, input_inference_type: FLOAT32, output_inference_type: FLOAT32\n",
            "W0000 00:00:1755740199.821124    4997 tf_tfl_flatbuffer_helpers.cc:365] Ignored output_format.\n",
            "W0000 00:00:1755740199.821154    4997 tf_tfl_flatbuffer_helpers.cc:368] Ignored drop_control_dependency.\n",
            "fully_quantize: 0, inference_type: 6, input_inference_type: INT8, output_inference_type: INT8\n",
            "W0000 00:00:1755740269.933594    4997 tf_tfl_flatbuffer_helpers.cc:365] Ignored output_format.\n",
            "W0000 00:00:1755740269.933628    4997 tf_tfl_flatbuffer_helpers.cc:368] Ignored drop_control_dependency.\n",
            "W0000 00:00:1755740407.862551    4997 tf_tfl_flatbuffer_helpers.cc:365] Ignored output_format.\n",
            "W0000 00:00:1755740407.862581    4997 tf_tfl_flatbuffer_helpers.cc:368] Ignored drop_control_dependency.\n",
            "\u001b[34m\u001b[1mTensorFlow SavedModel:\u001b[0m export success ✅ 442.7s, saved as '/content/runs/detect/train/weights/best_saved_model' (38.3 MB)\n",
            "\n",
            "\u001b[34m\u001b[1mTensorFlow Lite:\u001b[0m starting export with tensorflow 2.19.0...\n",
            "\u001b[34m\u001b[1mTensorFlow Lite:\u001b[0m export success ✅ 0.0s, saved as '/content/runs/detect/train/weights/best_saved_model/best_int8.tflite' (3.0 MB)\n",
            "\n",
            "Export complete (443.1s)\n",
            "Results saved to \u001b[1m/content/runs/detect/train/weights\u001b[0m\n",
            "Predict:         yolo predict task=detect model=/content/runs/detect/train/weights/best_saved_model/best_int8.tflite imgsz=480 int8 \n",
            "Validate:        yolo val task=detect model=/content/runs/detect/train/weights/best_saved_model/best_int8.tflite imgsz=480 data=data.yaml int8 \n",
            "Visualize:       https://netron.app\n",
            "💡 Learn more at https://docs.ultralytics.com/modes/export\n"
          ]
        }
      ]
    },
    {
      "cell_type": "code",
      "source": [
        "import tensorflow as tf"
      ],
      "metadata": {
        "id": "PnzzV9oaMfPM"
      },
      "execution_count": 10,
      "outputs": []
    },
    {
      "cell_type": "code",
      "source": [
        "import cv2\n",
        "import numpy as np\n",
        "from pathlib import Path\n",
        "def representative_dataset_gen():\n",
        "    \"\"\"export/images 폴더의 이미지들을 사용한 대표 데이터셋 생성기\"\"\"\n",
        "\n",
        "    # 이미지 폴더 경로\n",
        "    image_folder = Path(\"./train/images\")\n",
        "\n",
        "    # 지원하는 이미지 확장자\n",
        "    image_extensions = ['.jpg', '.jpeg', '.png', '.bmp', '.tiff']\n",
        "\n",
        "    # 이미지 파일 목록 가져오기\n",
        "    image_files = []\n",
        "    for ext in image_extensions:\n",
        "        image_files.extend(list(image_folder.glob(f\"*{ext}\")))\n",
        "        image_files.extend(list(image_folder.glob(f\"*{ext.upper()}\")))\n",
        "\n",
        "    if not image_files:\n",
        "        print(f\"Warning: No images found in {image_folder}\")\n",
        "\n",
        "        return\n",
        "\n",
        "    print(f\"Found {len(image_files)} images for representative dataset\")\n",
        "\n",
        "    # 이미지 전처리 및 yield\n",
        "    for i, img_path in enumerate(image_files):\n",
        "        try:\n",
        "            # 이미지 읽기\n",
        "            img = cv2.imread(str(img_path))\n",
        "            if img is None:\n",
        "                continue\n",
        "\n",
        "            # BGR to RGB\n",
        "            img = cv2.cvtColor(img, cv2.COLOR_BGR2RGB)\n",
        "\n",
        "            # 640x640으로 리사이즈 (YOLO 입력 크기에 맞춤)\n",
        "            img = cv2.resize(img, (480, 480))\n",
        "\n",
        "            # 정규화 (0-255 -> 0-1)\n",
        "            img = img.astype(np.float32) / 255.0\n",
        "\n",
        "            # 배치 차원 추가 (1, 640, 640, 3)\n",
        "            img = np.expand_dims(img, axis=0)\n",
        "\n",
        "            yield [img]\n",
        "\n",
        "            # 너무 많은 이미지는 사용하지 않음 (최대 100개)\n",
        "            if i >= 300:\n",
        "                break\n",
        "\n",
        "        except Exception as e:\n",
        "            print(f\"Error processing {img_path}: {e}\")\n",
        "            continue"
      ],
      "metadata": {
        "id": "0A9wPQTJL8q5"
      },
      "execution_count": 11,
      "outputs": []
    },
    {
      "cell_type": "code",
      "source": [
        "# 4. 직접 TFLite로 변환 (uint8 설정 가능)\n",
        "converter = tf.lite.TFLiteConverter.from_saved_model('/content/runs/detect/train/weights/best_saved_model')\n",
        "converter.optimizations = [tf.lite.Optimize.DEFAULT]\n",
        "converter.representative_dataset = representative_dataset_gen\n",
        "converter.target_spec.supported_ops = [tf.lite.OpsSet.TFLITE_BUILTINS_INT8]\n",
        "converter.inference_input_type = tf.uint8  # uint8로 설정\n",
        "converter.inference_output_type = tf.float32\n",
        "\n",
        "tflite_model = converter.convert()\n",
        "with open('yolov8n_uint8_32.tflite', 'wb') as f:\n",
        "  f.write(tflite_model)\n",
        "\n",
        "print(\"Successfully converted to uint8 TFLite model!\")"
      ],
      "metadata": {
        "colab": {
          "base_uri": "https://localhost:8080/"
        },
        "id": "btNq3QNxMA_G",
        "outputId": "bba149f5-d3f2-414e-fb86-f73a9646465d"
      },
      "execution_count": 13,
      "outputs": [
        {
          "output_type": "stream",
          "name": "stdout",
          "text": [
            "Found 465 images for representative dataset\n",
            "Successfully converted to uint8 TFLite model!\n"
          ]
        }
      ]
    },
    {
      "cell_type": "code",
      "source": [
        "# 4. 직접 TFLite로 변환 (uint8 설정 가능)\n",
        "converter = tf.lite.TFLiteConverter.from_saved_model('/content/runs/detect/train/weights/best_saved_model')\n",
        "converter.optimizations = [tf.lite.Optimize.DEFAULT]\n",
        "converter.representative_dataset = representative_dataset_gen\n",
        "converter.target_spec.supported_ops = [tf.lite.OpsSet.TFLITE_BUILTINS_INT8]\n",
        "converter.inference_input_type = tf.uint8  # uint8로 설정\n",
        "converter.inference_output_type = tf.uint8\n",
        "\n",
        "tflite_model = converter.convert()\n",
        "with open('yolov8n_uint8.tflite', 'wb') as f:\n",
        "  f.write(tflite_model)\n",
        "\n",
        "print(\"Successfully converted to uint8 TFLite model!\")"
      ],
      "metadata": {
        "colab": {
          "base_uri": "https://localhost:8080/"
        },
        "id": "qpBkAQyRTZu2",
        "outputId": "9db59b86-f532-48d8-ac0f-7f3c491684c4"
      },
      "execution_count": 14,
      "outputs": [
        {
          "output_type": "stream",
          "name": "stdout",
          "text": [
            "Found 465 images for representative dataset\n",
            "Successfully converted to uint8 TFLite model!\n"
          ]
        }
      ]
    },
    {
      "cell_type": "code",
      "source": [
        "!zip -r runs.zip ./runs/*"
      ],
      "metadata": {
        "colab": {
          "base_uri": "https://localhost:8080/"
        },
        "id": "QIEM7hbYO91t",
        "outputId": "cd2b8134-2199-440b-8684-724e68836664"
      },
      "execution_count": 17,
      "outputs": [
        {
          "output_type": "stream",
          "name": "stdout",
          "text": [
            "  adding: runs/detect/ (stored 0%)\n",
            "  adding: runs/detect/train/ (stored 0%)\n",
            "  adding: runs/detect/train/train_batch1.jpg (deflated 3%)\n",
            "  adding: runs/detect/train/args.yaml (deflated 53%)\n",
            "  adding: runs/detect/train/train_batch2402.jpg (deflated 5%)\n",
            "  adding: runs/detect/train/confusion_matrix.png (deflated 37%)\n",
            "  adding: runs/detect/train/train_batch2401.jpg (deflated 7%)\n",
            "  adding: runs/detect/train/confusion_matrix_normalized.png (deflated 36%)\n",
            "  adding: runs/detect/train/BoxR_curve.png (deflated 16%)\n",
            "  adding: runs/detect/train/labels.jpg (deflated 33%)\n",
            "  adding: runs/detect/train/val_batch0_pred.jpg (deflated 6%)\n",
            "  adding: runs/detect/train/val_batch0_labels.jpg (deflated 6%)\n",
            "  adding: runs/detect/train/results.csv (deflated 61%)\n",
            "  adding: runs/detect/train/BoxF1_curve.png (deflated 17%)\n",
            "  adding: runs/detect/train/BoxPR_curve.png (deflated 19%)\n",
            "  adding: runs/detect/train/val_batch2_labels.jpg (deflated 6%)\n",
            "  adding: runs/detect/train/val_batch2_pred.jpg (deflated 6%)\n",
            "  adding: runs/detect/train/labels_correlogram.jpg (deflated 38%)\n",
            "  adding: runs/detect/train/results.png (deflated 7%)\n",
            "  adding: runs/detect/train/weights/ (stored 0%)\n",
            "  adding: runs/detect/train/weights/best.onnx (deflated 14%)\n",
            "  adding: runs/detect/train/weights/last.pt (deflated 9%)\n",
            "  adding: runs/detect/train/weights/best_saved_model/ (stored 0%)\n",
            "  adding: runs/detect/train/weights/best_saved_model/assets/ (stored 0%)\n",
            "  adding: runs/detect/train/weights/best_saved_model/metadata.yaml (deflated 35%)\n",
            "  adding: runs/detect/train/weights/best_saved_model/best_full_integer_quant.tflite (deflated 30%)\n",
            "  adding: runs/detect/train/weights/best_saved_model/variables/ (stored 0%)\n",
            "  adding: runs/detect/train/weights/best_saved_model/variables/variables.data-00000-of-00001 (deflated 86%)\n",
            "  adding: runs/detect/train/weights/best_saved_model/variables/variables.index (deflated 34%)\n",
            "  adding: runs/detect/train/weights/best_saved_model/fingerprint.pb (stored 0%)\n",
            "  adding: runs/detect/train/weights/best_saved_model/best_integer_quant.tflite (deflated 30%)\n",
            "  adding: runs/detect/train/weights/best_saved_model/best_float32.tflite (deflated 14%)\n",
            "  adding: runs/detect/train/weights/best_saved_model/saved_model.pb (deflated 10%)\n",
            "  adding: runs/detect/train/weights/best_saved_model/best_int8.tflite (deflated 32%)\n",
            "  adding: runs/detect/train/weights/best_saved_model/best_float16.tflite (deflated 9%)\n",
            "  adding: runs/detect/train/weights/best.pt (deflated 9%)\n",
            "  adding: runs/detect/train/BoxP_curve.png (deflated 16%)\n",
            "  adding: runs/detect/train/train_batch0.jpg (deflated 3%)\n",
            "  adding: runs/detect/train/val_batch1_labels.jpg (deflated 6%)\n",
            "  adding: runs/detect/train/val_batch1_pred.jpg (deflated 6%)\n",
            "  adding: runs/detect/train/train_batch2400.jpg (deflated 8%)\n",
            "  adding: runs/detect/train/train_batch2.jpg (deflated 2%)\n"
          ]
        }
      ]
    },
    {
      "cell_type": "code",
      "source": [
        "# 4. 직접 TFLite로 변환 (uint8 설정 가능)\n",
        "converter = tf.lite.TFLiteConverter.from_saved_model('/content/runs/detect/train/weights/best_saved_model')\n",
        "converter.optimizations = [tf.lite.Optimize.DEFAULT]\n",
        "converter.representative_dataset = representative_dataset_gen\n",
        "converter.target_spec.supported_ops = [tf.lite.OpsSet.TFLITE_BUILTINS_INT8]\n",
        "converter.inference_input_type = tf.uint8  # uint8로 설정\n",
        "converter.inference_output_type = tf.int8\n",
        "\n",
        "tflite_model = converter.convert()\n",
        "with open('yolov8n_uint8_int8.tflite', 'wb') as f:\n",
        "  f.write(tflite_model)\n",
        "\n",
        "print(\"Successfully converted to uint8 TFLite model!\")"
      ],
      "metadata": {
        "colab": {
          "base_uri": "https://localhost:8080/"
        },
        "id": "YPhuzkAzgQRR",
        "outputId": "6fbe5111-0647-4e3f-9602-9b7070070c08"
      },
      "execution_count": 16,
      "outputs": [
        {
          "output_type": "stream",
          "name": "stdout",
          "text": [
            "Found 465 images for representative dataset\n",
            "Successfully converted to uint8 TFLite model!\n"
          ]
        }
      ]
    }
  ]
}